{
 "nbformat": 4,
 "nbformat_minor": 0,
 "metadata": {
  "colab": {
   "name": "Clustering.ipynb",
   "provenance": [],
   "private_outputs": true
  },
  "kernelspec": {
   "name": "python3",
   "display_name": "Python 3"
  },
  "language_info": {
   "name": "python"
  }
 },
 "cells": [
  {
   "cell_type": "code",
   "execution_count": 1,
   "metadata": {
    "id": "iaax4m8E9wlh"
   },
   "outputs": [],
   "source": [
    "import numpy as np\n",
    "import matplotlib.pyplot as plt"
   ]
  },
  {
   "cell_type": "code",
   "source": [
    "a1=np.array([6.8, 0.8, 1.2, 2.8, 3.8, 4.4, 4.8, 6.0, 6.2, 7.6, 7.8, 6.6, 8.2, 8.4, 9.0, 9.6])\n",
    "a2=np.array([12.6, 9.8, 11.6, 9.6, 9.9, 6.5, 1.1, 19.9, 18.5, 17.4, 12.2, 7.7, 4.5, 6.9, 3.4, 11.1])"
   ],
   "metadata": {
    "id": "LmjxxBzQ-KfT"
   },
   "execution_count": 2,
   "outputs": []
  },
  {
   "cell_type": "code",
   "source": [
    "a1.shape"
   ],
   "metadata": {
    "id": "nDCy8Z__-vcC"
   },
   "execution_count": 3,
   "outputs": [
    {
     "data": {
      "text/plain": "(16,)"
     },
     "execution_count": 3,
     "metadata": {},
     "output_type": "execute_result"
    }
   ]
  },
  {
   "cell_type": "code",
   "source": [
    "a2.shape"
   ],
   "metadata": {
    "id": "HPMzTUum-yj5"
   },
   "execution_count": 4,
   "outputs": [
    {
     "data": {
      "text/plain": "(16,)"
     },
     "execution_count": 4,
     "metadata": {},
     "output_type": "execute_result"
    }
   ]
  },
  {
   "cell_type": "code",
   "source": [
    "c1=np.array([3.8, 9.9])\n",
    "c2=np.array([7.8, 12.2])\n",
    "c3=np.array([6.2,18.5])"
   ],
   "metadata": {
    "id": "m5LCwU4J-0Ut"
   },
   "execution_count": 5,
   "outputs": []
  },
  {
   "cell_type": "code",
   "source": [
    "plt.scatter(a1, a2)\n",
    "plt.scatter(c1[0], c1[1], label='centroid 1')\n",
    "plt.scatter(c2[0], c2[1], label='centroid 2')\n",
    "plt.scatter(c3[0], c3[1], label='centroid 3')\n",
    "plt.legend()\n",
    "\n",
    "plt.show()"
   ],
   "metadata": {
    "id": "MygivZ4V_Sl0"
   },
   "execution_count": 6,
   "outputs": [
    {
     "data": {
      "text/plain": "<Figure size 432x288 with 1 Axes>",
      "image/png": "[encoded data removed]"
     },
     "metadata": {
      "needs_background": "light"
     },
     "output_type": "display_data"
    }
   ]
  },
  {
   "cell_type": "code",
   "source": [
    "def distance(a,b,c):\n",
    "  return(np.sqrt(((c[0]-a)**2)+((c[1]-b)**2)))"
   ],
   "metadata": {
    "id": "iiYo1X0S_cfE"
   },
   "execution_count": 7,
   "outputs": []
  },
  {
   "cell_type": "code",
   "source": [],
   "metadata": {
    "id": "1Nf7RK5gBJ4D"
   },
   "execution_count": 7,
   "outputs": []
  },
  {
   "cell_type": "code",
   "source": [
    "for j in range(5):\n",
    "  print(\"Iteration: \", j)\n",
    "  cluster1=[]\n",
    "  cluster2=[]\n",
    "  cluster3=[]\n",
    "  for i in range(np.size(a1)):\n",
    "    d1=distance(a1[i], a2[i], c1)\n",
    "    d2=distance(a1[i], a2[i], c2)\n",
    "    d3=distance(a1[i], a2[i], c3)\n",
    "    cluster=np.argmin([d1, d2, d3])\n",
    "    if cluster == 0:\n",
    "      cluster1.append([a1[i],a2[i]])\n",
    "    elif cluster ==1:\n",
    "      cluster2.append([a1[i],a2[i]])\n",
    "    else:\n",
    "      cluster3.append([a1[i],a2[i]])\n",
    "  for i in range(len(cluster1)):\n",
    "    plt.scatter(cluster1[i][0], cluster1[i][1], c='orange')\n",
    "  for i in range(len(cluster2)):\n",
    "    plt.scatter(cluster2[i][0], cluster2[i][1], c='green')\n",
    "  for i in range(len(cluster3)):\n",
    "    plt.scatter(cluster3[i][0], cluster3[i][1], c='red')\n",
    "  plt.show()\n",
    "  cluster1=np.array(cluster1)\n",
    "  cluster2=np.array(cluster2)\n",
    "  cluster3=np.array(cluster3)\n",
    "  c1=np.mean(cluster1, axis=0)\n",
    "  c2=np.mean(cluster2, axis=0)\n",
    "  c3=np.mean(cluster3, axis=0)\n",
    "  print(c1)\n",
    "  print(c2)\n",
    "  print(c3)\n",
    "\n",
    "\n",
    "\n"
   ],
   "metadata": {
    "id": "IB59GJJ0BUgf"
   },
   "execution_count": 8,
   "outputs": [
    {
     "name": "stdout",
     "output_type": "stream",
     "text": [
      "Iteration:  0\n"
     ]
    },
    {
     "data": {
      "text/plain": "<Figure size 432x288 with 1 Axes>",
      "image/png": "[encoded data removed]"
     },
     "metadata": {
      "needs_background": "light"
     },
     "output_type": "display_data"
    },
    {
     "name": "stdout",
     "output_type": "stream",
     "text": [
      "[4.62222222 7.12222222]\n",
      "[ 8.15 10.7 ]\n",
      "[ 6.6 18.6]\n",
      "Iteration:  1\n"
     ]
    },
    {
     "data": {
      "text/plain": "<Figure size 432x288 with 1 Axes>",
      "image/png": "[encoded data removed]"
     },
     "metadata": {
      "needs_background": "light"
     },
     "output_type": "display_data"
    },
    {
     "name": "stdout",
     "output_type": "stream",
     "text": [
      "[5.  7.1]\n",
      "[ 8.06666667 11.96666667]\n",
      "[ 6.6 18.6]\n",
      "Iteration:  2\n"
     ]
    },
    {
     "data": {
      "text/plain": "<Figure size 432x288 with 1 Axes>",
      "image/png": "[encoded data removed]"
     },
     "metadata": {
      "needs_background": "light"
     },
     "output_type": "display_data"
    },
    {
     "name": "stdout",
     "output_type": "stream",
     "text": [
      "[5.  7.1]\n",
      "[ 8.06666667 11.96666667]\n",
      "[ 6.6 18.6]\n",
      "Iteration:  3\n"
     ]
    },
    {
     "data": {
      "text/plain": "<Figure size 432x288 with 1 Axes>",
      "image/png": "[encoded data removed]"
     },
     "metadata": {
      "needs_background": "light"
     },
     "output_type": "display_data"
    },
    {
     "name": "stdout",
     "output_type": "stream",
     "text": [
      "[5.  7.1]\n",
      "[ 8.06666667 11.96666667]\n",
      "[ 6.6 18.6]\n",
      "Iteration:  4\n"
     ]
    },
    {
     "data": {
      "text/plain": "<Figure size 432x288 with 1 Axes>",
      "image/png": "[encoded data removed]"
     },
     "metadata": {
      "needs_background": "light"
     },
     "output_type": "display_data"
    },
    {
     "name": "stdout",
     "output_type": "stream",
     "text": [
      "[5.  7.1]\n",
      "[ 8.06666667 11.96666667]\n",
      "[ 6.6 18.6]\n"
     ]
    }
   ]
  },
  {
   "cell_type": "code",
   "source": [
    "print(\"Cluster 1: \", cluster1)"
   ],
   "metadata": {
    "id": "MGOWSTiFCP87"
   },
   "execution_count": 9,
   "outputs": [
    {
     "name": "stdout",
     "output_type": "stream",
     "text": [
      "Cluster 1:  [[ 0.8  9.8]\n",
      " [ 1.2 11.6]\n",
      " [ 2.8  9.6]\n",
      " [ 3.8  9.9]\n",
      " [ 4.4  6.5]\n",
      " [ 4.8  1.1]\n",
      " [ 6.6  7.7]\n",
      " [ 8.2  4.5]\n",
      " [ 8.4  6.9]\n",
      " [ 9.   3.4]]\n"
     ]
    }
   ]
  },
  {
   "cell_type": "code",
   "source": [
    "print(\"cluster 2: \", cluster2)"
   ],
   "metadata": {
    "id": "D3vjB81HCY5J"
   },
   "execution_count": 10,
   "outputs": [
    {
     "name": "stdout",
     "output_type": "stream",
     "text": [
      "cluster 2:  [[ 6.8 12.6]\n",
      " [ 7.8 12.2]\n",
      " [ 9.6 11.1]]\n"
     ]
    }
   ]
  },
  {
   "cell_type": "code",
   "source": [
    "print(\"Cluster 3: \", cluster3)"
   ],
   "metadata": {
    "id": "rk0fGFqICmvo"
   },
   "execution_count": 11,
   "outputs": [
    {
     "name": "stdout",
     "output_type": "stream",
     "text": [
      "Cluster 3:  [[ 6.  19.9]\n",
      " [ 6.2 18.5]\n",
      " [ 7.6 17.4]]\n"
     ]
    }
   ]
  },
  {
   "cell_type": "code",
   "source": [],
   "metadata": {
    "id": "Rny_1k4sCrhg"
   },
   "execution_count": 11,
   "outputs": []
  },
  {
   "cell_type": "code",
   "source": [
    "cluster1=np.array(cluster1)\n",
    "cluster2=np.array(cluster2)\n",
    "cluster3=np.array(cluster3)"
   ],
   "metadata": {
    "id": "gEqPO7EEEPbs"
   },
   "execution_count": 12,
   "outputs": []
  },
  {
   "cell_type": "code",
   "source": [
    "c1=np.mean(cluster1, axis=0)\n",
    "c2=np.mean(cluster2, axis=0)\n",
    "c3=np.mean(cluster3, axis=0)"
   ],
   "metadata": {
    "id": "wtAVxqYlE5m9"
   },
   "execution_count": 13,
   "outputs": []
  },
  {
   "cell_type": "code",
   "source": [
    "print(c1)\n",
    "print(c2)\n",
    "print(c3)"
   ],
   "metadata": {
    "id": "iHcBoF6sFHUQ"
   },
   "execution_count": 14,
   "outputs": [
    {
     "name": "stdout",
     "output_type": "stream",
     "text": [
      "[5.  7.1]\n",
      "[ 8.06666667 11.96666667]\n",
      "[ 6.6 18.6]\n"
     ]
    }
   ]
  },
  {
   "cell_type": "code",
   "source": [
    "import pandas as pd"
   ],
   "metadata": {
    "id": "BYj8H-76FIGd"
   },
   "execution_count": 15,
   "outputs": []
  },
  {
   "cell_type": "code",
   "source": [
    "df1=pd.read_csv('Ceramic.csv')"
   ],
   "metadata": {
    "id": "0aK2M59yKy4q"
   },
   "execution_count": 16,
   "outputs": []
  },
  {
   "cell_type": "code",
   "source": [
    "df1.head()"
   ],
   "metadata": {
    "id": "NKsuLBU-LuIY"
   },
   "execution_count": 17,
   "outputs": [
    {
     "data": {
      "text/plain": "  Ceramic Name  Part  Na2O   MgO  Al2O3   SiO2   K2O   CaO  TiO2  Fe2O3  MnO  \\\n0      FLQ-1-b  Body  0.62  0.38  19.61  71.99  4.84  0.31  0.07   1.18  630   \n1      FLQ-2-b  Body  0.57  0.47  21.19  70.09  4.98  0.49  0.09   1.12  380   \n2      FLQ-3-b  Body  0.49  0.19  18.60  74.70  3.47  0.43  0.06   1.07  420   \n3      FLQ-4-b  Body  0.89  0.30  18.01  74.19  4.01  0.27  0.09   1.23  460   \n4      FLQ-5-b  Body  0.03  0.36  18.41  73.99  4.33  0.65  0.05   1.19  380   \n\n   CuO  ZnO  PbO2  Rb2O  SrO  Y2O3  ZrO2  P2O5  \n0   10   70    10   430    0    40    80    90  \n1   20   80    40   430  -10    40   100   110  \n2   20   50    50   380   40    40    80   200  \n3   20   70    60   380   10    40    70   210  \n4   40   90    40   360   10    30    80   150  ",
      "text/html": "<div>\n<style scoped>\n    .dataframe tbody tr th:only-of-type {\n        vertical-align: middle;\n    }\n\n    .dataframe tbody tr th {\n        vertical-align: top;\n    }\n\n    .dataframe thead th {\n        text-align: right;\n    }\n</style>\n<table border=\"1\" class=\"dataframe\">\n  <thead>\n    <tr style=\"text-align: right;\">\n      <th></th>\n      <th>Ceramic Name</th>\n      <th>Part</th>\n      <th>Na2O</th>\n      <th>MgO</th>\n      <th>Al2O3</th>\n      <th>SiO2</th>\n      <th>K2O</th>\n      <th>CaO</th>\n      <th>TiO2</th>\n      <th>Fe2O3</th>\n      <th>MnO</th>\n      <th>CuO</th>\n      <th>ZnO</th>\n      <th>PbO2</th>\n      <th>Rb2O</th>\n      <th>SrO</th>\n      <th>Y2O3</th>\n      <th>ZrO2</th>\n      <th>P2O5</th>\n    </tr>\n  </thead>\n  <tbody>\n    <tr>\n      <th>0</th>\n      <td>FLQ-1-b</td>\n      <td>Body</td>\n      <td>0.62</td>\n      <td>0.38</td>\n      <td>19.61</td>\n      <td>71.99</td>\n      <td>4.84</td>\n      <td>0.31</td>\n      <td>0.07</td>\n      <td>1.18</td>\n      <td>630</td>\n      <td>10</td>\n      <td>70</td>\n      <td>10</td>\n      <td>430</td>\n      <td>0</td>\n      <td>40</td>\n      <td>80</td>\n      <td>90</td>\n    </tr>\n    <tr>\n      <th>1</th>\n      <td>FLQ-2-b</td>\n      <td>Body</td>\n      <td>0.57</td>\n      <td>0.47</td>\n      <td>21.19</td>\n      <td>70.09</td>\n      <td>4.98</td>\n      <td>0.49</td>\n      <td>0.09</td>\n      <td>1.12</td>\n      <td>380</td>\n      <td>20</td>\n      <td>80</td>\n      <td>40</td>\n      <td>430</td>\n      <td>-10</td>\n      <td>40</td>\n      <td>100</td>\n      <td>110</td>\n    </tr>\n    <tr>\n      <th>2</th>\n      <td>FLQ-3-b</td>\n      <td>Body</td>\n      <td>0.49</td>\n      <td>0.19</td>\n      <td>18.60</td>\n      <td>74.70</td>\n      <td>3.47</td>\n      <td>0.43</td>\n      <td>0.06</td>\n      <td>1.07</td>\n      <td>420</td>\n      <td>20</td>\n      <td>50</td>\n      <td>50</td>\n      <td>380</td>\n      <td>40</td>\n      <td>40</td>\n      <td>80</td>\n      <td>200</td>\n    </tr>\n    <tr>\n      <th>3</th>\n      <td>FLQ-4-b</td>\n      <td>Body</td>\n      <td>0.89</td>\n      <td>0.30</td>\n      <td>18.01</td>\n      <td>74.19</td>\n      <td>4.01</td>\n      <td>0.27</td>\n      <td>0.09</td>\n      <td>1.23</td>\n      <td>460</td>\n      <td>20</td>\n      <td>70</td>\n      <td>60</td>\n      <td>380</td>\n      <td>10</td>\n      <td>40</td>\n      <td>70</td>\n      <td>210</td>\n    </tr>\n    <tr>\n      <th>4</th>\n      <td>FLQ-5-b</td>\n      <td>Body</td>\n      <td>0.03</td>\n      <td>0.36</td>\n      <td>18.41</td>\n      <td>73.99</td>\n      <td>4.33</td>\n      <td>0.65</td>\n      <td>0.05</td>\n      <td>1.19</td>\n      <td>380</td>\n      <td>40</td>\n      <td>90</td>\n      <td>40</td>\n      <td>360</td>\n      <td>10</td>\n      <td>30</td>\n      <td>80</td>\n      <td>150</td>\n    </tr>\n  </tbody>\n</table>\n</div>"
     },
     "execution_count": 17,
     "metadata": {},
     "output_type": "execute_result"
    }
   ]
  },
  {
   "cell_type": "code",
   "source": [
    "df1.shape"
   ],
   "metadata": {
    "id": "m68-SToXLwY_"
   },
   "execution_count": 18,
   "outputs": [
    {
     "data": {
      "text/plain": "(88, 19)"
     },
     "execution_count": 18,
     "metadata": {},
     "output_type": "execute_result"
    }
   ]
  },
  {
   "cell_type": "code",
   "source": [
    "df2=df1.drop(columns=['Ceramic Name', 'Part'])"
   ],
   "metadata": {
    "id": "xd5MKyjdL17w"
   },
   "execution_count": 19,
   "outputs": []
  },
  {
   "cell_type": "code",
   "source": [
    "df2.head()"
   ],
   "metadata": {
    "id": "-4KK4uiiMDiT"
   },
   "execution_count": 20,
   "outputs": [
    {
     "data": {
      "text/plain": "   Na2O   MgO  Al2O3   SiO2   K2O   CaO  TiO2  Fe2O3  MnO  CuO  ZnO  PbO2  \\\n0  0.62  0.38  19.61  71.99  4.84  0.31  0.07   1.18  630   10   70    10   \n1  0.57  0.47  21.19  70.09  4.98  0.49  0.09   1.12  380   20   80    40   \n2  0.49  0.19  18.60  74.70  3.47  0.43  0.06   1.07  420   20   50    50   \n3  0.89  0.30  18.01  74.19  4.01  0.27  0.09   1.23  460   20   70    60   \n4  0.03  0.36  18.41  73.99  4.33  0.65  0.05   1.19  380   40   90    40   \n\n   Rb2O  SrO  Y2O3  ZrO2  P2O5  \n0   430    0    40    80    90  \n1   430  -10    40   100   110  \n2   380   40    40    80   200  \n3   380   10    40    70   210  \n4   360   10    30    80   150  ",
      "text/html": "<div>\n<style scoped>\n    .dataframe tbody tr th:only-of-type {\n        vertical-align: middle;\n    }\n\n    .dataframe tbody tr th {\n        vertical-align: top;\n    }\n\n    .dataframe thead th {\n        text-align: right;\n    }\n</style>\n<table border=\"1\" class=\"dataframe\">\n  <thead>\n    <tr style=\"text-align: right;\">\n      <th></th>\n      <th>Na2O</th>\n      <th>MgO</th>\n      <th>Al2O3</th>\n      <th>SiO2</th>\n      <th>K2O</th>\n      <th>CaO</th>\n      <th>TiO2</th>\n      <th>Fe2O3</th>\n      <th>MnO</th>\n      <th>CuO</th>\n      <th>ZnO</th>\n      <th>PbO2</th>\n      <th>Rb2O</th>\n      <th>SrO</th>\n      <th>Y2O3</th>\n      <th>ZrO2</th>\n      <th>P2O5</th>\n    </tr>\n  </thead>\n  <tbody>\n    <tr>\n      <th>0</th>\n      <td>0.62</td>\n      <td>0.38</td>\n      <td>19.61</td>\n      <td>71.99</td>\n      <td>4.84</td>\n      <td>0.31</td>\n      <td>0.07</td>\n      <td>1.18</td>\n      <td>630</td>\n      <td>10</td>\n      <td>70</td>\n      <td>10</td>\n      <td>430</td>\n      <td>0</td>\n      <td>40</td>\n      <td>80</td>\n      <td>90</td>\n    </tr>\n    <tr>\n      <th>1</th>\n      <td>0.57</td>\n      <td>0.47</td>\n      <td>21.19</td>\n      <td>70.09</td>\n      <td>4.98</td>\n      <td>0.49</td>\n      <td>0.09</td>\n      <td>1.12</td>\n      <td>380</td>\n      <td>20</td>\n      <td>80</td>\n      <td>40</td>\n      <td>430</td>\n      <td>-10</td>\n      <td>40</td>\n      <td>100</td>\n      <td>110</td>\n    </tr>\n    <tr>\n      <th>2</th>\n      <td>0.49</td>\n      <td>0.19</td>\n      <td>18.60</td>\n      <td>74.70</td>\n      <td>3.47</td>\n      <td>0.43</td>\n      <td>0.06</td>\n      <td>1.07</td>\n      <td>420</td>\n      <td>20</td>\n      <td>50</td>\n      <td>50</td>\n      <td>380</td>\n      <td>40</td>\n      <td>40</td>\n      <td>80</td>\n      <td>200</td>\n    </tr>\n    <tr>\n      <th>3</th>\n      <td>0.89</td>\n      <td>0.30</td>\n      <td>18.01</td>\n      <td>74.19</td>\n      <td>4.01</td>\n      <td>0.27</td>\n      <td>0.09</td>\n      <td>1.23</td>\n      <td>460</td>\n      <td>20</td>\n      <td>70</td>\n      <td>60</td>\n      <td>380</td>\n      <td>10</td>\n      <td>40</td>\n      <td>70</td>\n      <td>210</td>\n    </tr>\n    <tr>\n      <th>4</th>\n      <td>0.03</td>\n      <td>0.36</td>\n      <td>18.41</td>\n      <td>73.99</td>\n      <td>4.33</td>\n      <td>0.65</td>\n      <td>0.05</td>\n      <td>1.19</td>\n      <td>380</td>\n      <td>40</td>\n      <td>90</td>\n      <td>40</td>\n      <td>360</td>\n      <td>10</td>\n      <td>30</td>\n      <td>80</td>\n      <td>150</td>\n    </tr>\n  </tbody>\n</table>\n</div>"
     },
     "execution_count": 20,
     "metadata": {},
     "output_type": "execute_result"
    }
   ]
  },
  {
   "cell_type": "code",
   "source": [
    "df2.isnull().sum()"
   ],
   "metadata": {
    "id": "oWsm8BurMFdI"
   },
   "execution_count": 21,
   "outputs": [
    {
     "data": {
      "text/plain": "Na2O     0\nMgO      0\nAl2O3    0\nSiO2     0\nK2O      0\nCaO      0\nTiO2     0\nFe2O3    0\nMnO      0\nCuO      0\nZnO      0\nPbO2     0\nRb2O     0\nSrO      0\nY2O3     0\nZrO2     0\nP2O5     0\ndtype: int64"
     },
     "execution_count": 21,
     "metadata": {},
     "output_type": "execute_result"
    }
   ]
  },
  {
   "cell_type": "code",
   "source": [
    "from sklearn.cluster import KMeans"
   ],
   "metadata": {
    "id": "FShUADcFML4q"
   },
   "execution_count": 22,
   "outputs": []
  },
  {
   "cell_type": "code",
   "source": [
    "km=KMeans(n_clusters=5)"
   ],
   "metadata": {
    "id": "Dw2Au9xMMWyX"
   },
   "execution_count": 23,
   "outputs": []
  },
  {
   "cell_type": "code",
   "source": [
    "km.fit(df2)"
   ],
   "metadata": {
    "id": "FyiU2QDXMxH_"
   },
   "execution_count": 24,
   "outputs": [
    {
     "data": {
      "text/plain": "KMeans(n_clusters=5)"
     },
     "execution_count": 24,
     "metadata": {},
     "output_type": "execute_result"
    }
   ]
  },
  {
   "cell_type": "code",
   "source": [
    "km.inertia_"
   ],
   "metadata": {
    "id": "yFQE3q7RM2h7"
   },
   "execution_count": 25,
   "outputs": [
    {
     "data": {
      "text/plain": "6696314.378834006"
     },
     "execution_count": 25,
     "metadata": {},
     "output_type": "execute_result"
    }
   ]
  },
  {
   "cell_type": "code",
   "source": [
    "distortion=[]\n",
    "for i in range(1, 11):\n",
    "  km=KMeans(n_clusters=i)\n",
    "  km.fit(df2)\n",
    "  distortion.append(km.inertia_)"
   ],
   "metadata": {
    "id": "fq19ftckNJpm"
   },
   "execution_count": 26,
   "outputs": []
  },
  {
   "cell_type": "code",
   "source": [
    "distortion"
   ],
   "metadata": {
    "id": "cm3VQpC5NiVM"
   },
   "execution_count": 27,
   "outputs": [
    {
     "data": {
      "text/plain": "[53590908.14100455,\n 20124076.80840087,\n 11087664.76960203,\n 8145300.802096593,\n 6672328.359532101,\n 5531737.379951515,\n 4851770.728881872,\n 4170029.780537245,\n 3679734.621394467,\n 3275063.86198957]"
     },
     "execution_count": 27,
     "metadata": {},
     "output_type": "execute_result"
    }
   ]
  },
  {
   "cell_type": "code",
   "source": [
    "a=np.arange(1,11)"
   ],
   "metadata": {
    "id": "NVTgdlvHNkvq"
   },
   "execution_count": 28,
   "outputs": []
  },
  {
   "cell_type": "code",
   "source": [
    "plt.plot(a, distortion)\n",
    "plt.show()"
   ],
   "metadata": {
    "id": "o1Poy8fZNyoM"
   },
   "execution_count": 29,
   "outputs": [
    {
     "data": {
      "text/plain": "<Figure size 432x288 with 1 Axes>",
      "image/png": "[encoded data removed]"
     },
     "metadata": {
      "needs_background": "light"
     },
     "output_type": "display_data"
    }
   ]
  },
  {
   "cell_type": "code",
   "source": [
    "km.predict(df2)"
   ],
   "metadata": {
    "id": "8bFgXme6N3b4"
   },
   "execution_count": 30,
   "outputs": [
    {
     "data": {
      "text/plain": "array([0, 7, 7, 0, 7, 7, 0, 0, 7, 7, 7, 7, 7, 7, 7, 7, 7, 7, 7, 7, 7, 7,\n       7, 7, 7, 7, 7, 7, 7, 7, 7, 7, 7, 0, 7, 7, 7, 7, 7, 7, 7, 7, 7, 7,\n       0, 6, 0, 6, 6, 6, 6, 9, 2, 6, 0, 2, 0, 3, 3, 4, 2, 4, 3, 4, 2, 2,\n       2, 1, 3, 1, 4, 3, 1, 1, 2, 2, 1, 5, 6, 5, 4, 8, 5, 1, 1, 2, 6, 2])"
     },
     "execution_count": 30,
     "metadata": {},
     "output_type": "execute_result"
    }
   ]
  },
  {
   "cell_type": "code",
   "source": [
    "km1=KMeans(n_clusters=2)\n",
    "km1.fit(df2)\n",
    "result1=km1.predict(df2)"
   ],
   "metadata": {
    "id": "wz-6yYXZOrMS"
   },
   "execution_count": 31,
   "outputs": []
  },
  {
   "cell_type": "code",
   "source": [
    "result1.shape"
   ],
   "metadata": {
    "id": "ILw5y-3AO_fE"
   },
   "execution_count": 32,
   "outputs": [
    {
     "data": {
      "text/plain": "(88,)"
     },
     "execution_count": 32,
     "metadata": {},
     "output_type": "execute_result"
    }
   ]
  },
  {
   "cell_type": "code",
   "source": [
    "a1=np.arange(1,89)"
   ],
   "metadata": {
    "id": "BqsPsWgPPBfx"
   },
   "execution_count": 33,
   "outputs": []
  },
  {
   "cell_type": "code",
   "source": [
    "result1"
   ],
   "metadata": {
    "id": "7mcH_OuqPFps"
   },
   "execution_count": 34,
   "outputs": [
    {
     "data": {
      "text/plain": "array([1, 1, 1, 1, 1, 1, 1, 1, 1, 1, 1, 1, 1, 1, 1, 1, 1, 1, 1, 1, 1, 1,\n       1, 1, 1, 1, 1, 1, 1, 1, 1, 1, 1, 1, 1, 1, 1, 1, 1, 1, 1, 1, 1, 1,\n       1, 0, 1, 0, 0, 0, 0, 0, 1, 0, 1, 1, 1, 0, 0, 0, 0, 0, 0, 0, 0, 0,\n       1, 0, 0, 0, 0, 0, 0, 0, 1, 1, 0, 0, 0, 0, 0, 0, 0, 0, 0, 1, 0, 0])"
     },
     "execution_count": 34,
     "metadata": {},
     "output_type": "execute_result"
    }
   ]
  },
  {
   "cell_type": "code",
   "source": [
    "km2=KMeans(n_clusters=3)\n",
    "km2.fit(df2)\n",
    "result2=km2.predict(df2)"
   ],
   "metadata": {
    "id": "02HygXjCPN1o"
   },
   "execution_count": 35,
   "outputs": []
  },
  {
   "cell_type": "code",
   "source": [
    "result2"
   ],
   "metadata": {
    "id": "5gNVJJuMPdxH"
   },
   "execution_count": 36,
   "outputs": [
    {
     "data": {
      "text/plain": "array([0, 0, 0, 0, 0, 0, 0, 0, 0, 0, 0, 0, 0, 0, 0, 0, 0, 0, 0, 0, 0, 0,\n       0, 0, 0, 0, 0, 0, 0, 0, 0, 0, 0, 0, 0, 0, 0, 0, 0, 0, 0, 0, 0, 0,\n       0, 2, 0, 2, 2, 2, 2, 2, 2, 2, 2, 2, 0, 1, 1, 2, 2, 2, 1, 1, 2, 2,\n       2, 1, 1, 1, 2, 1, 2, 1, 2, 2, 1, 1, 2, 1, 2, 1, 1, 2, 1, 2, 2, 2])"
     },
     "execution_count": 36,
     "metadata": {},
     "output_type": "execute_result"
    }
   ]
  },
  {
   "cell_type": "code",
   "source": [
    "cluster_1=[]\n",
    "cluster_2=[]"
   ],
   "metadata": {
    "id": "ScqSuZ5ZPgCP"
   },
   "execution_count": 37,
   "outputs": []
  },
  {
   "cell_type": "code",
   "source": [
    "for i in range(88):\n",
    "  if result1[i]==1:\n",
    "    cluster_2.append(i)\n",
    "  else:\n",
    "    cluster_1.append(i)"
   ],
   "metadata": {
    "id": "vy10CpMPQPgb"
   },
   "execution_count": 38,
   "outputs": []
  },
  {
   "cell_type": "code",
   "source": [
    "cluster_1"
   ],
   "metadata": {
    "id": "FcVCA4h5Qbvi"
   },
   "execution_count": 39,
   "outputs": [
    {
     "data": {
      "text/plain": "[45,\n 47,\n 48,\n 49,\n 50,\n 51,\n 53,\n 57,\n 58,\n 59,\n 60,\n 61,\n 62,\n 63,\n 64,\n 65,\n 67,\n 68,\n 69,\n 70,\n 71,\n 72,\n 73,\n 76,\n 77,\n 78,\n 79,\n 80,\n 81,\n 82,\n 83,\n 84,\n 86,\n 87]"
     },
     "execution_count": 39,
     "metadata": {},
     "output_type": "execute_result"
    }
   ]
  },
  {
   "cell_type": "code",
   "source": [
    ""
   ],
   "metadata": {
    "id": "rLZxVZUUQh_2"
   },
   "execution_count": 39,
   "outputs": []
  }
 ]
}