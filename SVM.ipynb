{
 "cells": [
  {
   "cell_type": "code",
   "execution_count": 1,
   "id": "c0308c08",
   "metadata": {},
   "outputs": [],
   "source": [
    "url='https://archive.ics.uci.edu/ml/machine-learning-databases/adult/adult.data'"
   ]
  },
  {
   "cell_type": "code",
   "execution_count": 2,
   "id": "3f87b54f",
   "metadata": {},
   "outputs": [],
   "source": [
    "import pandas as pd"
   ]
  },
  {
   "cell_type": "code",
   "execution_count": 3,
   "id": "e54da1da",
   "metadata": {},
   "outputs": [],
   "source": [
    "df=pd.read_csv(url, header=None, na_values=' ?')"
   ]
  },
  {
   "cell_type": "code",
   "execution_count": 4,
   "id": "d3f26790",
   "metadata": {},
   "outputs": [
    {
     "data": {
      "text/html": [
       "<div>\n",
       "<style scoped>\n",
       "    .dataframe tbody tr th:only-of-type {\n",
       "        vertical-align: middle;\n",
       "    }\n",
       "\n",
       "    .dataframe tbody tr th {\n",
       "        vertical-align: top;\n",
       "    }\n",
       "\n",
       "    .dataframe thead th {\n",
       "        text-align: right;\n",
       "    }\n",
       "</style>\n",
       "<table border=\"1\" class=\"dataframe\">\n",
       "  <thead>\n",
       "    <tr style=\"text-align: right;\">\n",
       "      <th></th>\n",
       "      <th>0</th>\n",
       "      <th>1</th>\n",
       "      <th>2</th>\n",
       "      <th>3</th>\n",
       "      <th>4</th>\n",
       "      <th>5</th>\n",
       "      <th>6</th>\n",
       "      <th>7</th>\n",
       "      <th>8</th>\n",
       "      <th>9</th>\n",
       "      <th>10</th>\n",
       "      <th>11</th>\n",
       "      <th>12</th>\n",
       "      <th>13</th>\n",
       "      <th>14</th>\n",
       "    </tr>\n",
       "  </thead>\n",
       "  <tbody>\n",
       "    <tr>\n",
       "      <th>0</th>\n",
       "      <td>39</td>\n",
       "      <td>State-gov</td>\n",
       "      <td>77516</td>\n",
       "      <td>Bachelors</td>\n",
       "      <td>13</td>\n",
       "      <td>Never-married</td>\n",
       "      <td>Adm-clerical</td>\n",
       "      <td>Not-in-family</td>\n",
       "      <td>White</td>\n",
       "      <td>Male</td>\n",
       "      <td>2174</td>\n",
       "      <td>0</td>\n",
       "      <td>40</td>\n",
       "      <td>United-States</td>\n",
       "      <td>&lt;=50K</td>\n",
       "    </tr>\n",
       "    <tr>\n",
       "      <th>1</th>\n",
       "      <td>50</td>\n",
       "      <td>Self-emp-not-inc</td>\n",
       "      <td>83311</td>\n",
       "      <td>Bachelors</td>\n",
       "      <td>13</td>\n",
       "      <td>Married-civ-spouse</td>\n",
       "      <td>Exec-managerial</td>\n",
       "      <td>Husband</td>\n",
       "      <td>White</td>\n",
       "      <td>Male</td>\n",
       "      <td>0</td>\n",
       "      <td>0</td>\n",
       "      <td>13</td>\n",
       "      <td>United-States</td>\n",
       "      <td>&lt;=50K</td>\n",
       "    </tr>\n",
       "    <tr>\n",
       "      <th>2</th>\n",
       "      <td>38</td>\n",
       "      <td>Private</td>\n",
       "      <td>215646</td>\n",
       "      <td>HS-grad</td>\n",
       "      <td>9</td>\n",
       "      <td>Divorced</td>\n",
       "      <td>Handlers-cleaners</td>\n",
       "      <td>Not-in-family</td>\n",
       "      <td>White</td>\n",
       "      <td>Male</td>\n",
       "      <td>0</td>\n",
       "      <td>0</td>\n",
       "      <td>40</td>\n",
       "      <td>United-States</td>\n",
       "      <td>&lt;=50K</td>\n",
       "    </tr>\n",
       "    <tr>\n",
       "      <th>3</th>\n",
       "      <td>53</td>\n",
       "      <td>Private</td>\n",
       "      <td>234721</td>\n",
       "      <td>11th</td>\n",
       "      <td>7</td>\n",
       "      <td>Married-civ-spouse</td>\n",
       "      <td>Handlers-cleaners</td>\n",
       "      <td>Husband</td>\n",
       "      <td>Black</td>\n",
       "      <td>Male</td>\n",
       "      <td>0</td>\n",
       "      <td>0</td>\n",
       "      <td>40</td>\n",
       "      <td>United-States</td>\n",
       "      <td>&lt;=50K</td>\n",
       "    </tr>\n",
       "    <tr>\n",
       "      <th>4</th>\n",
       "      <td>28</td>\n",
       "      <td>Private</td>\n",
       "      <td>338409</td>\n",
       "      <td>Bachelors</td>\n",
       "      <td>13</td>\n",
       "      <td>Married-civ-spouse</td>\n",
       "      <td>Prof-specialty</td>\n",
       "      <td>Wife</td>\n",
       "      <td>Black</td>\n",
       "      <td>Female</td>\n",
       "      <td>0</td>\n",
       "      <td>0</td>\n",
       "      <td>40</td>\n",
       "      <td>Cuba</td>\n",
       "      <td>&lt;=50K</td>\n",
       "    </tr>\n",
       "  </tbody>\n",
       "</table>\n",
       "</div>"
      ],
      "text/plain": [
       "   0                  1       2           3   4                    5   \\\n",
       "0  39          State-gov   77516   Bachelors  13        Never-married   \n",
       "1  50   Self-emp-not-inc   83311   Bachelors  13   Married-civ-spouse   \n",
       "2  38            Private  215646     HS-grad   9             Divorced   \n",
       "3  53            Private  234721        11th   7   Married-civ-spouse   \n",
       "4  28            Private  338409   Bachelors  13   Married-civ-spouse   \n",
       "\n",
       "                   6               7       8        9     10  11  12  \\\n",
       "0        Adm-clerical   Not-in-family   White     Male  2174   0  40   \n",
       "1     Exec-managerial         Husband   White     Male     0   0  13   \n",
       "2   Handlers-cleaners   Not-in-family   White     Male     0   0  40   \n",
       "3   Handlers-cleaners         Husband   Black     Male     0   0  40   \n",
       "4      Prof-specialty            Wife   Black   Female     0   0  40   \n",
       "\n",
       "               13      14  \n",
       "0   United-States   <=50K  \n",
       "1   United-States   <=50K  \n",
       "2   United-States   <=50K  \n",
       "3   United-States   <=50K  \n",
       "4            Cuba   <=50K  "
      ]
     },
     "execution_count": 4,
     "metadata": {},
     "output_type": "execute_result"
    }
   ],
   "source": [
    "df.head()"
   ]
  },
  {
   "cell_type": "code",
   "execution_count": 5,
   "id": "aa4347dc",
   "metadata": {},
   "outputs": [
    {
     "data": {
      "text/plain": [
       "0        0\n",
       "1     1836\n",
       "2        0\n",
       "3        0\n",
       "4        0\n",
       "5        0\n",
       "6     1843\n",
       "7        0\n",
       "8        0\n",
       "9        0\n",
       "10       0\n",
       "11       0\n",
       "12       0\n",
       "13     583\n",
       "14       0\n",
       "dtype: int64"
      ]
     },
     "execution_count": 5,
     "metadata": {},
     "output_type": "execute_result"
    }
   ],
   "source": [
    "df.isnull().sum()"
   ]
  },
  {
   "cell_type": "code",
   "execution_count": 6,
   "id": "d9366f18",
   "metadata": {},
   "outputs": [],
   "source": [
    "from sklearn.impute import SimpleImputer"
   ]
  },
  {
   "cell_type": "code",
   "execution_count": 7,
   "id": "7c6af807",
   "metadata": {},
   "outputs": [],
   "source": [
    "si=SimpleImputer(strategy='most_frequent')"
   ]
  },
  {
   "cell_type": "code",
   "execution_count": 8,
   "id": "72169fe5",
   "metadata": {},
   "outputs": [],
   "source": [
    "df=si.fit_transform(df)"
   ]
  },
  {
   "cell_type": "code",
   "execution_count": 9,
   "id": "fe7531e2",
   "metadata": {},
   "outputs": [
    {
     "data": {
      "text/plain": [
       "0     0\n",
       "1     0\n",
       "2     0\n",
       "3     0\n",
       "4     0\n",
       "5     0\n",
       "6     0\n",
       "7     0\n",
       "8     0\n",
       "9     0\n",
       "10    0\n",
       "11    0\n",
       "12    0\n",
       "13    0\n",
       "14    0\n",
       "dtype: int64"
      ]
     },
     "execution_count": 9,
     "metadata": {},
     "output_type": "execute_result"
    }
   ],
   "source": [
    "pd.DataFrame(df).isnull().sum()"
   ]
  },
  {
   "cell_type": "code",
   "execution_count": 10,
   "id": "08259679",
   "metadata": {},
   "outputs": [],
   "source": [
    "cols=[1,3, 5,6,7,8,9,13, 14]"
   ]
  },
  {
   "cell_type": "code",
   "execution_count": 11,
   "id": "7fb56910",
   "metadata": {},
   "outputs": [],
   "source": [
    "from sklearn.preprocessing import LabelEncoder"
   ]
  },
  {
   "cell_type": "code",
   "execution_count": 12,
   "id": "024426ae",
   "metadata": {},
   "outputs": [],
   "source": [
    "le=LabelEncoder()"
   ]
  },
  {
   "cell_type": "code",
   "execution_count": 13,
   "id": "9e2b5ec8",
   "metadata": {},
   "outputs": [],
   "source": [
    "df=pd.DataFrame(df)"
   ]
  },
  {
   "cell_type": "code",
   "execution_count": 14,
   "id": "6720c583",
   "metadata": {},
   "outputs": [],
   "source": [
    "for i in cols:\n",
    "  df[i]=le.fit_transform(df[i])"
   ]
  },
  {
   "cell_type": "code",
   "execution_count": 15,
   "id": "8855a05b",
   "metadata": {},
   "outputs": [
    {
     "data": {
      "text/html": [
       "<div>\n",
       "<style scoped>\n",
       "    .dataframe tbody tr th:only-of-type {\n",
       "        vertical-align: middle;\n",
       "    }\n",
       "\n",
       "    .dataframe tbody tr th {\n",
       "        vertical-align: top;\n",
       "    }\n",
       "\n",
       "    .dataframe thead th {\n",
       "        text-align: right;\n",
       "    }\n",
       "</style>\n",
       "<table border=\"1\" class=\"dataframe\">\n",
       "  <thead>\n",
       "    <tr style=\"text-align: right;\">\n",
       "      <th></th>\n",
       "      <th>0</th>\n",
       "      <th>1</th>\n",
       "      <th>2</th>\n",
       "      <th>3</th>\n",
       "      <th>4</th>\n",
       "      <th>5</th>\n",
       "      <th>6</th>\n",
       "      <th>7</th>\n",
       "      <th>8</th>\n",
       "      <th>9</th>\n",
       "      <th>10</th>\n",
       "      <th>11</th>\n",
       "      <th>12</th>\n",
       "      <th>13</th>\n",
       "      <th>14</th>\n",
       "    </tr>\n",
       "  </thead>\n",
       "  <tbody>\n",
       "    <tr>\n",
       "      <th>0</th>\n",
       "      <td>39</td>\n",
       "      <td>6</td>\n",
       "      <td>77516</td>\n",
       "      <td>9</td>\n",
       "      <td>13</td>\n",
       "      <td>4</td>\n",
       "      <td>0</td>\n",
       "      <td>1</td>\n",
       "      <td>4</td>\n",
       "      <td>1</td>\n",
       "      <td>2174</td>\n",
       "      <td>0</td>\n",
       "      <td>40</td>\n",
       "      <td>38</td>\n",
       "      <td>0</td>\n",
       "    </tr>\n",
       "    <tr>\n",
       "      <th>1</th>\n",
       "      <td>50</td>\n",
       "      <td>5</td>\n",
       "      <td>83311</td>\n",
       "      <td>9</td>\n",
       "      <td>13</td>\n",
       "      <td>2</td>\n",
       "      <td>3</td>\n",
       "      <td>0</td>\n",
       "      <td>4</td>\n",
       "      <td>1</td>\n",
       "      <td>0</td>\n",
       "      <td>0</td>\n",
       "      <td>13</td>\n",
       "      <td>38</td>\n",
       "      <td>0</td>\n",
       "    </tr>\n",
       "    <tr>\n",
       "      <th>2</th>\n",
       "      <td>38</td>\n",
       "      <td>3</td>\n",
       "      <td>215646</td>\n",
       "      <td>11</td>\n",
       "      <td>9</td>\n",
       "      <td>0</td>\n",
       "      <td>5</td>\n",
       "      <td>1</td>\n",
       "      <td>4</td>\n",
       "      <td>1</td>\n",
       "      <td>0</td>\n",
       "      <td>0</td>\n",
       "      <td>40</td>\n",
       "      <td>38</td>\n",
       "      <td>0</td>\n",
       "    </tr>\n",
       "    <tr>\n",
       "      <th>3</th>\n",
       "      <td>53</td>\n",
       "      <td>3</td>\n",
       "      <td>234721</td>\n",
       "      <td>1</td>\n",
       "      <td>7</td>\n",
       "      <td>2</td>\n",
       "      <td>5</td>\n",
       "      <td>0</td>\n",
       "      <td>2</td>\n",
       "      <td>1</td>\n",
       "      <td>0</td>\n",
       "      <td>0</td>\n",
       "      <td>40</td>\n",
       "      <td>38</td>\n",
       "      <td>0</td>\n",
       "    </tr>\n",
       "    <tr>\n",
       "      <th>4</th>\n",
       "      <td>28</td>\n",
       "      <td>3</td>\n",
       "      <td>338409</td>\n",
       "      <td>9</td>\n",
       "      <td>13</td>\n",
       "      <td>2</td>\n",
       "      <td>9</td>\n",
       "      <td>5</td>\n",
       "      <td>2</td>\n",
       "      <td>0</td>\n",
       "      <td>0</td>\n",
       "      <td>0</td>\n",
       "      <td>40</td>\n",
       "      <td>4</td>\n",
       "      <td>0</td>\n",
       "    </tr>\n",
       "  </tbody>\n",
       "</table>\n",
       "</div>"
      ],
      "text/plain": [
       "   0   1       2   3   4   5   6   7   8   9     10 11  12  13  14\n",
       "0  39   6   77516   9  13   4   0   1   4   1  2174  0  40  38   0\n",
       "1  50   5   83311   9  13   2   3   0   4   1     0  0  13  38   0\n",
       "2  38   3  215646  11   9   0   5   1   4   1     0  0  40  38   0\n",
       "3  53   3  234721   1   7   2   5   0   2   1     0  0  40  38   0\n",
       "4  28   3  338409   9  13   2   9   5   2   0     0  0  40   4   0"
      ]
     },
     "execution_count": 15,
     "metadata": {},
     "output_type": "execute_result"
    }
   ],
   "source": [
    "df.head()"
   ]
  },
  {
   "cell_type": "code",
   "execution_count": 16,
   "id": "a516ca52",
   "metadata": {},
   "outputs": [],
   "source": [
    "y = df[14]"
   ]
  },
  {
   "cell_type": "code",
   "execution_count": 17,
   "id": "e16efe4f",
   "metadata": {},
   "outputs": [
    {
     "data": {
      "text/plain": [
       "(32561,)"
      ]
     },
     "execution_count": 17,
     "metadata": {},
     "output_type": "execute_result"
    }
   ],
   "source": [
    "y.shape"
   ]
  },
  {
   "cell_type": "code",
   "execution_count": 18,
   "id": "2cbcec82",
   "metadata": {},
   "outputs": [],
   "source": [
    "x = df.drop(columns = 14)"
   ]
  },
  {
   "cell_type": "code",
   "execution_count": 19,
   "id": "225ac58c",
   "metadata": {},
   "outputs": [
    {
     "data": {
      "text/plain": [
       "(32561, 14)"
      ]
     },
     "execution_count": 19,
     "metadata": {},
     "output_type": "execute_result"
    }
   ],
   "source": [
    "x.shape"
   ]
  },
  {
   "cell_type": "code",
   "execution_count": 20,
   "id": "b37c4cd4",
   "metadata": {},
   "outputs": [],
   "source": [
    "from sklearn.model_selection import train_test_split"
   ]
  },
  {
   "cell_type": "code",
   "execution_count": 21,
   "id": "4d5d93e8",
   "metadata": {},
   "outputs": [],
   "source": [
    "train_x,test_x,train_y,test_y = train_test_split(x,y,test_size = 0.3)"
   ]
  },
  {
   "cell_type": "code",
   "execution_count": 22,
   "id": "45b1bcf7",
   "metadata": {},
   "outputs": [],
   "source": [
    "#giving 70% to train and 30% to test"
   ]
  },
  {
   "cell_type": "code",
   "execution_count": 23,
   "id": "92f201ac",
   "metadata": {},
   "outputs": [
    {
     "data": {
      "text/plain": [
       "(22792, 14)"
      ]
     },
     "execution_count": 23,
     "metadata": {},
     "output_type": "execute_result"
    }
   ],
   "source": [
    "train_x.shape"
   ]
  },
  {
   "cell_type": "code",
   "execution_count": 24,
   "id": "caa67528",
   "metadata": {},
   "outputs": [
    {
     "data": {
      "text/plain": [
       "(9769, 14)"
      ]
     },
     "execution_count": 24,
     "metadata": {},
     "output_type": "execute_result"
    }
   ],
   "source": [
    "test_x.shape"
   ]
  },
  {
   "cell_type": "code",
   "execution_count": 25,
   "id": "3e688c77",
   "metadata": {},
   "outputs": [
    {
     "data": {
      "text/html": [
       "<div>\n",
       "<style scoped>\n",
       "    .dataframe tbody tr th:only-of-type {\n",
       "        vertical-align: middle;\n",
       "    }\n",
       "\n",
       "    .dataframe tbody tr th {\n",
       "        vertical-align: top;\n",
       "    }\n",
       "\n",
       "    .dataframe thead th {\n",
       "        text-align: right;\n",
       "    }\n",
       "</style>\n",
       "<table border=\"1\" class=\"dataframe\">\n",
       "  <thead>\n",
       "    <tr style=\"text-align: right;\">\n",
       "      <th></th>\n",
       "      <th>1</th>\n",
       "      <th>3</th>\n",
       "      <th>5</th>\n",
       "      <th>6</th>\n",
       "      <th>7</th>\n",
       "      <th>8</th>\n",
       "      <th>9</th>\n",
       "      <th>13</th>\n",
       "    </tr>\n",
       "  </thead>\n",
       "  <tbody>\n",
       "    <tr>\n",
       "      <th>count</th>\n",
       "      <td>22792.000000</td>\n",
       "      <td>22792.000000</td>\n",
       "      <td>22792.000000</td>\n",
       "      <td>22792.000000</td>\n",
       "      <td>22792.000000</td>\n",
       "      <td>22792.000000</td>\n",
       "      <td>22792.000000</td>\n",
       "      <td>22792.000000</td>\n",
       "    </tr>\n",
       "    <tr>\n",
       "      <th>mean</th>\n",
       "      <td>3.088408</td>\n",
       "      <td>10.299754</td>\n",
       "      <td>2.619208</td>\n",
       "      <td>6.145183</td>\n",
       "      <td>1.446385</td>\n",
       "      <td>3.662557</td>\n",
       "      <td>0.669314</td>\n",
       "      <td>36.416155</td>\n",
       "    </tr>\n",
       "    <tr>\n",
       "      <th>std</th>\n",
       "      <td>1.110357</td>\n",
       "      <td>3.866844</td>\n",
       "      <td>1.507300</td>\n",
       "      <td>3.976427</td>\n",
       "      <td>1.606043</td>\n",
       "      <td>0.851579</td>\n",
       "      <td>0.470471</td>\n",
       "      <td>6.026122</td>\n",
       "    </tr>\n",
       "    <tr>\n",
       "      <th>min</th>\n",
       "      <td>0.000000</td>\n",
       "      <td>0.000000</td>\n",
       "      <td>0.000000</td>\n",
       "      <td>0.000000</td>\n",
       "      <td>0.000000</td>\n",
       "      <td>0.000000</td>\n",
       "      <td>0.000000</td>\n",
       "      <td>0.000000</td>\n",
       "    </tr>\n",
       "    <tr>\n",
       "      <th>25%</th>\n",
       "      <td>3.000000</td>\n",
       "      <td>9.000000</td>\n",
       "      <td>2.000000</td>\n",
       "      <td>3.000000</td>\n",
       "      <td>0.000000</td>\n",
       "      <td>4.000000</td>\n",
       "      <td>0.000000</td>\n",
       "      <td>38.000000</td>\n",
       "    </tr>\n",
       "    <tr>\n",
       "      <th>50%</th>\n",
       "      <td>3.000000</td>\n",
       "      <td>11.000000</td>\n",
       "      <td>2.000000</td>\n",
       "      <td>7.000000</td>\n",
       "      <td>1.000000</td>\n",
       "      <td>4.000000</td>\n",
       "      <td>1.000000</td>\n",
       "      <td>38.000000</td>\n",
       "    </tr>\n",
       "    <tr>\n",
       "      <th>75%</th>\n",
       "      <td>3.000000</td>\n",
       "      <td>12.000000</td>\n",
       "      <td>4.000000</td>\n",
       "      <td>9.000000</td>\n",
       "      <td>3.000000</td>\n",
       "      <td>4.000000</td>\n",
       "      <td>1.000000</td>\n",
       "      <td>38.000000</td>\n",
       "    </tr>\n",
       "    <tr>\n",
       "      <th>max</th>\n",
       "      <td>7.000000</td>\n",
       "      <td>15.000000</td>\n",
       "      <td>6.000000</td>\n",
       "      <td>13.000000</td>\n",
       "      <td>5.000000</td>\n",
       "      <td>4.000000</td>\n",
       "      <td>1.000000</td>\n",
       "      <td>40.000000</td>\n",
       "    </tr>\n",
       "  </tbody>\n",
       "</table>\n",
       "</div>"
      ],
      "text/plain": [
       "                 1             3             5             6             7   \\\n",
       "count  22792.000000  22792.000000  22792.000000  22792.000000  22792.000000   \n",
       "mean       3.088408     10.299754      2.619208      6.145183      1.446385   \n",
       "std        1.110357      3.866844      1.507300      3.976427      1.606043   \n",
       "min        0.000000      0.000000      0.000000      0.000000      0.000000   \n",
       "25%        3.000000      9.000000      2.000000      3.000000      0.000000   \n",
       "50%        3.000000     11.000000      2.000000      7.000000      1.000000   \n",
       "75%        3.000000     12.000000      4.000000      9.000000      3.000000   \n",
       "max        7.000000     15.000000      6.000000     13.000000      5.000000   \n",
       "\n",
       "                 8             9             13  \n",
       "count  22792.000000  22792.000000  22792.000000  \n",
       "mean       3.662557      0.669314     36.416155  \n",
       "std        0.851579      0.470471      6.026122  \n",
       "min        0.000000      0.000000      0.000000  \n",
       "25%        4.000000      0.000000     38.000000  \n",
       "50%        4.000000      1.000000     38.000000  \n",
       "75%        4.000000      1.000000     38.000000  \n",
       "max        4.000000      1.000000     40.000000  "
      ]
     },
     "execution_count": 25,
     "metadata": {},
     "output_type": "execute_result"
    }
   ],
   "source": [
    "train_x.describe()"
   ]
  },
  {
   "cell_type": "code",
   "execution_count": 26,
   "id": "4d5ed217",
   "metadata": {},
   "outputs": [],
   "source": [
    "from sklearn.preprocessing import StandardScaler"
   ]
  },
  {
   "cell_type": "code",
   "execution_count": 27,
   "id": "0eecfe3b",
   "metadata": {},
   "outputs": [],
   "source": [
    "sc = StandardScaler()"
   ]
  },
  {
   "cell_type": "code",
   "execution_count": 28,
   "id": "c2922e74",
   "metadata": {},
   "outputs": [],
   "source": [
    "train_x_sc = sc.fit_transform(train_x)"
   ]
  },
  {
   "cell_type": "code",
   "execution_count": 29,
   "id": "d6f2d4f3",
   "metadata": {},
   "outputs": [
    {
     "data": {
      "text/html": [
       "<div>\n",
       "<style scoped>\n",
       "    .dataframe tbody tr th:only-of-type {\n",
       "        vertical-align: middle;\n",
       "    }\n",
       "\n",
       "    .dataframe tbody tr th {\n",
       "        vertical-align: top;\n",
       "    }\n",
       "\n",
       "    .dataframe thead th {\n",
       "        text-align: right;\n",
       "    }\n",
       "</style>\n",
       "<table border=\"1\" class=\"dataframe\">\n",
       "  <thead>\n",
       "    <tr style=\"text-align: right;\">\n",
       "      <th></th>\n",
       "      <th>0</th>\n",
       "      <th>1</th>\n",
       "      <th>2</th>\n",
       "      <th>3</th>\n",
       "      <th>4</th>\n",
       "      <th>5</th>\n",
       "      <th>6</th>\n",
       "      <th>7</th>\n",
       "      <th>8</th>\n",
       "      <th>9</th>\n",
       "      <th>10</th>\n",
       "      <th>11</th>\n",
       "      <th>12</th>\n",
       "      <th>13</th>\n",
       "    </tr>\n",
       "  </thead>\n",
       "  <tbody>\n",
       "    <tr>\n",
       "      <th>count</th>\n",
       "      <td>2.279200e+04</td>\n",
       "      <td>2.279200e+04</td>\n",
       "      <td>2.279200e+04</td>\n",
       "      <td>2.279200e+04</td>\n",
       "      <td>2.279200e+04</td>\n",
       "      <td>2.279200e+04</td>\n",
       "      <td>2.279200e+04</td>\n",
       "      <td>2.279200e+04</td>\n",
       "      <td>2.279200e+04</td>\n",
       "      <td>2.279200e+04</td>\n",
       "      <td>2.279200e+04</td>\n",
       "      <td>2.279200e+04</td>\n",
       "      <td>2.279200e+04</td>\n",
       "      <td>2.279200e+04</td>\n",
       "    </tr>\n",
       "    <tr>\n",
       "      <th>mean</th>\n",
       "      <td>1.810859e-16</td>\n",
       "      <td>-1.145353e-15</td>\n",
       "      <td>-6.634450e-18</td>\n",
       "      <td>1.686758e-15</td>\n",
       "      <td>7.316259e-16</td>\n",
       "      <td>3.610466e-17</td>\n",
       "      <td>-1.036231e-16</td>\n",
       "      <td>4.531690e-16</td>\n",
       "      <td>-3.671062e-16</td>\n",
       "      <td>-8.027587e-17</td>\n",
       "      <td>-7.999310e-16</td>\n",
       "      <td>2.331105e-15</td>\n",
       "      <td>2.456013e-16</td>\n",
       "      <td>-1.231416e-17</td>\n",
       "    </tr>\n",
       "    <tr>\n",
       "      <th>std</th>\n",
       "      <td>1.000022e+00</td>\n",
       "      <td>1.000022e+00</td>\n",
       "      <td>1.000022e+00</td>\n",
       "      <td>1.000022e+00</td>\n",
       "      <td>1.000022e+00</td>\n",
       "      <td>1.000022e+00</td>\n",
       "      <td>1.000022e+00</td>\n",
       "      <td>1.000022e+00</td>\n",
       "      <td>1.000022e+00</td>\n",
       "      <td>1.000022e+00</td>\n",
       "      <td>1.000022e+00</td>\n",
       "      <td>1.000022e+00</td>\n",
       "      <td>1.000022e+00</td>\n",
       "      <td>1.000022e+00</td>\n",
       "    </tr>\n",
       "    <tr>\n",
       "      <th>min</th>\n",
       "      <td>-1.583944e+00</td>\n",
       "      <td>-2.781516e+00</td>\n",
       "      <td>-1.672497e+00</td>\n",
       "      <td>-2.663666e+00</td>\n",
       "      <td>-3.523962e+00</td>\n",
       "      <td>-1.737720e+00</td>\n",
       "      <td>-1.545437e+00</td>\n",
       "      <td>-9.006090e-01</td>\n",
       "      <td>-4.300996e+00</td>\n",
       "      <td>-1.422679e+00</td>\n",
       "      <td>-1.443764e-01</td>\n",
       "      <td>-2.177800e-01</td>\n",
       "      <td>-3.197660e+00</td>\n",
       "      <td>-6.043182e+00</td>\n",
       "    </tr>\n",
       "    <tr>\n",
       "      <th>25%</th>\n",
       "      <td>-7.767990e-01</td>\n",
       "      <td>-7.962318e-02</td>\n",
       "      <td>-6.816264e-01</td>\n",
       "      <td>-3.361353e-01</td>\n",
       "      <td>-4.171776e-01</td>\n",
       "      <td>-4.108153e-01</td>\n",
       "      <td>-7.909744e-01</td>\n",
       "      <td>-9.006090e-01</td>\n",
       "      <td>3.962644e-01</td>\n",
       "      <td>-1.422679e+00</td>\n",
       "      <td>-1.443764e-01</td>\n",
       "      <td>-2.177800e-01</td>\n",
       "      <td>-3.390872e-02</td>\n",
       "      <td>2.628357e-01</td>\n",
       "    </tr>\n",
       "    <tr>\n",
       "      <th>50%</th>\n",
       "      <td>-1.164075e-01</td>\n",
       "      <td>-7.962318e-02</td>\n",
       "      <td>-1.053421e-01</td>\n",
       "      <td>1.810937e-01</td>\n",
       "      <td>-2.882962e-02</td>\n",
       "      <td>-4.108153e-01</td>\n",
       "      <td>2.149760e-01</td>\n",
       "      <td>-2.779469e-01</td>\n",
       "      <td>3.962644e-01</td>\n",
       "      <td>7.028994e-01</td>\n",
       "      <td>-1.443764e-01</td>\n",
       "      <td>-2.177800e-01</td>\n",
       "      <td>-3.390872e-02</td>\n",
       "      <td>2.628357e-01</td>\n",
       "    </tr>\n",
       "    <tr>\n",
       "      <th>75%</th>\n",
       "      <td>6.907377e-01</td>\n",
       "      <td>-7.962318e-02</td>\n",
       "      <td>4.566778e-01</td>\n",
       "      <td>4.397082e-01</td>\n",
       "      <td>7.478664e-01</td>\n",
       "      <td>9.160894e-01</td>\n",
       "      <td>7.179511e-01</td>\n",
       "      <td>9.673775e-01</td>\n",
       "      <td>3.962644e-01</td>\n",
       "      <td>7.028994e-01</td>\n",
       "      <td>-1.443764e-01</td>\n",
       "      <td>-2.177800e-01</td>\n",
       "      <td>3.717004e-01</td>\n",
       "      <td>2.628357e-01</td>\n",
       "    </tr>\n",
       "    <tr>\n",
       "      <th>max</th>\n",
       "      <td>3.772565e+00</td>\n",
       "      <td>3.522901e+00</td>\n",
       "      <td>1.200535e+01</td>\n",
       "      <td>1.215552e+00</td>\n",
       "      <td>2.301258e+00</td>\n",
       "      <td>2.242994e+00</td>\n",
       "      <td>1.723901e+00</td>\n",
       "      <td>2.212702e+00</td>\n",
       "      <td>3.962644e-01</td>\n",
       "      <td>7.028994e-01</td>\n",
       "      <td>1.317486e+01</td>\n",
       "      <td>1.056160e+01</td>\n",
       "      <td>4.752279e+00</td>\n",
       "      <td>5.947314e-01</td>\n",
       "    </tr>\n",
       "  </tbody>\n",
       "</table>\n",
       "</div>"
      ],
      "text/plain": [
       "                 0             1             2             3             4   \\\n",
       "count  2.279200e+04  2.279200e+04  2.279200e+04  2.279200e+04  2.279200e+04   \n",
       "mean   1.810859e-16 -1.145353e-15 -6.634450e-18  1.686758e-15  7.316259e-16   \n",
       "std    1.000022e+00  1.000022e+00  1.000022e+00  1.000022e+00  1.000022e+00   \n",
       "min   -1.583944e+00 -2.781516e+00 -1.672497e+00 -2.663666e+00 -3.523962e+00   \n",
       "25%   -7.767990e-01 -7.962318e-02 -6.816264e-01 -3.361353e-01 -4.171776e-01   \n",
       "50%   -1.164075e-01 -7.962318e-02 -1.053421e-01  1.810937e-01 -2.882962e-02   \n",
       "75%    6.907377e-01 -7.962318e-02  4.566778e-01  4.397082e-01  7.478664e-01   \n",
       "max    3.772565e+00  3.522901e+00  1.200535e+01  1.215552e+00  2.301258e+00   \n",
       "\n",
       "                 5             6             7             8             9   \\\n",
       "count  2.279200e+04  2.279200e+04  2.279200e+04  2.279200e+04  2.279200e+04   \n",
       "mean   3.610466e-17 -1.036231e-16  4.531690e-16 -3.671062e-16 -8.027587e-17   \n",
       "std    1.000022e+00  1.000022e+00  1.000022e+00  1.000022e+00  1.000022e+00   \n",
       "min   -1.737720e+00 -1.545437e+00 -9.006090e-01 -4.300996e+00 -1.422679e+00   \n",
       "25%   -4.108153e-01 -7.909744e-01 -9.006090e-01  3.962644e-01 -1.422679e+00   \n",
       "50%   -4.108153e-01  2.149760e-01 -2.779469e-01  3.962644e-01  7.028994e-01   \n",
       "75%    9.160894e-01  7.179511e-01  9.673775e-01  3.962644e-01  7.028994e-01   \n",
       "max    2.242994e+00  1.723901e+00  2.212702e+00  3.962644e-01  7.028994e-01   \n",
       "\n",
       "                 10            11            12            13  \n",
       "count  2.279200e+04  2.279200e+04  2.279200e+04  2.279200e+04  \n",
       "mean  -7.999310e-16  2.331105e-15  2.456013e-16 -1.231416e-17  \n",
       "std    1.000022e+00  1.000022e+00  1.000022e+00  1.000022e+00  \n",
       "min   -1.443764e-01 -2.177800e-01 -3.197660e+00 -6.043182e+00  \n",
       "25%   -1.443764e-01 -2.177800e-01 -3.390872e-02  2.628357e-01  \n",
       "50%   -1.443764e-01 -2.177800e-01 -3.390872e-02  2.628357e-01  \n",
       "75%   -1.443764e-01 -2.177800e-01  3.717004e-01  2.628357e-01  \n",
       "max    1.317486e+01  1.056160e+01  4.752279e+00  5.947314e-01  "
      ]
     },
     "execution_count": 29,
     "metadata": {},
     "output_type": "execute_result"
    }
   ],
   "source": [
    "pd.DataFrame(train_x_sc).describe()"
   ]
  },
  {
   "cell_type": "code",
   "execution_count": 30,
   "id": "350f9cc4",
   "metadata": {},
   "outputs": [],
   "source": [
    "from sklearn.svm import SVC"
   ]
  },
  {
   "cell_type": "code",
   "execution_count": 31,
   "id": "ad14300c",
   "metadata": {},
   "outputs": [
    {
     "data": {
      "text/html": [
       "<div>\n",
       "<style scoped>\n",
       "    .dataframe tbody tr th:only-of-type {\n",
       "        vertical-align: middle;\n",
       "    }\n",
       "\n",
       "    .dataframe tbody tr th {\n",
       "        vertical-align: top;\n",
       "    }\n",
       "\n",
       "    .dataframe thead th {\n",
       "        text-align: right;\n",
       "    }\n",
       "</style>\n",
       "<table border=\"1\" class=\"dataframe\">\n",
       "  <thead>\n",
       "    <tr style=\"text-align: right;\">\n",
       "      <th></th>\n",
       "      <th>0</th>\n",
       "      <th>1</th>\n",
       "      <th>2</th>\n",
       "      <th>3</th>\n",
       "      <th>4</th>\n",
       "      <th>5</th>\n",
       "      <th>6</th>\n",
       "      <th>7</th>\n",
       "      <th>8</th>\n",
       "      <th>9</th>\n",
       "      <th>10</th>\n",
       "      <th>11</th>\n",
       "      <th>12</th>\n",
       "      <th>13</th>\n",
       "      <th>14</th>\n",
       "    </tr>\n",
       "  </thead>\n",
       "  <tbody>\n",
       "    <tr>\n",
       "      <th>0</th>\n",
       "      <td>39</td>\n",
       "      <td>6</td>\n",
       "      <td>77516</td>\n",
       "      <td>9</td>\n",
       "      <td>13</td>\n",
       "      <td>4</td>\n",
       "      <td>0</td>\n",
       "      <td>1</td>\n",
       "      <td>4</td>\n",
       "      <td>1</td>\n",
       "      <td>2174</td>\n",
       "      <td>0</td>\n",
       "      <td>40</td>\n",
       "      <td>38</td>\n",
       "      <td>0</td>\n",
       "    </tr>\n",
       "    <tr>\n",
       "      <th>1</th>\n",
       "      <td>50</td>\n",
       "      <td>5</td>\n",
       "      <td>83311</td>\n",
       "      <td>9</td>\n",
       "      <td>13</td>\n",
       "      <td>2</td>\n",
       "      <td>3</td>\n",
       "      <td>0</td>\n",
       "      <td>4</td>\n",
       "      <td>1</td>\n",
       "      <td>0</td>\n",
       "      <td>0</td>\n",
       "      <td>13</td>\n",
       "      <td>38</td>\n",
       "      <td>0</td>\n",
       "    </tr>\n",
       "    <tr>\n",
       "      <th>2</th>\n",
       "      <td>38</td>\n",
       "      <td>3</td>\n",
       "      <td>215646</td>\n",
       "      <td>11</td>\n",
       "      <td>9</td>\n",
       "      <td>0</td>\n",
       "      <td>5</td>\n",
       "      <td>1</td>\n",
       "      <td>4</td>\n",
       "      <td>1</td>\n",
       "      <td>0</td>\n",
       "      <td>0</td>\n",
       "      <td>40</td>\n",
       "      <td>38</td>\n",
       "      <td>0</td>\n",
       "    </tr>\n",
       "    <tr>\n",
       "      <th>3</th>\n",
       "      <td>53</td>\n",
       "      <td>3</td>\n",
       "      <td>234721</td>\n",
       "      <td>1</td>\n",
       "      <td>7</td>\n",
       "      <td>2</td>\n",
       "      <td>5</td>\n",
       "      <td>0</td>\n",
       "      <td>2</td>\n",
       "      <td>1</td>\n",
       "      <td>0</td>\n",
       "      <td>0</td>\n",
       "      <td>40</td>\n",
       "      <td>38</td>\n",
       "      <td>0</td>\n",
       "    </tr>\n",
       "    <tr>\n",
       "      <th>4</th>\n",
       "      <td>28</td>\n",
       "      <td>3</td>\n",
       "      <td>338409</td>\n",
       "      <td>9</td>\n",
       "      <td>13</td>\n",
       "      <td>2</td>\n",
       "      <td>9</td>\n",
       "      <td>5</td>\n",
       "      <td>2</td>\n",
       "      <td>0</td>\n",
       "      <td>0</td>\n",
       "      <td>0</td>\n",
       "      <td>40</td>\n",
       "      <td>4</td>\n",
       "      <td>0</td>\n",
       "    </tr>\n",
       "  </tbody>\n",
       "</table>\n",
       "</div>"
      ],
      "text/plain": [
       "   0   1       2   3   4   5   6   7   8   9     10 11  12  13  14\n",
       "0  39   6   77516   9  13   4   0   1   4   1  2174  0  40  38   0\n",
       "1  50   5   83311   9  13   2   3   0   4   1     0  0  13  38   0\n",
       "2  38   3  215646  11   9   0   5   1   4   1     0  0  40  38   0\n",
       "3  53   3  234721   1   7   2   5   0   2   1     0  0  40  38   0\n",
       "4  28   3  338409   9  13   2   9   5   2   0     0  0  40   4   0"
      ]
     },
     "execution_count": 31,
     "metadata": {},
     "output_type": "execute_result"
    }
   ],
   "source": [
    "df.head()"
   ]
  },
  {
   "cell_type": "code",
   "execution_count": 32,
   "id": "b9961713",
   "metadata": {},
   "outputs": [
    {
     "data": {
      "text/plain": [
       "(22792, 14)"
      ]
     },
     "execution_count": 32,
     "metadata": {},
     "output_type": "execute_result"
    }
   ],
   "source": [
    "train_x_sc.shape"
   ]
  },
  {
   "cell_type": "code",
   "execution_count": 33,
   "id": "119a3162",
   "metadata": {},
   "outputs": [
    {
     "data": {
      "text/plain": [
       "(9769, 14)"
      ]
     },
     "execution_count": 33,
     "metadata": {},
     "output_type": "execute_result"
    }
   ],
   "source": [
    "test_x.shape"
   ]
  },
  {
   "cell_type": "code",
   "execution_count": 34,
   "id": "eca62777",
   "metadata": {},
   "outputs": [
    {
     "data": {
      "text/plain": [
       "(22792,)"
      ]
     },
     "execution_count": 34,
     "metadata": {},
     "output_type": "execute_result"
    }
   ],
   "source": [
    "train_y.shape"
   ]
  },
  {
   "cell_type": "code",
   "execution_count": 35,
   "id": "788c6c72",
   "metadata": {},
   "outputs": [
    {
     "data": {
      "text/plain": [
       "(9769,)"
      ]
     },
     "execution_count": 35,
     "metadata": {},
     "output_type": "execute_result"
    }
   ],
   "source": [
    "test_y.shape"
   ]
  },
  {
   "cell_type": "markdown",
   "id": "ea91826a",
   "metadata": {},
   "source": [
    "# Radial Basis Function (RBF) Kernel"
   ]
  },
  {
   "cell_type": "code",
   "execution_count": 36,
   "id": "50bdae6b",
   "metadata": {},
   "outputs": [],
   "source": [
    "svc = SVC() # C = 1"
   ]
  },
  {
   "cell_type": "code",
   "execution_count": 37,
   "id": "d3fd558f",
   "metadata": {},
   "outputs": [
    {
     "data": {
      "text/plain": [
       "SVC()"
      ]
     },
     "execution_count": 37,
     "metadata": {},
     "output_type": "execute_result"
    }
   ],
   "source": [
    "svc.fit(train_x_sc,train_y)"
   ]
  },
  {
   "cell_type": "code",
   "execution_count": 38,
   "id": "3945f3b7",
   "metadata": {},
   "outputs": [],
   "source": [
    "train_pred_svc = svc.predict(train_x_sc)\n",
    "test_pred_svc = svc.predict(test_x)"
   ]
  },
  {
   "cell_type": "code",
   "execution_count": 39,
   "id": "f9300b8b",
   "metadata": {},
   "outputs": [],
   "source": [
    "from sklearn.metrics import accuracy_score"
   ]
  },
  {
   "cell_type": "code",
   "execution_count": 40,
   "id": "7a770069",
   "metadata": {},
   "outputs": [
    {
     "name": "stdout",
     "output_type": "stream",
     "text": [
      "Training Accuracy :  0.8567479817479817\n",
      "Testing Accuracy :  0.7554509161633739\n"
     ]
    }
   ],
   "source": [
    "print(\"Training Accuracy : \", accuracy_score(train_pred_svc,train_y))\n",
    "print(\"Testing Accuracy : \",accuracy_score(test_pred_svc,test_y))"
   ]
  },
  {
   "cell_type": "code",
   "execution_count": 41,
   "id": "624b2746",
   "metadata": {},
   "outputs": [],
   "source": [
    "svc1 = SVC(C = 0.1)"
   ]
  },
  {
   "cell_type": "code",
   "execution_count": 42,
   "id": "121ab5a5",
   "metadata": {},
   "outputs": [
    {
     "data": {
      "text/plain": [
       "SVC(C=0.1)"
      ]
     },
     "execution_count": 42,
     "metadata": {},
     "output_type": "execute_result"
    }
   ],
   "source": [
    "svc1.fit(train_x_sc,train_y)"
   ]
  },
  {
   "cell_type": "code",
   "execution_count": 43,
   "id": "e8cb0bec",
   "metadata": {},
   "outputs": [],
   "source": [
    "train_pred_svc1 = svc1.predict(train_x_sc)\n",
    "test_pred_svc1 = svc1.predict(test_x)"
   ]
  },
  {
   "cell_type": "code",
   "execution_count": 44,
   "id": "b3074645",
   "metadata": {},
   "outputs": [
    {
     "name": "stdout",
     "output_type": "stream",
     "text": [
      "Training Accuracy :  0.8406458406458407\n",
      "Testing Accuracy :  0.7554509161633739\n"
     ]
    }
   ],
   "source": [
    "print(\"Training Accuracy : \", accuracy_score(train_pred_svc1,train_y))\n",
    "print(\"Testing Accuracy : \",accuracy_score(test_pred_svc1,test_y))"
   ]
  },
  {
   "cell_type": "code",
   "execution_count": 45,
   "id": "ea9bf29d",
   "metadata": {},
   "outputs": [],
   "source": [
    "svc2 = SVC(C = 5)"
   ]
  },
  {
   "cell_type": "code",
   "execution_count": 46,
   "id": "dc1c06f8",
   "metadata": {},
   "outputs": [
    {
     "data": {
      "text/plain": [
       "SVC(C=5)"
      ]
     },
     "execution_count": 46,
     "metadata": {},
     "output_type": "execute_result"
    }
   ],
   "source": [
    "svc2.fit(train_x_sc,train_y)"
   ]
  },
  {
   "cell_type": "code",
   "execution_count": 47,
   "id": "798fc5a1",
   "metadata": {},
   "outputs": [],
   "source": [
    "train_pred_svc2 = svc2.predict(train_x_sc)\n",
    "test_pred_svc2 = svc2.predict(test_x)"
   ]
  },
  {
   "cell_type": "code",
   "execution_count": 48,
   "id": "3efa2a3d",
   "metadata": {},
   "outputs": [
    {
     "name": "stdout",
     "output_type": "stream",
     "text": [
      "Training Accuracy :  0.8687697437697438\n",
      "Testing Accuracy :  0.7554509161633739\n"
     ]
    }
   ],
   "source": [
    "print(\"Training Accuracy : \", accuracy_score(train_pred_svc2,train_y))\n",
    "print(\"Testing Accuracy : \",accuracy_score(test_pred_svc2,test_y))"
   ]
  },
  {
   "cell_type": "code",
   "execution_count": 49,
   "id": "d85bbe14",
   "metadata": {},
   "outputs": [],
   "source": [
    "svc3 = SVC(C = 10)"
   ]
  },
  {
   "cell_type": "code",
   "execution_count": 50,
   "id": "6e83c23c",
   "metadata": {},
   "outputs": [
    {
     "data": {
      "text/plain": [
       "SVC(C=10)"
      ]
     },
     "execution_count": 50,
     "metadata": {},
     "output_type": "execute_result"
    }
   ],
   "source": [
    "svc3.fit(train_x_sc,train_y)"
   ]
  },
  {
   "cell_type": "code",
   "execution_count": 51,
   "id": "e3793346",
   "metadata": {},
   "outputs": [],
   "source": [
    "train_pred_svc3 = svc3.predict(train_x_sc)\n",
    "test_pred_svc3 = svc3.predict(test_x)"
   ]
  },
  {
   "cell_type": "code",
   "execution_count": 52,
   "id": "a7a7ac8f",
   "metadata": {},
   "outputs": [
    {
     "name": "stdout",
     "output_type": "stream",
     "text": [
      "Training Accuracy :  0.8739031239031239\n",
      "Testing Accuracy :  0.7554509161633739\n"
     ]
    }
   ],
   "source": [
    "print(\"Training Accuracy : \", accuracy_score(train_pred_svc3,train_y))\n",
    "print(\"Testing Accuracy : \",accuracy_score(test_pred_svc3,test_y))"
   ]
  },
  {
   "cell_type": "code",
   "execution_count": 53,
   "id": "785ab170",
   "metadata": {},
   "outputs": [],
   "source": [
    "# try c = 100"
   ]
  },
  {
   "cell_type": "markdown",
   "id": "d9733f55",
   "metadata": {},
   "source": [
    "# Linear Kernel"
   ]
  },
  {
   "cell_type": "code",
   "execution_count": 54,
   "id": "2235d3a9",
   "metadata": {},
   "outputs": [],
   "source": [
    "svcl1 = SVC(kernel = \"linear\")"
   ]
  },
  {
   "cell_type": "code",
   "execution_count": 55,
   "id": "0d5b0ba8",
   "metadata": {},
   "outputs": [
    {
     "data": {
      "text/plain": [
       "SVC(kernel='linear')"
      ]
     },
     "execution_count": 55,
     "metadata": {},
     "output_type": "execute_result"
    }
   ],
   "source": [
    "svcl1.fit(train_x_sc,train_y)"
   ]
  },
  {
   "cell_type": "code",
   "execution_count": 56,
   "id": "8b711863",
   "metadata": {},
   "outputs": [],
   "source": [
    "train_pred_svcl1 = svcl1.predict(train_x_sc)\n",
    "test_pred_svcl1 = svcl1.predict(test_x)"
   ]
  },
  {
   "cell_type": "code",
   "execution_count": 57,
   "id": "dd1e41c5",
   "metadata": {},
   "outputs": [
    {
     "name": "stdout",
     "output_type": "stream",
     "text": [
      "Training Accuracy :  0.8145401895401896\n",
      "Testing Accuracy :  0.24454908383662607\n"
     ]
    }
   ],
   "source": [
    "print(\"Training Accuracy : \", accuracy_score(train_pred_svcl1,train_y))\n",
    "print(\"Testing Accuracy : \",accuracy_score(test_pred_svcl1,test_y))"
   ]
  },
  {
   "cell_type": "code",
   "execution_count": 58,
   "id": "aa65d74c",
   "metadata": {},
   "outputs": [],
   "source": [
    "svcl2 = SVC(kernel = \"linear\", C = 0.1)"
   ]
  },
  {
   "cell_type": "code",
   "execution_count": 59,
   "id": "61b82832",
   "metadata": {},
   "outputs": [
    {
     "data": {
      "text/plain": [
       "SVC(C=0.1, kernel='linear')"
      ]
     },
     "execution_count": 59,
     "metadata": {},
     "output_type": "execute_result"
    }
   ],
   "source": [
    "svcl2.fit(train_x_sc,train_y)"
   ]
  },
  {
   "cell_type": "code",
   "execution_count": 60,
   "id": "92388a31",
   "metadata": {},
   "outputs": [],
   "source": [
    "train_pred_svcl2 = svcl2.predict(train_x_sc)\n",
    "test_pred_svcl2 = svcl2.predict(test_x)"
   ]
  },
  {
   "cell_type": "code",
   "execution_count": 61,
   "id": "73b3973e",
   "metadata": {},
   "outputs": [
    {
     "name": "stdout",
     "output_type": "stream",
     "text": [
      "Training Accuracy :  0.8142769392769392\n",
      "Testing Accuracy :  0.7554509161633739\n"
     ]
    }
   ],
   "source": [
    "print(\"Training Accuracy : \", accuracy_score(train_pred_svcl2,train_y))\n",
    "print(\"Testing Accuracy : \",accuracy_score(test_pred_svc2,test_y))"
   ]
  },
  {
   "cell_type": "code",
   "execution_count": 62,
   "id": "073b60c8",
   "metadata": {},
   "outputs": [],
   "source": [
    "svcl3 = SVC(kernel = \"linear\", C = 5)"
   ]
  },
  {
   "cell_type": "code",
   "execution_count": 63,
   "id": "746df151",
   "metadata": {},
   "outputs": [
    {
     "data": {
      "text/plain": [
       "SVC(C=5, kernel='linear')"
      ]
     },
     "execution_count": 63,
     "metadata": {},
     "output_type": "execute_result"
    }
   ],
   "source": [
    "svcl3.fit(train_x_sc,train_y)"
   ]
  },
  {
   "cell_type": "code",
   "execution_count": 64,
   "id": "064766bf",
   "metadata": {},
   "outputs": [],
   "source": [
    "train_pred_svcl3 = svcl3.predict(train_x_sc)\n",
    "test_pred_svcl3 = svcl3.predict(test_x)"
   ]
  },
  {
   "cell_type": "code",
   "execution_count": 65,
   "id": "c51a96cf",
   "metadata": {},
   "outputs": [
    {
     "name": "stdout",
     "output_type": "stream",
     "text": [
      "Training Accuracy :  0.8145840645840646\n",
      "Testing Accuracy :  0.24454908383662607\n"
     ]
    }
   ],
   "source": [
    "print(\"Training Accuracy : \", accuracy_score(train_pred_svcl3,train_y))\n",
    "print(\"Testing Accuracy : \",accuracy_score(test_pred_svcl3,test_y))"
   ]
  },
  {
   "cell_type": "code",
   "execution_count": 66,
   "id": "6af388b4",
   "metadata": {},
   "outputs": [],
   "source": [
    "svcl4 = SVC(kernel = \"linear\", C = 10)"
   ]
  },
  {
   "cell_type": "code",
   "execution_count": 67,
   "id": "dd9b062b",
   "metadata": {},
   "outputs": [
    {
     "data": {
      "text/plain": [
       "SVC(C=10, kernel='linear')"
      ]
     },
     "execution_count": 67,
     "metadata": {},
     "output_type": "execute_result"
    }
   ],
   "source": [
    "svcl4.fit(train_x_sc,train_y)"
   ]
  },
  {
   "cell_type": "code",
   "execution_count": 68,
   "id": "a4f81070",
   "metadata": {},
   "outputs": [],
   "source": [
    "train_pred_svcl4 = svcl4.predict(train_x_sc)\n",
    "test_pred_svcl4 = svcl4.predict(test_x)"
   ]
  },
  {
   "cell_type": "code",
   "execution_count": 69,
   "id": "b0fb96eb",
   "metadata": {},
   "outputs": [
    {
     "name": "stdout",
     "output_type": "stream",
     "text": [
      "Training Accuracy :  0.8145401895401896\n",
      "Testing Accuracy :  0.24454908383662607\n"
     ]
    }
   ],
   "source": [
    "print(\"Training Accuracy : \", accuracy_score(train_pred_svcl4,train_y))\n",
    "print(\"Testing Accuracy : \",accuracy_score(test_pred_svcl4,test_y))"
   ]
  },
  {
   "cell_type": "markdown",
   "id": "a5a0f95a",
   "metadata": {},
   "source": [
    "# Polynomial Kernel"
   ]
  },
  {
   "cell_type": "code",
   "execution_count": 70,
   "id": "a36b7f39",
   "metadata": {},
   "outputs": [],
   "source": [
    "svcp1 = SVC(kernel = \"poly\")"
   ]
  },
  {
   "cell_type": "code",
   "execution_count": 71,
   "id": "a74eaa41",
   "metadata": {},
   "outputs": [
    {
     "data": {
      "text/plain": [
       "SVC(kernel='poly')"
      ]
     },
     "execution_count": 71,
     "metadata": {},
     "output_type": "execute_result"
    }
   ],
   "source": [
    "svcp1.fit(train_x_sc,train_y)"
   ]
  },
  {
   "cell_type": "code",
   "execution_count": 72,
   "id": "1a541fd4",
   "metadata": {},
   "outputs": [],
   "source": [
    "train_pred_svcp1 = svcp1.predict(train_x_sc)\n",
    "test_pred_svcp1 = svcp1.predict(test_x)"
   ]
  },
  {
   "cell_type": "code",
   "execution_count": 73,
   "id": "89a75786",
   "metadata": {},
   "outputs": [
    {
     "name": "stdout",
     "output_type": "stream",
     "text": [
      "Training Accuracy :  0.8481484731484732\n",
      "Testing Accuracy :  0.7923021803664654\n"
     ]
    }
   ],
   "source": [
    "print(\"Training Accuracy : \", accuracy_score(train_pred_svcp1,train_y))\n",
    "print(\"Testing Accuracy : \",accuracy_score(test_pred_svcp1,test_y))"
   ]
  },
  {
   "cell_type": "code",
   "execution_count": 74,
   "id": "eccd474b",
   "metadata": {},
   "outputs": [],
   "source": [
    "svcp2 = SVC(kernel = \"poly\", C = 0.1)"
   ]
  },
  {
   "cell_type": "code",
   "execution_count": 75,
   "id": "7111b26a",
   "metadata": {},
   "outputs": [
    {
     "data": {
      "text/plain": [
       "SVC(C=0.1, kernel='poly')"
      ]
     },
     "execution_count": 75,
     "metadata": {},
     "output_type": "execute_result"
    }
   ],
   "source": [
    "svcp2.fit(train_x_sc,train_y)"
   ]
  },
  {
   "cell_type": "code",
   "execution_count": 76,
   "id": "04bde5bc",
   "metadata": {},
   "outputs": [],
   "source": [
    "train_pred_svcp2 = svcp2.predict(train_x_sc)\n",
    "test_pred_svcp2 = svcp2.predict(test_x)"
   ]
  },
  {
   "cell_type": "code",
   "execution_count": 77,
   "id": "4dae03e3",
   "metadata": {},
   "outputs": [
    {
     "name": "stdout",
     "output_type": "stream",
     "text": [
      "Training Accuracy :  0.8212969462969463\n",
      "Testing Accuracy :  0.7923021803664654\n"
     ]
    }
   ],
   "source": [
    "print(\"Training Accuracy : \", accuracy_score(train_pred_svcp2,train_y))\n",
    "print(\"Testing Accuracy : \",accuracy_score(test_pred_svcp2,test_y))"
   ]
  },
  {
   "cell_type": "code",
   "execution_count": 78,
   "id": "1060711d",
   "metadata": {},
   "outputs": [],
   "source": [
    "svcp3 = SVC(kernel = \"poly\", C = 5)"
   ]
  },
  {
   "cell_type": "code",
   "execution_count": 79,
   "id": "b2f7a5f7",
   "metadata": {},
   "outputs": [
    {
     "data": {
      "text/plain": [
       "SVC(C=5, kernel='poly')"
      ]
     },
     "execution_count": 79,
     "metadata": {},
     "output_type": "execute_result"
    }
   ],
   "source": [
    "svcp3.fit(train_x_sc,train_y)"
   ]
  },
  {
   "cell_type": "code",
   "execution_count": 80,
   "id": "9dfeff9b",
   "metadata": {},
   "outputs": [],
   "source": [
    "train_pred_svcp3 = svcp3.predict(train_x_sc)\n",
    "test_pred_svcp3 = svcp3.predict(test_x)"
   ]
  },
  {
   "cell_type": "code",
   "execution_count": 81,
   "id": "4cbfa038",
   "metadata": {},
   "outputs": [
    {
     "name": "stdout",
     "output_type": "stream",
     "text": [
      "Training Accuracy :  0.8516584766584766\n",
      "Testing Accuracy :  0.7864673968676426\n"
     ]
    }
   ],
   "source": [
    "print(\"Training Accuracy : \", accuracy_score(train_pred_svcp3,train_y))\n",
    "print(\"Testing Accuracy : \",accuracy_score(test_pred_svcp3,test_y))"
   ]
  },
  {
   "cell_type": "code",
   "execution_count": 82,
   "id": "77168cbd",
   "metadata": {},
   "outputs": [],
   "source": [
    "svcp4 = SVC(kernel = \"poly\", C = 10)"
   ]
  },
  {
   "cell_type": "code",
   "execution_count": 83,
   "id": "3a49c0df",
   "metadata": {},
   "outputs": [
    {
     "data": {
      "text/plain": [
       "SVC(C=10, kernel='poly')"
      ]
     },
     "execution_count": 83,
     "metadata": {},
     "output_type": "execute_result"
    }
   ],
   "source": [
    "svcp4.fit(train_x_sc,train_y)"
   ]
  },
  {
   "cell_type": "code",
   "execution_count": 84,
   "id": "74e88379",
   "metadata": {},
   "outputs": [],
   "source": [
    "train_pred_svcp4 = svcp4.predict(train_x_sc)\n",
    "test_pred_svcp4 = svcp4.predict(test_x)"
   ]
  },
  {
   "cell_type": "code",
   "execution_count": 85,
   "id": "ab2cd6ef",
   "metadata": {},
   "outputs": [
    {
     "name": "stdout",
     "output_type": "stream",
     "text": [
      "Training Accuracy :  0.8529308529308529\n",
      "Testing Accuracy :  0.7860579383764971\n"
     ]
    }
   ],
   "source": [
    "print(\"Training Accuracy : \", accuracy_score(train_pred_svcp4,train_y))\n",
    "print(\"Testing Accuracy : \",accuracy_score(test_pred_svcp4,test_y))"
   ]
  },
  {
   "cell_type": "code",
   "execution_count": 91,
   "id": "85392943",
   "metadata": {},
   "outputs": [],
   "source": [
    "# better than svm"
   ]
  }
 ],
 "metadata": {
  "kernelspec": {
   "display_name": "Python 3 (ipykernel)",
   "language": "python",
   "name": "python3"
  },
  "language_info": {
   "codemirror_mode": {
    "name": "ipython",
    "version": 3
   },
   "file_extension": ".py",
   "mimetype": "text/x-python",
   "name": "python",
   "nbconvert_exporter": "python",
   "pygments_lexer": "ipython3",
   "version": "3.9.7"
  }
 },
 "nbformat": 4,
 "nbformat_minor": 5
}
