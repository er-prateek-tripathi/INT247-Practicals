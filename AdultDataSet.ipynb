{
 "cells": [
  {
   "cell_type": "code",
   "execution_count": 1,
   "metadata": {
    "collapsed": true
   },
   "outputs": [],
   "source": [
    "import numpy as np\n",
    "import pandas as pd"
   ]
  },
  {
   "cell_type": "code",
   "execution_count": 2,
   "outputs": [],
   "source": [
    "url = 'https://archive.ics.uci.edu/ml/machine-learning-databases/adult/adult.data'"
   ],
   "metadata": {
    "collapsed": false,
    "pycharm": {
     "name": "#%%\n"
    }
   }
  },
  {
   "cell_type": "code",
   "execution_count": 3,
   "outputs": [],
   "source": [
    "df=pd.read_csv(url, header=None, na_values=' ?')"
   ],
   "metadata": {
    "collapsed": false,
    "pycharm": {
     "name": "#%%\n"
    }
   }
  },
  {
   "cell_type": "code",
   "execution_count": 4,
   "outputs": [
    {
     "data": {
      "text/plain": "   0                  1       2           3   4                    5   \\\n0  39          State-gov   77516   Bachelors  13        Never-married   \n1  50   Self-emp-not-inc   83311   Bachelors  13   Married-civ-spouse   \n2  38            Private  215646     HS-grad   9             Divorced   \n3  53            Private  234721        11th   7   Married-civ-spouse   \n4  28            Private  338409   Bachelors  13   Married-civ-spouse   \n\n                   6               7       8        9     10  11  12  \\\n0        Adm-clerical   Not-in-family   White     Male  2174   0  40   \n1     Exec-managerial         Husband   White     Male     0   0  13   \n2   Handlers-cleaners   Not-in-family   White     Male     0   0  40   \n3   Handlers-cleaners         Husband   Black     Male     0   0  40   \n4      Prof-specialty            Wife   Black   Female     0   0  40   \n\n               13      14  \n0   United-States   <=50K  \n1   United-States   <=50K  \n2   United-States   <=50K  \n3   United-States   <=50K  \n4            Cuba   <=50K  ",
      "text/html": "<div>\n<style scoped>\n    .dataframe tbody tr th:only-of-type {\n        vertical-align: middle;\n    }\n\n    .dataframe tbody tr th {\n        vertical-align: top;\n    }\n\n    .dataframe thead th {\n        text-align: right;\n    }\n</style>\n<table border=\"1\" class=\"dataframe\">\n  <thead>\n    <tr style=\"text-align: right;\">\n      <th></th>\n      <th>0</th>\n      <th>1</th>\n      <th>2</th>\n      <th>3</th>\n      <th>4</th>\n      <th>5</th>\n      <th>6</th>\n      <th>7</th>\n      <th>8</th>\n      <th>9</th>\n      <th>10</th>\n      <th>11</th>\n      <th>12</th>\n      <th>13</th>\n      <th>14</th>\n    </tr>\n  </thead>\n  <tbody>\n    <tr>\n      <th>0</th>\n      <td>39</td>\n      <td>State-gov</td>\n      <td>77516</td>\n      <td>Bachelors</td>\n      <td>13</td>\n      <td>Never-married</td>\n      <td>Adm-clerical</td>\n      <td>Not-in-family</td>\n      <td>White</td>\n      <td>Male</td>\n      <td>2174</td>\n      <td>0</td>\n      <td>40</td>\n      <td>United-States</td>\n      <td>&lt;=50K</td>\n    </tr>\n    <tr>\n      <th>1</th>\n      <td>50</td>\n      <td>Self-emp-not-inc</td>\n      <td>83311</td>\n      <td>Bachelors</td>\n      <td>13</td>\n      <td>Married-civ-spouse</td>\n      <td>Exec-managerial</td>\n      <td>Husband</td>\n      <td>White</td>\n      <td>Male</td>\n      <td>0</td>\n      <td>0</td>\n      <td>13</td>\n      <td>United-States</td>\n      <td>&lt;=50K</td>\n    </tr>\n    <tr>\n      <th>2</th>\n      <td>38</td>\n      <td>Private</td>\n      <td>215646</td>\n      <td>HS-grad</td>\n      <td>9</td>\n      <td>Divorced</td>\n      <td>Handlers-cleaners</td>\n      <td>Not-in-family</td>\n      <td>White</td>\n      <td>Male</td>\n      <td>0</td>\n      <td>0</td>\n      <td>40</td>\n      <td>United-States</td>\n      <td>&lt;=50K</td>\n    </tr>\n    <tr>\n      <th>3</th>\n      <td>53</td>\n      <td>Private</td>\n      <td>234721</td>\n      <td>11th</td>\n      <td>7</td>\n      <td>Married-civ-spouse</td>\n      <td>Handlers-cleaners</td>\n      <td>Husband</td>\n      <td>Black</td>\n      <td>Male</td>\n      <td>0</td>\n      <td>0</td>\n      <td>40</td>\n      <td>United-States</td>\n      <td>&lt;=50K</td>\n    </tr>\n    <tr>\n      <th>4</th>\n      <td>28</td>\n      <td>Private</td>\n      <td>338409</td>\n      <td>Bachelors</td>\n      <td>13</td>\n      <td>Married-civ-spouse</td>\n      <td>Prof-specialty</td>\n      <td>Wife</td>\n      <td>Black</td>\n      <td>Female</td>\n      <td>0</td>\n      <td>0</td>\n      <td>40</td>\n      <td>Cuba</td>\n      <td>&lt;=50K</td>\n    </tr>\n  </tbody>\n</table>\n</div>"
     },
     "execution_count": 4,
     "metadata": {},
     "output_type": "execute_result"
    }
   ],
   "source": [
    "df.head()"
   ],
   "metadata": {
    "collapsed": false,
    "pycharm": {
     "name": "#%%\n"
    }
   }
  },
  {
   "cell_type": "code",
   "execution_count": 5,
   "outputs": [
    {
     "data": {
      "text/plain": "0        0\n1     1836\n2        0\n3        0\n4        0\n5        0\n6     1843\n7        0\n8        0\n9        0\n10       0\n11       0\n12       0\n13     583\n14       0\ndtype: int64"
     },
     "execution_count": 5,
     "metadata": {},
     "output_type": "execute_result"
    }
   ],
   "source": [
    "df.isnull().sum()"
   ],
   "metadata": {
    "collapsed": false,
    "pycharm": {
     "name": "#%%\n"
    }
   }
  },
  {
   "cell_type": "code",
   "execution_count": 6,
   "outputs": [],
   "source": [
    "from sklearn.impute import SimpleImputer"
   ],
   "metadata": {
    "collapsed": false,
    "pycharm": {
     "name": "#%%\n"
    }
   }
  },
  {
   "cell_type": "code",
   "execution_count": 7,
   "outputs": [],
   "source": [
    "si=SimpleImputer(strategy='most_frequent')"
   ],
   "metadata": {
    "collapsed": false,
    "pycharm": {
     "name": "#%%\n"
    }
   }
  },
  {
   "cell_type": "code",
   "execution_count": 8,
   "outputs": [],
   "source": [
    "df=si.fit_transform(df)"
   ],
   "metadata": {
    "collapsed": false,
    "pycharm": {
     "name": "#%%\n"
    }
   }
  },
  {
   "cell_type": "code",
   "execution_count": 9,
   "outputs": [
    {
     "data": {
      "text/plain": "0     0\n1     0\n2     0\n3     0\n4     0\n5     0\n6     0\n7     0\n8     0\n9     0\n10    0\n11    0\n12    0\n13    0\n14    0\ndtype: int64"
     },
     "execution_count": 9,
     "metadata": {},
     "output_type": "execute_result"
    }
   ],
   "source": [
    "pd.DataFrame(df).isnull().sum()"
   ],
   "metadata": {
    "collapsed": false,
    "pycharm": {
     "name": "#%%\n"
    }
   }
  },
  {
   "cell_type": "code",
   "execution_count": 10,
   "outputs": [],
   "source": [
    "cols = [1,3,5,6,7,8,9,13,14]"
   ],
   "metadata": {
    "collapsed": false,
    "pycharm": {
     "name": "#%%\n"
    }
   }
  },
  {
   "cell_type": "code",
   "execution_count": 11,
   "outputs": [],
   "source": [
    "from sklearn.preprocessing import LabelEncoder"
   ],
   "metadata": {
    "collapsed": false,
    "pycharm": {
     "name": "#%%\n"
    }
   }
  },
  {
   "cell_type": "code",
   "execution_count": 13,
   "outputs": [],
   "source": [
    "le = LabelEncoder()"
   ],
   "metadata": {
    "collapsed": false,
    "pycharm": {
     "name": "#%%\n"
    }
   }
  },
  {
   "cell_type": "code",
   "execution_count": 15,
   "outputs": [],
   "source": [
    "df = pd.DataFrame(df)"
   ],
   "metadata": {
    "collapsed": false,
    "pycharm": {
     "name": "#%%\n"
    }
   }
  },
  {
   "cell_type": "code",
   "execution_count": 16,
   "outputs": [],
   "source": [
    "for i in cols:\n",
    "    df[i] = le.fit_transform(df[i])"
   ],
   "metadata": {
    "collapsed": false,
    "pycharm": {
     "name": "#%%\n"
    }
   }
  },
  {
   "cell_type": "code",
   "execution_count": 17,
   "outputs": [
    {
     "data": {
      "text/plain": "   0   1       2   3   4   5   6   7   8   9     10 11  12  13  14\n0  39   6   77516   9  13   4   0   1   4   1  2174  0  40  38   0\n1  50   5   83311   9  13   2   3   0   4   1     0  0  13  38   0\n2  38   3  215646  11   9   0   5   1   4   1     0  0  40  38   0\n3  53   3  234721   1   7   2   5   0   2   1     0  0  40  38   0\n4  28   3  338409   9  13   2   9   5   2   0     0  0  40   4   0",
      "text/html": "<div>\n<style scoped>\n    .dataframe tbody tr th:only-of-type {\n        vertical-align: middle;\n    }\n\n    .dataframe tbody tr th {\n        vertical-align: top;\n    }\n\n    .dataframe thead th {\n        text-align: right;\n    }\n</style>\n<table border=\"1\" class=\"dataframe\">\n  <thead>\n    <tr style=\"text-align: right;\">\n      <th></th>\n      <th>0</th>\n      <th>1</th>\n      <th>2</th>\n      <th>3</th>\n      <th>4</th>\n      <th>5</th>\n      <th>6</th>\n      <th>7</th>\n      <th>8</th>\n      <th>9</th>\n      <th>10</th>\n      <th>11</th>\n      <th>12</th>\n      <th>13</th>\n      <th>14</th>\n    </tr>\n  </thead>\n  <tbody>\n    <tr>\n      <th>0</th>\n      <td>39</td>\n      <td>6</td>\n      <td>77516</td>\n      <td>9</td>\n      <td>13</td>\n      <td>4</td>\n      <td>0</td>\n      <td>1</td>\n      <td>4</td>\n      <td>1</td>\n      <td>2174</td>\n      <td>0</td>\n      <td>40</td>\n      <td>38</td>\n      <td>0</td>\n    </tr>\n    <tr>\n      <th>1</th>\n      <td>50</td>\n      <td>5</td>\n      <td>83311</td>\n      <td>9</td>\n      <td>13</td>\n      <td>2</td>\n      <td>3</td>\n      <td>0</td>\n      <td>4</td>\n      <td>1</td>\n      <td>0</td>\n      <td>0</td>\n      <td>13</td>\n      <td>38</td>\n      <td>0</td>\n    </tr>\n    <tr>\n      <th>2</th>\n      <td>38</td>\n      <td>3</td>\n      <td>215646</td>\n      <td>11</td>\n      <td>9</td>\n      <td>0</td>\n      <td>5</td>\n      <td>1</td>\n      <td>4</td>\n      <td>1</td>\n      <td>0</td>\n      <td>0</td>\n      <td>40</td>\n      <td>38</td>\n      <td>0</td>\n    </tr>\n    <tr>\n      <th>3</th>\n      <td>53</td>\n      <td>3</td>\n      <td>234721</td>\n      <td>1</td>\n      <td>7</td>\n      <td>2</td>\n      <td>5</td>\n      <td>0</td>\n      <td>2</td>\n      <td>1</td>\n      <td>0</td>\n      <td>0</td>\n      <td>40</td>\n      <td>38</td>\n      <td>0</td>\n    </tr>\n    <tr>\n      <th>4</th>\n      <td>28</td>\n      <td>3</td>\n      <td>338409</td>\n      <td>9</td>\n      <td>13</td>\n      <td>2</td>\n      <td>9</td>\n      <td>5</td>\n      <td>2</td>\n      <td>0</td>\n      <td>0</td>\n      <td>0</td>\n      <td>40</td>\n      <td>4</td>\n      <td>0</td>\n    </tr>\n  </tbody>\n</table>\n</div>"
     },
     "execution_count": 17,
     "metadata": {},
     "output_type": "execute_result"
    }
   ],
   "source": [
    "df.head()"
   ],
   "metadata": {
    "collapsed": false,
    "pycharm": {
     "name": "#%%\n"
    }
   }
  },
  {
   "cell_type": "code",
   "execution_count": 18,
   "outputs": [
    {
     "data": {
      "text/plain": "(32561,)"
     },
     "execution_count": 18,
     "metadata": {},
     "output_type": "execute_result"
    }
   ],
   "source": [
    "y = df[14]\n",
    "y.shape"
   ],
   "metadata": {
    "collapsed": false,
    "pycharm": {
     "name": "#%%\n"
    }
   }
  },
  {
   "cell_type": "code",
   "execution_count": 19,
   "outputs": [
    {
     "data": {
      "text/plain": "(32561, 14)"
     },
     "execution_count": 19,
     "metadata": {},
     "output_type": "execute_result"
    }
   ],
   "source": [
    "x = df.drop(columns = 14)\n",
    "x.shape"
   ],
   "metadata": {
    "collapsed": false,
    "pycharm": {
     "name": "#%%\n"
    }
   }
  },
  {
   "cell_type": "code",
   "execution_count": 20,
   "outputs": [],
   "source": [
    "from sklearn.model_selection import train_test_split"
   ],
   "metadata": {
    "collapsed": false,
    "pycharm": {
     "name": "#%%\n"
    }
   }
  },
  {
   "cell_type": "code",
   "execution_count": 21,
   "outputs": [],
   "source": [
    "train_x,test_x,train_y, test_y = train_test_split(x,y,test_size = 0.3)"
   ],
   "metadata": {
    "collapsed": false,
    "pycharm": {
     "name": "#%%\n"
    }
   }
  },
  {
   "cell_type": "code",
   "execution_count": 22,
   "outputs": [
    {
     "data": {
      "text/plain": "(22792, 14)"
     },
     "execution_count": 22,
     "metadata": {},
     "output_type": "execute_result"
    }
   ],
   "source": [
    "train_x.shape"
   ],
   "metadata": {
    "collapsed": false,
    "pycharm": {
     "name": "#%%\n"
    }
   }
  },
  {
   "cell_type": "code",
   "execution_count": 23,
   "outputs": [
    {
     "data": {
      "text/plain": "(9769, 14)"
     },
     "execution_count": 23,
     "metadata": {},
     "output_type": "execute_result"
    }
   ],
   "source": [
    "test_x.shape"
   ],
   "metadata": {
    "collapsed": false,
    "pycharm": {
     "name": "#%%\n"
    }
   }
  },
  {
   "cell_type": "code",
   "execution_count": 24,
   "outputs": [
    {
     "data": {
      "text/plain": "                 1             3             5             6             7   \\\ncount  22792.000000  22792.000000  22792.000000  22792.000000  22792.000000   \nmean       3.095253     10.320025      2.604642      6.140005      1.440769   \nstd        1.100461      3.857492      1.506781      3.977583      1.605326   \nmin        0.000000      0.000000      0.000000      0.000000      0.000000   \n25%        3.000000      9.000000      2.000000      3.000000      0.000000   \n50%        3.000000     11.000000      2.000000      6.000000      1.000000   \n75%        3.000000     12.000000      4.000000      9.000000      3.000000   \nmax        7.000000     15.000000      6.000000     13.000000      5.000000   \n\n                 8             9             13  \ncount  22792.000000  22792.000000  22792.000000  \nmean       3.668831      0.673438     36.412425  \nstd        0.844506      0.468966      6.066627  \nmin        0.000000      0.000000      0.000000  \n25%        4.000000      0.000000     38.000000  \n50%        4.000000      1.000000     38.000000  \n75%        4.000000      1.000000     38.000000  \nmax        4.000000      1.000000     40.000000  ",
      "text/html": "<div>\n<style scoped>\n    .dataframe tbody tr th:only-of-type {\n        vertical-align: middle;\n    }\n\n    .dataframe tbody tr th {\n        vertical-align: top;\n    }\n\n    .dataframe thead th {\n        text-align: right;\n    }\n</style>\n<table border=\"1\" class=\"dataframe\">\n  <thead>\n    <tr style=\"text-align: right;\">\n      <th></th>\n      <th>1</th>\n      <th>3</th>\n      <th>5</th>\n      <th>6</th>\n      <th>7</th>\n      <th>8</th>\n      <th>9</th>\n      <th>13</th>\n    </tr>\n  </thead>\n  <tbody>\n    <tr>\n      <th>count</th>\n      <td>22792.000000</td>\n      <td>22792.000000</td>\n      <td>22792.000000</td>\n      <td>22792.000000</td>\n      <td>22792.000000</td>\n      <td>22792.000000</td>\n      <td>22792.000000</td>\n      <td>22792.000000</td>\n    </tr>\n    <tr>\n      <th>mean</th>\n      <td>3.095253</td>\n      <td>10.320025</td>\n      <td>2.604642</td>\n      <td>6.140005</td>\n      <td>1.440769</td>\n      <td>3.668831</td>\n      <td>0.673438</td>\n      <td>36.412425</td>\n    </tr>\n    <tr>\n      <th>std</th>\n      <td>1.100461</td>\n      <td>3.857492</td>\n      <td>1.506781</td>\n      <td>3.977583</td>\n      <td>1.605326</td>\n      <td>0.844506</td>\n      <td>0.468966</td>\n      <td>6.066627</td>\n    </tr>\n    <tr>\n      <th>min</th>\n      <td>0.000000</td>\n      <td>0.000000</td>\n      <td>0.000000</td>\n      <td>0.000000</td>\n      <td>0.000000</td>\n      <td>0.000000</td>\n      <td>0.000000</td>\n      <td>0.000000</td>\n    </tr>\n    <tr>\n      <th>25%</th>\n      <td>3.000000</td>\n      <td>9.000000</td>\n      <td>2.000000</td>\n      <td>3.000000</td>\n      <td>0.000000</td>\n      <td>4.000000</td>\n      <td>0.000000</td>\n      <td>38.000000</td>\n    </tr>\n    <tr>\n      <th>50%</th>\n      <td>3.000000</td>\n      <td>11.000000</td>\n      <td>2.000000</td>\n      <td>6.000000</td>\n      <td>1.000000</td>\n      <td>4.000000</td>\n      <td>1.000000</td>\n      <td>38.000000</td>\n    </tr>\n    <tr>\n      <th>75%</th>\n      <td>3.000000</td>\n      <td>12.000000</td>\n      <td>4.000000</td>\n      <td>9.000000</td>\n      <td>3.000000</td>\n      <td>4.000000</td>\n      <td>1.000000</td>\n      <td>38.000000</td>\n    </tr>\n    <tr>\n      <th>max</th>\n      <td>7.000000</td>\n      <td>15.000000</td>\n      <td>6.000000</td>\n      <td>13.000000</td>\n      <td>5.000000</td>\n      <td>4.000000</td>\n      <td>1.000000</td>\n      <td>40.000000</td>\n    </tr>\n  </tbody>\n</table>\n</div>"
     },
     "execution_count": 24,
     "metadata": {},
     "output_type": "execute_result"
    }
   ],
   "source": [
    "train_x.describe()"
   ],
   "metadata": {
    "collapsed": false,
    "pycharm": {
     "name": "#%%\n"
    }
   }
  },
  {
   "cell_type": "code",
   "execution_count": 25,
   "outputs": [],
   "source": [
    "from sklearn.preprocessing import StandardScaler"
   ],
   "metadata": {
    "collapsed": false,
    "pycharm": {
     "name": "#%%\n"
    }
   }
  },
  {
   "cell_type": "code",
   "execution_count": 26,
   "outputs": [],
   "source": [
    "sc = StandardScaler()"
   ],
   "metadata": {
    "collapsed": false,
    "pycharm": {
     "name": "#%%\n"
    }
   }
  },
  {
   "cell_type": "code",
   "execution_count": 27,
   "outputs": [],
   "source": [
    "train_x_sc = sc.fit_transform(train_x)"
   ],
   "metadata": {
    "collapsed": false,
    "pycharm": {
     "name": "#%%\n"
    }
   }
  },
  {
   "cell_type": "code",
   "execution_count": 29,
   "outputs": [
    {
     "data": {
      "text/plain": "                 0             1             2             3             4   \\\ncount  2.279200e+04  2.279200e+04  2.279200e+04  2.279200e+04  2.279200e+04   \nmean   1.162831e-16 -2.020146e-16  7.076746e-17  1.184654e-17  2.070026e-16   \nstd    1.000022e+00  1.000022e+00  1.000022e+00  1.000022e+00  1.000022e+00   \nmin   -1.581183e+00 -2.812750e+00 -1.612877e+00 -2.675378e+00 -3.542755e+00   \n25%   -7.775228e-01 -8.655904e-02 -6.803533e-01 -3.422051e-01 -4.209421e-01   \n50%   -1.199824e-01 -8.655904e-02 -1.097269e-01  1.762778e-01 -3.071545e-02   \n75%    6.836782e-01 -8.655904e-02  4.504112e-01  4.355193e-01  7.497378e-01   \nmax    3.752200e+00  3.548363e+00  1.226572e+01  1.213244e+00  2.310644e+00   \n\n                 5             6             7             8             9   \\\ncount  2.279200e+04  2.279200e+04  2.279200e+04  2.279200e+04  2.279200e+04   \nmean   8.230225e-17 -1.159713e-16  2.119906e-17 -1.758275e-16 -3.896887e-17   \nstd    1.000022e+00  1.000022e+00  1.000022e+00  1.000022e+00  1.000022e+00   \nmin   -1.728652e+00 -1.543686e+00 -8.975126e-01 -4.344445e+00 -1.436038e+00   \n25%   -4.012894e-01 -7.894427e-01 -8.975126e-01  3.921534e-01 -1.436038e+00   \n50%   -4.012894e-01 -3.519935e-02 -2.745725e-01  3.921534e-01  6.963602e-01   \n75%    9.260727e-01  7.190440e-01  9.713077e-01  3.921534e-01  6.963602e-01   \nmax    2.253435e+00  1.724702e+00  2.217188e+00  3.921534e-01  6.963602e-01   \n\n                 10            11            12            13  \ncount  2.279200e+04  2.279200e+04  2.279200e+04  2.279200e+04  \nmean  -4.988015e-18  7.856124e-17 -2.640530e-16 -2.783936e-16  \nstd    1.000022e+00  1.000022e+00  1.000022e+00  1.000022e+00  \nmin   -1.447014e-01 -2.161558e-01 -3.207398e+00 -6.002219e+00  \n25%   -1.447014e-01 -2.161558e-01 -3.995261e-02  2.616956e-01  \n50%   -1.447014e-01 -2.161558e-01 -3.995261e-02  2.616956e-01  \n75%   -1.447014e-01 -2.161558e-01  3.661301e-01  2.616956e-01  \nmax    1.287378e+01  1.070725e+01  4.751824e+00  5.913753e-01  ",
      "text/html": "<div>\n<style scoped>\n    .dataframe tbody tr th:only-of-type {\n        vertical-align: middle;\n    }\n\n    .dataframe tbody tr th {\n        vertical-align: top;\n    }\n\n    .dataframe thead th {\n        text-align: right;\n    }\n</style>\n<table border=\"1\" class=\"dataframe\">\n  <thead>\n    <tr style=\"text-align: right;\">\n      <th></th>\n      <th>0</th>\n      <th>1</th>\n      <th>2</th>\n      <th>3</th>\n      <th>4</th>\n      <th>5</th>\n      <th>6</th>\n      <th>7</th>\n      <th>8</th>\n      <th>9</th>\n      <th>10</th>\n      <th>11</th>\n      <th>12</th>\n      <th>13</th>\n    </tr>\n  </thead>\n  <tbody>\n    <tr>\n      <th>count</th>\n      <td>2.279200e+04</td>\n      <td>2.279200e+04</td>\n      <td>2.279200e+04</td>\n      <td>2.279200e+04</td>\n      <td>2.279200e+04</td>\n      <td>2.279200e+04</td>\n      <td>2.279200e+04</td>\n      <td>2.279200e+04</td>\n      <td>2.279200e+04</td>\n      <td>2.279200e+04</td>\n      <td>2.279200e+04</td>\n      <td>2.279200e+04</td>\n      <td>2.279200e+04</td>\n      <td>2.279200e+04</td>\n    </tr>\n    <tr>\n      <th>mean</th>\n      <td>1.162831e-16</td>\n      <td>-2.020146e-16</td>\n      <td>7.076746e-17</td>\n      <td>1.184654e-17</td>\n      <td>2.070026e-16</td>\n      <td>8.230225e-17</td>\n      <td>-1.159713e-16</td>\n      <td>2.119906e-17</td>\n      <td>-1.758275e-16</td>\n      <td>-3.896887e-17</td>\n      <td>-4.988015e-18</td>\n      <td>7.856124e-17</td>\n      <td>-2.640530e-16</td>\n      <td>-2.783936e-16</td>\n    </tr>\n    <tr>\n      <th>std</th>\n      <td>1.000022e+00</td>\n      <td>1.000022e+00</td>\n      <td>1.000022e+00</td>\n      <td>1.000022e+00</td>\n      <td>1.000022e+00</td>\n      <td>1.000022e+00</td>\n      <td>1.000022e+00</td>\n      <td>1.000022e+00</td>\n      <td>1.000022e+00</td>\n      <td>1.000022e+00</td>\n      <td>1.000022e+00</td>\n      <td>1.000022e+00</td>\n      <td>1.000022e+00</td>\n      <td>1.000022e+00</td>\n    </tr>\n    <tr>\n      <th>min</th>\n      <td>-1.581183e+00</td>\n      <td>-2.812750e+00</td>\n      <td>-1.612877e+00</td>\n      <td>-2.675378e+00</td>\n      <td>-3.542755e+00</td>\n      <td>-1.728652e+00</td>\n      <td>-1.543686e+00</td>\n      <td>-8.975126e-01</td>\n      <td>-4.344445e+00</td>\n      <td>-1.436038e+00</td>\n      <td>-1.447014e-01</td>\n      <td>-2.161558e-01</td>\n      <td>-3.207398e+00</td>\n      <td>-6.002219e+00</td>\n    </tr>\n    <tr>\n      <th>25%</th>\n      <td>-7.775228e-01</td>\n      <td>-8.655904e-02</td>\n      <td>-6.803533e-01</td>\n      <td>-3.422051e-01</td>\n      <td>-4.209421e-01</td>\n      <td>-4.012894e-01</td>\n      <td>-7.894427e-01</td>\n      <td>-8.975126e-01</td>\n      <td>3.921534e-01</td>\n      <td>-1.436038e+00</td>\n      <td>-1.447014e-01</td>\n      <td>-2.161558e-01</td>\n      <td>-3.995261e-02</td>\n      <td>2.616956e-01</td>\n    </tr>\n    <tr>\n      <th>50%</th>\n      <td>-1.199824e-01</td>\n      <td>-8.655904e-02</td>\n      <td>-1.097269e-01</td>\n      <td>1.762778e-01</td>\n      <td>-3.071545e-02</td>\n      <td>-4.012894e-01</td>\n      <td>-3.519935e-02</td>\n      <td>-2.745725e-01</td>\n      <td>3.921534e-01</td>\n      <td>6.963602e-01</td>\n      <td>-1.447014e-01</td>\n      <td>-2.161558e-01</td>\n      <td>-3.995261e-02</td>\n      <td>2.616956e-01</td>\n    </tr>\n    <tr>\n      <th>75%</th>\n      <td>6.836782e-01</td>\n      <td>-8.655904e-02</td>\n      <td>4.504112e-01</td>\n      <td>4.355193e-01</td>\n      <td>7.497378e-01</td>\n      <td>9.260727e-01</td>\n      <td>7.190440e-01</td>\n      <td>9.713077e-01</td>\n      <td>3.921534e-01</td>\n      <td>6.963602e-01</td>\n      <td>-1.447014e-01</td>\n      <td>-2.161558e-01</td>\n      <td>3.661301e-01</td>\n      <td>2.616956e-01</td>\n    </tr>\n    <tr>\n      <th>max</th>\n      <td>3.752200e+00</td>\n      <td>3.548363e+00</td>\n      <td>1.226572e+01</td>\n      <td>1.213244e+00</td>\n      <td>2.310644e+00</td>\n      <td>2.253435e+00</td>\n      <td>1.724702e+00</td>\n      <td>2.217188e+00</td>\n      <td>3.921534e-01</td>\n      <td>6.963602e-01</td>\n      <td>1.287378e+01</td>\n      <td>1.070725e+01</td>\n      <td>4.751824e+00</td>\n      <td>5.913753e-01</td>\n    </tr>\n  </tbody>\n</table>\n</div>"
     },
     "execution_count": 29,
     "metadata": {},
     "output_type": "execute_result"
    }
   ],
   "source": [
    "pd.DataFrame(train_x_sc).describe()"
   ],
   "metadata": {
    "collapsed": false,
    "pycharm": {
     "name": "#%%\n"
    }
   }
  },
  {
   "cell_type": "code",
   "execution_count": 30,
   "outputs": [],
   "source": [
    "from sklearn.linear_model import Perceptron"
   ],
   "metadata": {
    "collapsed": false,
    "pycharm": {
     "name": "#%%\n"
    }
   }
  },
  {
   "cell_type": "code",
   "execution_count": 31,
   "outputs": [],
   "source": [
    "p = Perceptron()"
   ],
   "metadata": {
    "collapsed": false,
    "pycharm": {
     "name": "#%%\n"
    }
   }
  },
  {
   "cell_type": "code",
   "execution_count": 32,
   "outputs": [
    {
     "data": {
      "text/plain": "Perceptron()"
     },
     "execution_count": 32,
     "metadata": {},
     "output_type": "execute_result"
    }
   ],
   "source": [
    "p.fit(train_x_sc,train_y)"
   ],
   "metadata": {
    "collapsed": false,
    "pycharm": {
     "name": "#%%\n"
    }
   }
  },
  {
   "cell_type": "code",
   "execution_count": 35,
   "outputs": [],
   "source": [
    "train_pred = p.predict(train_x_sc)\n",
    "test_pred = p.predict(test_x)"
   ],
   "metadata": {
    "collapsed": false,
    "pycharm": {
     "name": "#%%\n"
    }
   }
  },
  {
   "cell_type": "code",
   "execution_count": 38,
   "outputs": [],
   "source": [
    "from sklearn.metrics import accuracy_score"
   ],
   "metadata": {
    "collapsed": false,
    "pycharm": {
     "name": "#%%\n"
    }
   }
  },
  {
   "cell_type": "code",
   "execution_count": 39,
   "outputs": [
    {
     "name": "stdout",
     "output_type": "stream",
     "text": [
      "Training Accuracy :  0.765970515970516\n",
      "Testing Accuracy :  0.7808373426143924\n"
     ]
    }
   ],
   "source": [
    "print(\"Training Accuracy : \",accuracy_score(train_pred,train_y))\n",
    "print(\"Testing Accuracy : \",accuracy_score(test_pred,test_y))"
   ],
   "metadata": {
    "collapsed": false,
    "pycharm": {
     "name": "#%%\n"
    }
   }
  },
  {
   "cell_type": "code",
   "execution_count": 40,
   "outputs": [],
   "source": [
    "p1=Perceptron(penalty='l1')"
   ],
   "metadata": {
    "collapsed": false,
    "pycharm": {
     "name": "#%%\n"
    }
   }
  },
  {
   "cell_type": "code",
   "execution_count": 41,
   "outputs": [
    {
     "data": {
      "text/plain": "Perceptron(penalty='l1')"
     },
     "execution_count": 41,
     "metadata": {},
     "output_type": "execute_result"
    }
   ],
   "source": [
    "p1.fit(train_x_sc,train_y)"
   ],
   "metadata": {
    "collapsed": false,
    "pycharm": {
     "name": "#%%\n"
    }
   }
  },
  {
   "cell_type": "code",
   "execution_count": 42,
   "outputs": [],
   "source": [
    "train_pred_l1=p1.predict(train_x_sc)\n",
    "test_pred_l1=p1.predict(test_x)"
   ],
   "metadata": {
    "collapsed": false,
    "pycharm": {
     "name": "#%%\n"
    }
   }
  },
  {
   "cell_type": "code",
   "execution_count": 43,
   "outputs": [
    {
     "name": "stdout",
     "output_type": "stream",
     "text": [
      "Training Accuracy:  0.8094068094068094\n",
      "Testing Accuracy:  0.2397379465656669\n"
     ]
    }
   ],
   "source": [
    "print(\"Training Accuracy: \", accuracy_score(train_y, train_pred_l1 ))\n",
    "print(\"Testing Accuracy: \", accuracy_score(test_y, test_pred_l1))"
   ],
   "metadata": {
    "collapsed": false,
    "pycharm": {
     "name": "#%%\n"
    }
   }
  },
  {
   "cell_type": "code",
   "execution_count": 44,
   "outputs": [],
   "source": [
    "p2=Perceptron(penalty='l2')"
   ],
   "metadata": {
    "collapsed": false,
    "pycharm": {
     "name": "#%%\n"
    }
   }
  },
  {
   "cell_type": "code",
   "execution_count": 45,
   "outputs": [
    {
     "data": {
      "text/plain": "Perceptron(penalty='l2')"
     },
     "execution_count": 45,
     "metadata": {},
     "output_type": "execute_result"
    }
   ],
   "source": [
    "p2.fit(train_x_sc,train_y)"
   ],
   "metadata": {
    "collapsed": false,
    "pycharm": {
     "name": "#%%\n"
    }
   }
  },
  {
   "cell_type": "code",
   "execution_count": 46,
   "outputs": [],
   "source": [
    "train_pred_l2=p2.predict(train_x_sc)\n",
    "test_pred_l2=p2.predict(test_x)"
   ],
   "metadata": {
    "collapsed": false,
    "pycharm": {
     "name": "#%%\n"
    }
   }
  },
  {
   "cell_type": "code",
   "execution_count": 47,
   "outputs": [
    {
     "name": "stdout",
     "output_type": "stream",
     "text": [
      "Training Accuracy:  0.7876447876447876\n",
      "Testing Accuracy:  0.2397379465656669\n"
     ]
    }
   ],
   "source": [
    "print(\"Training Accuracy: \", accuracy_score(train_y, train_pred_l2 ))\n",
    "print(\"Testing Accuracy: \", accuracy_score(test_y, test_pred_l2))"
   ],
   "metadata": {
    "collapsed": false,
    "pycharm": {
     "name": "#%%\n"
    }
   }
  },
  {
   "cell_type": "code",
   "execution_count": 48,
   "outputs": [],
   "source": [
    "p3=Perceptron(penalty='elasticnet')"
   ],
   "metadata": {
    "collapsed": false,
    "pycharm": {
     "name": "#%%\n"
    }
   }
  },
  {
   "cell_type": "code",
   "execution_count": 49,
   "outputs": [
    {
     "data": {
      "text/plain": "Perceptron(penalty='elasticnet')"
     },
     "execution_count": 49,
     "metadata": {},
     "output_type": "execute_result"
    }
   ],
   "source": [
    "p3.fit(train_x_sc,train_y)"
   ],
   "metadata": {
    "collapsed": false,
    "pycharm": {
     "name": "#%%\n"
    }
   }
  },
  {
   "cell_type": "code",
   "execution_count": 50,
   "outputs": [],
   "source": [
    "train_pred_l3=p2.predict(train_x_sc)\n",
    "test_pred_l3=p2.predict(test_x)"
   ],
   "metadata": {
    "collapsed": false,
    "pycharm": {
     "name": "#%%\n"
    }
   }
  },
  {
   "cell_type": "code",
   "execution_count": 51,
   "outputs": [
    {
     "name": "stdout",
     "output_type": "stream",
     "text": [
      "Training Accuracy:  0.7876447876447876\n",
      "Testing Accuracy:  0.2397379465656669\n"
     ]
    }
   ],
   "source": [
    "print(\"Training Accuracy: \", accuracy_score(train_y, train_pred_l3 ))\n",
    "print(\"Testing Accuracy: \", accuracy_score(test_y, test_pred_l3))"
   ],
   "metadata": {
    "collapsed": false,
    "pycharm": {
     "name": "#%%\n"
    }
   }
  },
  {
   "cell_type": "code",
   "execution_count": 52,
   "outputs": [],
   "source": [
    "from sklearn.metrics import confusion_matrix, precision_score, recall_score, f1_score, precision_recall_curve"
   ],
   "metadata": {
    "collapsed": false,
    "pycharm": {
     "name": "#%%\n"
    }
   }
  },
  {
   "cell_type": "code",
   "execution_count": 53,
   "outputs": [
    {
     "name": "stdout",
     "output_type": "stream",
     "text": [
      "[[   0 7427]\n",
      " [   0 2342]]\n"
     ]
    }
   ],
   "source": [
    "print(confusion_matrix(test_y, test_pred_l2))"
   ],
   "metadata": {
    "collapsed": false,
    "pycharm": {
     "name": "#%%\n"
    }
   }
  },
  {
   "cell_type": "code",
   "execution_count": 55,
   "outputs": [],
   "source": [
    "reg=['l1', 'l2', 'elasticnet']\n",
    "C=[0.001, 0.01, 0.1, 1]"
   ],
   "metadata": {
    "collapsed": false,
    "pycharm": {
     "name": "#%%\n"
    }
   }
  },
  {
   "cell_type": "code",
   "execution_count": 60,
   "outputs": [],
   "source": [
    "from sklearn.linear_model import LogisticRegression\n",
    "lr = LogisticRegression(penalty = 'none')\n",
    "#l1 is not considered as it cannot work with it"
   ],
   "metadata": {
    "collapsed": false,
    "pycharm": {
     "name": "#%%\n"
    }
   }
  },
  {
   "cell_type": "code",
   "execution_count": 61,
   "outputs": [
    {
     "data": {
      "text/plain": "LogisticRegression(penalty='none')"
     },
     "execution_count": 61,
     "metadata": {},
     "output_type": "execute_result"
    }
   ],
   "source": [
    "lr.fit(train_x_sc,train_y)"
   ],
   "metadata": {
    "collapsed": false,
    "pycharm": {
     "name": "#%%\n"
    }
   }
  },
  {
   "cell_type": "code",
   "execution_count": 62,
   "outputs": [],
   "source": [
    "train_pred_lr = lr.predict(train_x_sc)\n",
    "test_pred_lr = lr.predict(test_x)"
   ],
   "metadata": {
    "collapsed": false,
    "pycharm": {
     "name": "#%%\n"
    }
   }
  },
  {
   "cell_type": "code",
   "execution_count": 63,
   "outputs": [
    {
     "name": "stdout",
     "output_type": "stream",
     "text": [
      "Training Accuracy:  0.8242365742365743\n",
      "Testing Accuracy:  0.2397379465656669\n"
     ]
    }
   ],
   "source": [
    "print(\"Training Accuracy: \", accuracy_score(train_pred_lr, train_y ))\n",
    "print(\"Testing Accuracy: \", accuracy_score(test_pred_lr, test_y))"
   ],
   "metadata": {
    "collapsed": false,
    "pycharm": {
     "name": "#%%\n"
    }
   }
  },
  {
   "cell_type": "code",
   "execution_count": 66,
   "outputs": [],
   "source": [
    "# drop column 7 8 9 and check again"
   ],
   "metadata": {
    "collapsed": false,
    "pycharm": {
     "name": "#%%\n"
    }
   }
  },
  {
   "cell_type": "code",
   "execution_count": null,
   "outputs": [],
   "source": [],
   "metadata": {
    "collapsed": false,
    "pycharm": {
     "name": "#%%\n"
    }
   }
  }
 ],
 "metadata": {
  "kernelspec": {
   "display_name": "Python 3",
   "language": "python",
   "name": "python3"
  },
  "language_info": {
   "codemirror_mode": {
    "name": "ipython",
    "version": 2
   },
   "file_extension": ".py",
   "mimetype": "text/x-python",
   "name": "python",
   "nbconvert_exporter": "python",
   "pygments_lexer": "ipython2",
   "version": "2.7.6"
  }
 },
 "nbformat": 4,
 "nbformat_minor": 0
}