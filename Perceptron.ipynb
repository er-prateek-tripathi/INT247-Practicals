{
 "cells": [
  {
   "cell_type": "code",
   "execution_count": 1,
   "metadata": {
    "id": "8dcna8mg52l8"
   },
   "outputs": [],
   "source": [
    "from sklearn.datasets import load_iris"
   ]
  },
  {
   "cell_type": "code",
   "execution_count": 2,
   "metadata": {
    "id": "G3Zgevwr6HD7"
   },
   "outputs": [],
   "source": [
    "x=load_iris().data"
   ]
  },
  {
   "cell_type": "code",
   "execution_count": 3,
   "metadata": {
    "id": "roCBQXPk6ftz"
   },
   "outputs": [],
   "source": [
    "y=load_iris().target"
   ]
  },
  {
   "cell_type": "code",
   "execution_count": 4,
   "metadata": {
    "colab": {
     "base_uri": "https://localhost:8080/"
    },
    "id": "H5hQ3a1Z6uBX",
    "outputId": "7350a793-c39a-40b2-d8eb-83454777c77d"
   },
   "outputs": [
    {
     "data": {
      "text/plain": [
       "(150, 4)"
      ]
     },
     "execution_count": 4,
     "metadata": {},
     "output_type": "execute_result"
    }
   ],
   "source": [
    "x.shape"
   ]
  },
  {
   "cell_type": "code",
   "execution_count": 5,
   "metadata": {
    "colab": {
     "base_uri": "https://localhost:8080/"
    },
    "id": "otVnlY-e6xLW",
    "outputId": "ad860fb4-94b0-40fe-b41e-5651a33c3dce"
   },
   "outputs": [
    {
     "data": {
      "text/plain": [
       "(150,)"
      ]
     },
     "execution_count": 5,
     "metadata": {},
     "output_type": "execute_result"
    }
   ],
   "source": [
    "y.shape"
   ]
  },
  {
   "cell_type": "code",
   "execution_count": 6,
   "metadata": {
    "colab": {
     "base_uri": "https://localhost:8080/"
    },
    "id": "TXckIFhs60lr",
    "outputId": "c9d4d379-fd9a-4e05-9f07-7589697d1a7e"
   },
   "outputs": [
    {
     "data": {
      "text/plain": [
       "array([0, 1, 2])"
      ]
     },
     "execution_count": 6,
     "metadata": {},
     "output_type": "execute_result"
    }
   ],
   "source": [
    "import numpy as np\n",
    "np.unique(y)"
   ]
  },
  {
   "cell_type": "code",
   "execution_count": 7,
   "metadata": {
    "id": "NLNTM0Sv7DMC"
   },
   "outputs": [],
   "source": [
    "import pandas as pd"
   ]
  },
  {
   "cell_type": "code",
   "execution_count": 8,
   "metadata": {
    "colab": {
     "base_uri": "https://localhost:8080/"
    },
    "id": "T-jzY8FK7VKl",
    "outputId": "c30f609f-3690-4087-e6ef-cfeb3ae11d10"
   },
   "outputs": [
    {
     "data": {
      "text/plain": [
       "0    0\n",
       "1    0\n",
       "2    0\n",
       "3    0\n",
       "dtype: int64"
      ]
     },
     "execution_count": 8,
     "metadata": {},
     "output_type": "execute_result"
    }
   ],
   "source": [
    "pd.DataFrame(x).isnull().sum()"
   ]
  },
  {
   "cell_type": "code",
   "execution_count": 9,
   "metadata": {
    "colab": {
     "base_uri": "https://localhost:8080/",
     "height": 206
    },
    "id": "Rkbu7J0g7Z_E",
    "outputId": "c53c952c-2917-4a28-8f74-c530993c1c48"
   },
   "outputs": [
    {
     "data": {
      "text/html": [
       "<div>\n",
       "<style scoped>\n",
       "    .dataframe tbody tr th:only-of-type {\n",
       "        vertical-align: middle;\n",
       "    }\n",
       "\n",
       "    .dataframe tbody tr th {\n",
       "        vertical-align: top;\n",
       "    }\n",
       "\n",
       "    .dataframe thead th {\n",
       "        text-align: right;\n",
       "    }\n",
       "</style>\n",
       "<table border=\"1\" class=\"dataframe\">\n",
       "  <thead>\n",
       "    <tr style=\"text-align: right;\">\n",
       "      <th></th>\n",
       "      <th>0</th>\n",
       "      <th>1</th>\n",
       "      <th>2</th>\n",
       "      <th>3</th>\n",
       "    </tr>\n",
       "  </thead>\n",
       "  <tbody>\n",
       "    <tr>\n",
       "      <th>0</th>\n",
       "      <td>5.1</td>\n",
       "      <td>3.5</td>\n",
       "      <td>1.4</td>\n",
       "      <td>0.2</td>\n",
       "    </tr>\n",
       "    <tr>\n",
       "      <th>1</th>\n",
       "      <td>4.9</td>\n",
       "      <td>3.0</td>\n",
       "      <td>1.4</td>\n",
       "      <td>0.2</td>\n",
       "    </tr>\n",
       "    <tr>\n",
       "      <th>2</th>\n",
       "      <td>4.7</td>\n",
       "      <td>3.2</td>\n",
       "      <td>1.3</td>\n",
       "      <td>0.2</td>\n",
       "    </tr>\n",
       "    <tr>\n",
       "      <th>3</th>\n",
       "      <td>4.6</td>\n",
       "      <td>3.1</td>\n",
       "      <td>1.5</td>\n",
       "      <td>0.2</td>\n",
       "    </tr>\n",
       "    <tr>\n",
       "      <th>4</th>\n",
       "      <td>5.0</td>\n",
       "      <td>3.6</td>\n",
       "      <td>1.4</td>\n",
       "      <td>0.2</td>\n",
       "    </tr>\n",
       "  </tbody>\n",
       "</table>\n",
       "</div>"
      ],
      "text/plain": [
       "     0    1    2    3\n",
       "0  5.1  3.5  1.4  0.2\n",
       "1  4.9  3.0  1.4  0.2\n",
       "2  4.7  3.2  1.3  0.2\n",
       "3  4.6  3.1  1.5  0.2\n",
       "4  5.0  3.6  1.4  0.2"
      ]
     },
     "execution_count": 9,
     "metadata": {},
     "output_type": "execute_result"
    }
   ],
   "source": [
    "pd.DataFrame(x).head()"
   ]
  },
  {
   "cell_type": "code",
   "execution_count": 10,
   "metadata": {
    "id": "PhzvSslP7mmG"
   },
   "outputs": [],
   "source": [
    "from sklearn.model_selection import train_test_split"
   ]
  },
  {
   "cell_type": "code",
   "execution_count": 11,
   "metadata": {
    "id": "iwlSgzzG7xb9"
   },
   "outputs": [],
   "source": [
    "train_x, test_x, train_y, test_y=train_test_split(x,y, test_size=(0.3))"
   ]
  },
  {
   "cell_type": "code",
   "execution_count": 12,
   "metadata": {
    "colab": {
     "base_uri": "https://localhost:8080/"
    },
    "id": "4uWNEgCw77HG",
    "outputId": "5c126ed3-d47b-4ea1-beaf-db754f440b92"
   },
   "outputs": [
    {
     "data": {
      "text/plain": [
       "(105, 4)"
      ]
     },
     "execution_count": 12,
     "metadata": {},
     "output_type": "execute_result"
    }
   ],
   "source": [
    "train_x.shape"
   ]
  },
  {
   "cell_type": "code",
   "execution_count": 13,
   "metadata": {
    "colab": {
     "base_uri": "https://localhost:8080/"
    },
    "id": "SLDG1CGC8Ce6",
    "outputId": "3aa0be91-7e39-46c8-d961-64ecf5e92bbf"
   },
   "outputs": [
    {
     "data": {
      "text/plain": [
       "(45, 4)"
      ]
     },
     "execution_count": 13,
     "metadata": {},
     "output_type": "execute_result"
    }
   ],
   "source": [
    "test_x.shape"
   ]
  },
  {
   "cell_type": "code",
   "execution_count": 14,
   "metadata": {
    "colab": {
     "base_uri": "https://localhost:8080/",
     "height": 300
    },
    "id": "yTgkRngr8JJd",
    "outputId": "5539a3ef-198e-4d5d-8e3b-1299e2e3d660"
   },
   "outputs": [
    {
     "data": {
      "text/html": [
       "<div>\n",
       "<style scoped>\n",
       "    .dataframe tbody tr th:only-of-type {\n",
       "        vertical-align: middle;\n",
       "    }\n",
       "\n",
       "    .dataframe tbody tr th {\n",
       "        vertical-align: top;\n",
       "    }\n",
       "\n",
       "    .dataframe thead th {\n",
       "        text-align: right;\n",
       "    }\n",
       "</style>\n",
       "<table border=\"1\" class=\"dataframe\">\n",
       "  <thead>\n",
       "    <tr style=\"text-align: right;\">\n",
       "      <th></th>\n",
       "      <th>0</th>\n",
       "      <th>1</th>\n",
       "      <th>2</th>\n",
       "      <th>3</th>\n",
       "    </tr>\n",
       "  </thead>\n",
       "  <tbody>\n",
       "    <tr>\n",
       "      <th>count</th>\n",
       "      <td>105.000000</td>\n",
       "      <td>105.000000</td>\n",
       "      <td>105.000000</td>\n",
       "      <td>105.000000</td>\n",
       "    </tr>\n",
       "    <tr>\n",
       "      <th>mean</th>\n",
       "      <td>5.900952</td>\n",
       "      <td>3.050476</td>\n",
       "      <td>3.812381</td>\n",
       "      <td>1.220952</td>\n",
       "    </tr>\n",
       "    <tr>\n",
       "      <th>std</th>\n",
       "      <td>0.825960</td>\n",
       "      <td>0.450667</td>\n",
       "      <td>1.736193</td>\n",
       "      <td>0.746362</td>\n",
       "    </tr>\n",
       "    <tr>\n",
       "      <th>min</th>\n",
       "      <td>4.400000</td>\n",
       "      <td>2.000000</td>\n",
       "      <td>1.000000</td>\n",
       "      <td>0.100000</td>\n",
       "    </tr>\n",
       "    <tr>\n",
       "      <th>25%</th>\n",
       "      <td>5.200000</td>\n",
       "      <td>2.800000</td>\n",
       "      <td>1.600000</td>\n",
       "      <td>0.400000</td>\n",
       "    </tr>\n",
       "    <tr>\n",
       "      <th>50%</th>\n",
       "      <td>5.800000</td>\n",
       "      <td>3.000000</td>\n",
       "      <td>4.300000</td>\n",
       "      <td>1.300000</td>\n",
       "    </tr>\n",
       "    <tr>\n",
       "      <th>75%</th>\n",
       "      <td>6.500000</td>\n",
       "      <td>3.400000</td>\n",
       "      <td>5.100000</td>\n",
       "      <td>1.800000</td>\n",
       "    </tr>\n",
       "    <tr>\n",
       "      <th>max</th>\n",
       "      <td>7.900000</td>\n",
       "      <td>4.400000</td>\n",
       "      <td>6.700000</td>\n",
       "      <td>2.500000</td>\n",
       "    </tr>\n",
       "  </tbody>\n",
       "</table>\n",
       "</div>"
      ],
      "text/plain": [
       "                0           1           2           3\n",
       "count  105.000000  105.000000  105.000000  105.000000\n",
       "mean     5.900952    3.050476    3.812381    1.220952\n",
       "std      0.825960    0.450667    1.736193    0.746362\n",
       "min      4.400000    2.000000    1.000000    0.100000\n",
       "25%      5.200000    2.800000    1.600000    0.400000\n",
       "50%      5.800000    3.000000    4.300000    1.300000\n",
       "75%      6.500000    3.400000    5.100000    1.800000\n",
       "max      7.900000    4.400000    6.700000    2.500000"
      ]
     },
     "execution_count": 14,
     "metadata": {},
     "output_type": "execute_result"
    }
   ],
   "source": [
    "pd.DataFrame(train_x).describe()"
   ]
  },
  {
   "cell_type": "code",
   "execution_count": 15,
   "metadata": {
    "id": "44vCeu9_8S4F"
   },
   "outputs": [],
   "source": [
    "from sklearn.preprocessing import StandardScaler"
   ]
  },
  {
   "cell_type": "code",
   "execution_count": 16,
   "metadata": {
    "id": "Mvoa1Gs98fzl"
   },
   "outputs": [],
   "source": [
    "sc=StandardScaler()"
   ]
  },
  {
   "cell_type": "code",
   "execution_count": 17,
   "metadata": {
    "id": "2d327VeD8idR"
   },
   "outputs": [],
   "source": [
    "train_x_sc=sc.fit_transform(train_x)"
   ]
  },
  {
   "cell_type": "code",
   "execution_count": 18,
   "metadata": {
    "colab": {
     "base_uri": "https://localhost:8080/",
     "height": 300
    },
    "id": "TVTQTadM8rwW",
    "outputId": "da934cc3-7a1b-4762-de14-2e55ba05caca"
   },
   "outputs": [
    {
     "data": {
      "text/html": [
       "<div>\n",
       "<style scoped>\n",
       "    .dataframe tbody tr th:only-of-type {\n",
       "        vertical-align: middle;\n",
       "    }\n",
       "\n",
       "    .dataframe tbody tr th {\n",
       "        vertical-align: top;\n",
       "    }\n",
       "\n",
       "    .dataframe thead th {\n",
       "        text-align: right;\n",
       "    }\n",
       "</style>\n",
       "<table border=\"1\" class=\"dataframe\">\n",
       "  <thead>\n",
       "    <tr style=\"text-align: right;\">\n",
       "      <th></th>\n",
       "      <th>0</th>\n",
       "      <th>1</th>\n",
       "      <th>2</th>\n",
       "      <th>3</th>\n",
       "    </tr>\n",
       "  </thead>\n",
       "  <tbody>\n",
       "    <tr>\n",
       "      <th>count</th>\n",
       "      <td>1.050000e+02</td>\n",
       "      <td>1.050000e+02</td>\n",
       "      <td>1.050000e+02</td>\n",
       "      <td>1.050000e+02</td>\n",
       "    </tr>\n",
       "    <tr>\n",
       "      <th>mean</th>\n",
       "      <td>1.078502e-15</td>\n",
       "      <td>-1.205121e-15</td>\n",
       "      <td>2.135858e-16</td>\n",
       "      <td>-6.948146e-16</td>\n",
       "    </tr>\n",
       "    <tr>\n",
       "      <th>std</th>\n",
       "      <td>1.004796e+00</td>\n",
       "      <td>1.004796e+00</td>\n",
       "      <td>1.004796e+00</td>\n",
       "      <td>1.004796e+00</td>\n",
       "    </tr>\n",
       "    <tr>\n",
       "      <th>min</th>\n",
       "      <td>-1.825936e+00</td>\n",
       "      <td>-2.342116e+00</td>\n",
       "      <td>-1.627625e+00</td>\n",
       "      <td>-1.509091e+00</td>\n",
       "    </tr>\n",
       "    <tr>\n",
       "      <th>25%</th>\n",
       "      <td>-8.527216e-01</td>\n",
       "      <td>-5.584556e-01</td>\n",
       "      <td>-1.280383e+00</td>\n",
       "      <td>-1.105214e+00</td>\n",
       "    </tr>\n",
       "    <tr>\n",
       "      <th>50%</th>\n",
       "      <td>-1.228104e-01</td>\n",
       "      <td>-1.125405e-01</td>\n",
       "      <td>2.822024e-01</td>\n",
       "      <td>1.064185e-01</td>\n",
       "    </tr>\n",
       "    <tr>\n",
       "      <th>75%</th>\n",
       "      <td>7.287526e-01</td>\n",
       "      <td>7.792898e-01</td>\n",
       "      <td>7.451908e-01</td>\n",
       "      <td>7.795474e-01</td>\n",
       "    </tr>\n",
       "    <tr>\n",
       "      <th>max</th>\n",
       "      <td>2.431879e+00</td>\n",
       "      <td>3.008866e+00</td>\n",
       "      <td>1.671168e+00</td>\n",
       "      <td>1.721928e+00</td>\n",
       "    </tr>\n",
       "  </tbody>\n",
       "</table>\n",
       "</div>"
      ],
      "text/plain": [
       "                  0             1             2             3\n",
       "count  1.050000e+02  1.050000e+02  1.050000e+02  1.050000e+02\n",
       "mean   1.078502e-15 -1.205121e-15  2.135858e-16 -6.948146e-16\n",
       "std    1.004796e+00  1.004796e+00  1.004796e+00  1.004796e+00\n",
       "min   -1.825936e+00 -2.342116e+00 -1.627625e+00 -1.509091e+00\n",
       "25%   -8.527216e-01 -5.584556e-01 -1.280383e+00 -1.105214e+00\n",
       "50%   -1.228104e-01 -1.125405e-01  2.822024e-01  1.064185e-01\n",
       "75%    7.287526e-01  7.792898e-01  7.451908e-01  7.795474e-01\n",
       "max    2.431879e+00  3.008866e+00  1.671168e+00  1.721928e+00"
      ]
     },
     "execution_count": 18,
     "metadata": {},
     "output_type": "execute_result"
    }
   ],
   "source": [
    "pd.DataFrame(train_x_sc).describe()"
   ]
  },
  {
   "cell_type": "code",
   "execution_count": 19,
   "metadata": {
    "id": "2OcIbhaf8x8E"
   },
   "outputs": [],
   "source": [
    "from sklearn.linear_model import Perceptron"
   ]
  },
  {
   "cell_type": "code",
   "execution_count": 20,
   "metadata": {
    "colab": {
     "base_uri": "https://localhost:8080/"
    },
    "id": "cOFP0DSp8D45",
    "outputId": "210a4c09-a71a-48d1-d8cc-7faba42146a2"
   },
   "outputs": [
    {
     "data": {
      "text/plain": [
       "Perceptron()"
      ]
     },
     "execution_count": 20,
     "metadata": {},
     "output_type": "execute_result"
    }
   ],
   "source": [
    "p=Perceptron()\n",
    "p.fit(train_x_sc,train_y)"
   ]
  },
  {
   "cell_type": "code",
   "execution_count": 21,
   "metadata": {
    "id": "KDMrcb-b8dRI"
   },
   "outputs": [],
   "source": [
    "test_pred=p.predict(test_x)\n",
    "train_pred=p.predict(train_x_sc)"
   ]
  },
  {
   "cell_type": "code",
   "execution_count": 22,
   "metadata": {
    "id": "fYhlz_ys8ti5"
   },
   "outputs": [],
   "source": [
    "from sklearn.metrics import accuracy_score"
   ]
  },
  {
   "cell_type": "code",
   "execution_count": 23,
   "metadata": {
    "colab": {
     "base_uri": "https://localhost:8080/"
    },
    "id": "w0loFfW381aV",
    "outputId": "f406ac6d-221e-4a05-d9f6-e769542ddd10"
   },
   "outputs": [
    {
     "name": "stdout",
     "output_type": "stream",
     "text": [
      "Training Accuracy:  0.9047619047619048\n"
     ]
    }
   ],
   "source": [
    "print(\"Training Accuracy: \", accuracy_score(train_y, train_pred ))"
   ]
  },
  {
   "cell_type": "code",
   "execution_count": 24,
   "metadata": {
    "colab": {
     "base_uri": "https://localhost:8080/"
    },
    "id": "Dc-bnyJk9Hvu",
    "outputId": "5e1f9c96-75f5-4f46-dba8-e81151358883"
   },
   "outputs": [
    {
     "name": "stdout",
     "output_type": "stream",
     "text": [
      "Testing Accuracy:  0.37777777777777777\n"
     ]
    }
   ],
   "source": [
    "print(\"Testing Accuracy: \", accuracy_score(test_y, test_pred))"
   ]
  },
  {
   "cell_type": "code",
   "execution_count": 25,
   "metadata": {
    "id": "n6OCCH459QvV"
   },
   "outputs": [],
   "source": [
    "p1=Perceptron(penalty='l1')"
   ]
  },
  {
   "cell_type": "code",
   "execution_count": 26,
   "metadata": {
    "colab": {
     "base_uri": "https://localhost:8080/"
    },
    "id": "ChmT_HHv_G5Y",
    "outputId": "3f4cad8e-b3b4-4653-b57e-f2e382a7739a"
   },
   "outputs": [
    {
     "data": {
      "text/plain": [
       "Perceptron(penalty='l1')"
      ]
     },
     "execution_count": 26,
     "metadata": {},
     "output_type": "execute_result"
    }
   ],
   "source": [
    "p1.fit(train_x_sc,train_y)"
   ]
  },
  {
   "cell_type": "code",
   "execution_count": 27,
   "metadata": {
    "id": "ckn6e8lF_P3S"
   },
   "outputs": [],
   "source": [
    "train_pred_l1=p1.predict(train_x_sc)\n",
    "test_pred_l1=p1.predict(test_x)"
   ]
  },
  {
   "cell_type": "code",
   "execution_count": 28,
   "metadata": {
    "colab": {
     "base_uri": "https://localhost:8080/"
    },
    "id": "HgWOQTZHEA4D",
    "outputId": "71fe48a4-be81-4173-ba04-d1744c27b5f2"
   },
   "outputs": [
    {
     "name": "stdout",
     "output_type": "stream",
     "text": [
      "Training Accuracy:  0.9619047619047619\n"
     ]
    }
   ],
   "source": [
    "print(\"Training Accuracy: \", accuracy_score(train_y, train_pred_l1 ))"
   ]
  },
  {
   "cell_type": "code",
   "execution_count": 29,
   "metadata": {
    "colab": {
     "base_uri": "https://localhost:8080/"
    },
    "id": "SVvKLNV8EG8E",
    "outputId": "b20cba54-0df5-4192-ec88-64634a43fb70"
   },
   "outputs": [
    {
     "name": "stdout",
     "output_type": "stream",
     "text": [
      "Testing Accuracy:  0.37777777777777777\n"
     ]
    }
   ],
   "source": [
    "print(\"Testing Accuracy: \", accuracy_score(test_y, test_pred_l1))"
   ]
  },
  {
   "cell_type": "code",
   "execution_count": 30,
   "metadata": {
    "id": "0OOZ629aELeA"
   },
   "outputs": [],
   "source": [
    "p2=Perceptron(penalty='l2')"
   ]
  },
  {
   "cell_type": "code",
   "execution_count": 31,
   "metadata": {
    "colab": {
     "base_uri": "https://localhost:8080/"
    },
    "id": "mid-qr08ETBD",
    "outputId": "2450f8ec-b25a-41a8-8f6d-f8785b220564"
   },
   "outputs": [
    {
     "data": {
      "text/plain": [
       "Perceptron(penalty='l2')"
      ]
     },
     "execution_count": 31,
     "metadata": {},
     "output_type": "execute_result"
    }
   ],
   "source": [
    "p2.fit(train_x_sc,train_y)"
   ]
  },
  {
   "cell_type": "code",
   "execution_count": 32,
   "metadata": {
    "id": "IEjGY3_6EYrn"
   },
   "outputs": [],
   "source": [
    "train_pred_l2=p2.predict(train_x_sc)\n",
    "test_pred_l2=p2.predict(test_x)"
   ]
  },
  {
   "cell_type": "code",
   "execution_count": 33,
   "metadata": {
    "colab": {
     "base_uri": "https://localhost:8080/"
    },
    "id": "by4BYV8zEcfE",
    "outputId": "b7500238-a0c7-4393-b847-fdd0db90e1ff"
   },
   "outputs": [
    {
     "name": "stdout",
     "output_type": "stream",
     "text": [
      "Training Accuracy:  0.9619047619047619\n"
     ]
    }
   ],
   "source": [
    "print(\"Training Accuracy: \", accuracy_score(train_y, train_pred_l2 ))"
   ]
  },
  {
   "cell_type": "code",
   "execution_count": 34,
   "metadata": {
    "colab": {
     "base_uri": "https://localhost:8080/"
    },
    "id": "fI5LhNkCEm3d",
    "outputId": "44ef52ee-3303-44c8-ee64-1556cc781932"
   },
   "outputs": [
    {
     "name": "stdout",
     "output_type": "stream",
     "text": [
      "Testing Accuracy:  0.37777777777777777\n"
     ]
    }
   ],
   "source": [
    "print(\"Testing Accuracy: \", accuracy_score(test_y, test_pred_l2))"
   ]
  },
  {
   "cell_type": "code",
   "execution_count": 35,
   "metadata": {
    "id": "FK9-pLd6E1oc"
   },
   "outputs": [],
   "source": [
    "p3=Perceptron(penalty='elasticnet', alpha=0.1)"
   ]
  },
  {
   "cell_type": "code",
   "execution_count": 36,
   "metadata": {
    "colab": {
     "base_uri": "https://localhost:8080/"
    },
    "id": "ipgVjPAHE-WQ",
    "outputId": "bdc8b16c-4aba-4d89-fbe5-f5977ce4095b"
   },
   "outputs": [
    {
     "data": {
      "text/plain": [
       "Perceptron(alpha=0.1, penalty='elasticnet')"
      ]
     },
     "execution_count": 36,
     "metadata": {},
     "output_type": "execute_result"
    }
   ],
   "source": [
    "p3.fit(train_x_sc,train_y)"
   ]
  },
  {
   "cell_type": "code",
   "execution_count": 37,
   "metadata": {
    "id": "UslsIvstFDHo"
   },
   "outputs": [],
   "source": [
    "train_pred_l3=p2.predict(train_x_sc)\n",
    "test_pred_l3=p2.predict(test_x)"
   ]
  },
  {
   "cell_type": "code",
   "execution_count": 38,
   "metadata": {
    "colab": {
     "base_uri": "https://localhost:8080/"
    },
    "id": "17yddOXyFGfN",
    "outputId": "e9949c92-ea17-478e-82be-a5ab1c4a0006"
   },
   "outputs": [
    {
     "name": "stdout",
     "output_type": "stream",
     "text": [
      "Training Accuracy:  0.9619047619047619\n"
     ]
    }
   ],
   "source": [
    "print(\"Training Accuracy: \", accuracy_score(train_y, train_pred_l3 ))"
   ]
  },
  {
   "cell_type": "code",
   "execution_count": 39,
   "metadata": {
    "colab": {
     "base_uri": "https://localhost:8080/"
    },
    "id": "mYHvLnmmFJvf",
    "outputId": "e3bb6a4d-fb19-48ae-dddd-b25c1a391e4b"
   },
   "outputs": [
    {
     "name": "stdout",
     "output_type": "stream",
     "text": [
      "Testing Accuracy:  0.37777777777777777\n"
     ]
    }
   ],
   "source": [
    "print(\"Testing Accuracy: \", accuracy_score(test_y, test_pred_l3))"
   ]
  },
  {
   "cell_type": "code",
   "execution_count": 40,
   "metadata": {
    "id": "2btHu_pbFNFD"
   },
   "outputs": [],
   "source": [
    "from sklearn.metrics import confusion_matrix, precision_score, recall_score, f1_score, precision_recall_curve"
   ]
  },
  {
   "cell_type": "code",
   "execution_count": null,
   "metadata": {
    "id": "Csd5g1DxsDk6"
   },
   "outputs": [],
   "source": []
  },
  {
   "cell_type": "code",
   "execution_count": 41,
   "metadata": {
    "colab": {
     "base_uri": "https://localhost:8080/"
    },
    "id": "iBhVo98_Ft-t",
    "outputId": "e4a60d44-6ba0-43d6-a14a-c2f7c6975d5b"
   },
   "outputs": [
    {
     "name": "stdout",
     "output_type": "stream",
     "text": [
      "[[ 0  0 17]\n",
      " [ 0  0 11]\n",
      " [ 0  0 17]]\n"
     ]
    }
   ],
   "source": [
    "print(confusion_matrix(test_y, test_pred_l2))"
   ]
  },
  {
   "cell_type": "code",
   "execution_count": null,
   "metadata": {
    "colab": {
     "base_uri": "https://localhost:8080/",
     "height": 360
    },
    "id": "37d7TqH-F5B9",
    "outputId": "500c48e8-3efc-454d-8e3c-d4cd0b309fb1"
   },
   "outputs": [],
   "source": []
  },
  {
   "cell_type": "code",
   "execution_count": 42,
   "metadata": {
    "id": "GCaiftzVGLJq"
   },
   "outputs": [],
   "source": [
    "reg=['l1', 'l2', 'elasticnet']\n",
    "C=[0.001, 0.01, 0.1, 1]"
   ]
  },
  {
   "cell_type": "code",
   "execution_count": null,
   "metadata": {
    "id": "E3uii7bksFFj"
   },
   "outputs": [],
   "source": []
  },
  {
   "cell_type": "code",
   "execution_count": 43,
   "metadata": {
    "id": "5wYYz83-sFIc"
   },
   "outputs": [],
   "source": [
    "url='https://archive.ics.uci.edu/ml/machine-learning-databases/adult/adult.data'"
   ]
  },
  {
   "cell_type": "code",
   "execution_count": 44,
   "metadata": {
    "id": "Y85A7Ol0sS64"
   },
   "outputs": [],
   "source": [
    "import pandas as pd"
   ]
  },
  {
   "cell_type": "code",
   "execution_count": 45,
   "metadata": {
    "id": "6HDF9LDBsUpv"
   },
   "outputs": [],
   "source": [
    "df=pd.read_csv(url, header=None, na_values=' ?')"
   ]
  },
  {
   "cell_type": "code",
   "execution_count": 46,
   "metadata": {
    "colab": {
     "base_uri": "https://localhost:8080/",
     "height": 206
    },
    "id": "3bzxIr1vsasV",
    "outputId": "f4adbc5c-57e4-4ec3-ef02-51dad9e584a9"
   },
   "outputs": [
    {
     "data": {
      "text/html": [
       "<div>\n",
       "<style scoped>\n",
       "    .dataframe tbody tr th:only-of-type {\n",
       "        vertical-align: middle;\n",
       "    }\n",
       "\n",
       "    .dataframe tbody tr th {\n",
       "        vertical-align: top;\n",
       "    }\n",
       "\n",
       "    .dataframe thead th {\n",
       "        text-align: right;\n",
       "    }\n",
       "</style>\n",
       "<table border=\"1\" class=\"dataframe\">\n",
       "  <thead>\n",
       "    <tr style=\"text-align: right;\">\n",
       "      <th></th>\n",
       "      <th>0</th>\n",
       "      <th>1</th>\n",
       "      <th>2</th>\n",
       "      <th>3</th>\n",
       "      <th>4</th>\n",
       "      <th>5</th>\n",
       "      <th>6</th>\n",
       "      <th>7</th>\n",
       "      <th>8</th>\n",
       "      <th>9</th>\n",
       "      <th>10</th>\n",
       "      <th>11</th>\n",
       "      <th>12</th>\n",
       "      <th>13</th>\n",
       "      <th>14</th>\n",
       "    </tr>\n",
       "  </thead>\n",
       "  <tbody>\n",
       "    <tr>\n",
       "      <th>0</th>\n",
       "      <td>39</td>\n",
       "      <td>State-gov</td>\n",
       "      <td>77516</td>\n",
       "      <td>Bachelors</td>\n",
       "      <td>13</td>\n",
       "      <td>Never-married</td>\n",
       "      <td>Adm-clerical</td>\n",
       "      <td>Not-in-family</td>\n",
       "      <td>White</td>\n",
       "      <td>Male</td>\n",
       "      <td>2174</td>\n",
       "      <td>0</td>\n",
       "      <td>40</td>\n",
       "      <td>United-States</td>\n",
       "      <td>&lt;=50K</td>\n",
       "    </tr>\n",
       "    <tr>\n",
       "      <th>1</th>\n",
       "      <td>50</td>\n",
       "      <td>Self-emp-not-inc</td>\n",
       "      <td>83311</td>\n",
       "      <td>Bachelors</td>\n",
       "      <td>13</td>\n",
       "      <td>Married-civ-spouse</td>\n",
       "      <td>Exec-managerial</td>\n",
       "      <td>Husband</td>\n",
       "      <td>White</td>\n",
       "      <td>Male</td>\n",
       "      <td>0</td>\n",
       "      <td>0</td>\n",
       "      <td>13</td>\n",
       "      <td>United-States</td>\n",
       "      <td>&lt;=50K</td>\n",
       "    </tr>\n",
       "    <tr>\n",
       "      <th>2</th>\n",
       "      <td>38</td>\n",
       "      <td>Private</td>\n",
       "      <td>215646</td>\n",
       "      <td>HS-grad</td>\n",
       "      <td>9</td>\n",
       "      <td>Divorced</td>\n",
       "      <td>Handlers-cleaners</td>\n",
       "      <td>Not-in-family</td>\n",
       "      <td>White</td>\n",
       "      <td>Male</td>\n",
       "      <td>0</td>\n",
       "      <td>0</td>\n",
       "      <td>40</td>\n",
       "      <td>United-States</td>\n",
       "      <td>&lt;=50K</td>\n",
       "    </tr>\n",
       "    <tr>\n",
       "      <th>3</th>\n",
       "      <td>53</td>\n",
       "      <td>Private</td>\n",
       "      <td>234721</td>\n",
       "      <td>11th</td>\n",
       "      <td>7</td>\n",
       "      <td>Married-civ-spouse</td>\n",
       "      <td>Handlers-cleaners</td>\n",
       "      <td>Husband</td>\n",
       "      <td>Black</td>\n",
       "      <td>Male</td>\n",
       "      <td>0</td>\n",
       "      <td>0</td>\n",
       "      <td>40</td>\n",
       "      <td>United-States</td>\n",
       "      <td>&lt;=50K</td>\n",
       "    </tr>\n",
       "    <tr>\n",
       "      <th>4</th>\n",
       "      <td>28</td>\n",
       "      <td>Private</td>\n",
       "      <td>338409</td>\n",
       "      <td>Bachelors</td>\n",
       "      <td>13</td>\n",
       "      <td>Married-civ-spouse</td>\n",
       "      <td>Prof-specialty</td>\n",
       "      <td>Wife</td>\n",
       "      <td>Black</td>\n",
       "      <td>Female</td>\n",
       "      <td>0</td>\n",
       "      <td>0</td>\n",
       "      <td>40</td>\n",
       "      <td>Cuba</td>\n",
       "      <td>&lt;=50K</td>\n",
       "    </tr>\n",
       "  </tbody>\n",
       "</table>\n",
       "</div>"
      ],
      "text/plain": [
       "   0                  1       2           3   4                    5   \\\n",
       "0  39          State-gov   77516   Bachelors  13        Never-married   \n",
       "1  50   Self-emp-not-inc   83311   Bachelors  13   Married-civ-spouse   \n",
       "2  38            Private  215646     HS-grad   9             Divorced   \n",
       "3  53            Private  234721        11th   7   Married-civ-spouse   \n",
       "4  28            Private  338409   Bachelors  13   Married-civ-spouse   \n",
       "\n",
       "                   6               7       8        9     10  11  12  \\\n",
       "0        Adm-clerical   Not-in-family   White     Male  2174   0  40   \n",
       "1     Exec-managerial         Husband   White     Male     0   0  13   \n",
       "2   Handlers-cleaners   Not-in-family   White     Male     0   0  40   \n",
       "3   Handlers-cleaners         Husband   Black     Male     0   0  40   \n",
       "4      Prof-specialty            Wife   Black   Female     0   0  40   \n",
       "\n",
       "               13      14  \n",
       "0   United-States   <=50K  \n",
       "1   United-States   <=50K  \n",
       "2   United-States   <=50K  \n",
       "3   United-States   <=50K  \n",
       "4            Cuba   <=50K  "
      ]
     },
     "execution_count": 46,
     "metadata": {},
     "output_type": "execute_result"
    }
   ],
   "source": [
    "df.head()"
   ]
  },
  {
   "cell_type": "code",
   "execution_count": 47,
   "metadata": {
    "colab": {
     "base_uri": "https://localhost:8080/"
    },
    "id": "Pb_3XAqBsdJt",
    "outputId": "93806300-ef56-4e15-ffe2-de85190dbcf8"
   },
   "outputs": [
    {
     "data": {
      "text/plain": [
       "0        0\n",
       "1     1836\n",
       "2        0\n",
       "3        0\n",
       "4        0\n",
       "5        0\n",
       "6     1843\n",
       "7        0\n",
       "8        0\n",
       "9        0\n",
       "10       0\n",
       "11       0\n",
       "12       0\n",
       "13     583\n",
       "14       0\n",
       "dtype: int64"
      ]
     },
     "execution_count": 47,
     "metadata": {},
     "output_type": "execute_result"
    }
   ],
   "source": [
    "df.isnull().sum()"
   ]
  },
  {
   "cell_type": "code",
   "execution_count": 48,
   "metadata": {
    "id": "WUArgCkyswGE"
   },
   "outputs": [],
   "source": [
    "from sklearn.impute import SimpleImputer"
   ]
  },
  {
   "cell_type": "code",
   "execution_count": 49,
   "metadata": {
    "id": "iSwINnZctCkT"
   },
   "outputs": [],
   "source": [
    "si=SimpleImputer(strategy='most_frequent')"
   ]
  },
  {
   "cell_type": "code",
   "execution_count": 50,
   "metadata": {
    "id": "BDODlxqbtH8r"
   },
   "outputs": [],
   "source": [
    "df=si.fit_transform(df)"
   ]
  },
  {
   "cell_type": "code",
   "execution_count": 51,
   "metadata": {
    "colab": {
     "base_uri": "https://localhost:8080/"
    },
    "id": "CCagADRmtP3W",
    "outputId": "39c42fb5-58e8-4868-a7a7-ab8125a271f9"
   },
   "outputs": [
    {
     "data": {
      "text/plain": [
       "0     0\n",
       "1     0\n",
       "2     0\n",
       "3     0\n",
       "4     0\n",
       "5     0\n",
       "6     0\n",
       "7     0\n",
       "8     0\n",
       "9     0\n",
       "10    0\n",
       "11    0\n",
       "12    0\n",
       "13    0\n",
       "14    0\n",
       "dtype: int64"
      ]
     },
     "execution_count": 51,
     "metadata": {},
     "output_type": "execute_result"
    }
   ],
   "source": [
    "pd.DataFrame(df).isnull().sum()"
   ]
  },
  {
   "cell_type": "code",
   "execution_count": 52,
   "metadata": {
    "id": "yjPPZ3qctVfh"
   },
   "outputs": [],
   "source": [
    "cols=[1,3, 5,6,7,8,9,13, 14]"
   ]
  },
  {
   "cell_type": "code",
   "execution_count": 53,
   "metadata": {
    "id": "flx0Ci7PubXE"
   },
   "outputs": [],
   "source": [
    "from sklearn.preprocessing import LabelEncoder"
   ]
  },
  {
   "cell_type": "code",
   "execution_count": 54,
   "metadata": {
    "id": "0AFGh95xufxa"
   },
   "outputs": [],
   "source": [
    "le=LabelEncoder()"
   ]
  },
  {
   "cell_type": "code",
   "execution_count": 55,
   "metadata": {
    "id": "iJpif3qFvwuC"
   },
   "outputs": [],
   "source": [
    "df=pd.DataFrame(df)"
   ]
  },
  {
   "cell_type": "code",
   "execution_count": 56,
   "metadata": {
    "id": "_NQYbacjuiJC"
   },
   "outputs": [],
   "source": [
    "for i in cols:\n",
    "  df[i]=le.fit_transform(df[i])"
   ]
  },
  {
   "cell_type": "code",
   "execution_count": 57,
   "metadata": {
    "colab": {
     "base_uri": "https://localhost:8080/",
     "height": 206
    },
    "id": "qfKazZU0uofH",
    "outputId": "ec7d69fe-dfc0-453a-9065-f685f8a45ba2"
   },
   "outputs": [
    {
     "data": {
      "text/html": [
       "<div>\n",
       "<style scoped>\n",
       "    .dataframe tbody tr th:only-of-type {\n",
       "        vertical-align: middle;\n",
       "    }\n",
       "\n",
       "    .dataframe tbody tr th {\n",
       "        vertical-align: top;\n",
       "    }\n",
       "\n",
       "    .dataframe thead th {\n",
       "        text-align: right;\n",
       "    }\n",
       "</style>\n",
       "<table border=\"1\" class=\"dataframe\">\n",
       "  <thead>\n",
       "    <tr style=\"text-align: right;\">\n",
       "      <th></th>\n",
       "      <th>0</th>\n",
       "      <th>1</th>\n",
       "      <th>2</th>\n",
       "      <th>3</th>\n",
       "      <th>4</th>\n",
       "      <th>5</th>\n",
       "      <th>6</th>\n",
       "      <th>7</th>\n",
       "      <th>8</th>\n",
       "      <th>9</th>\n",
       "      <th>10</th>\n",
       "      <th>11</th>\n",
       "      <th>12</th>\n",
       "      <th>13</th>\n",
       "      <th>14</th>\n",
       "    </tr>\n",
       "  </thead>\n",
       "  <tbody>\n",
       "    <tr>\n",
       "      <th>0</th>\n",
       "      <td>39</td>\n",
       "      <td>6</td>\n",
       "      <td>77516</td>\n",
       "      <td>9</td>\n",
       "      <td>13</td>\n",
       "      <td>4</td>\n",
       "      <td>0</td>\n",
       "      <td>1</td>\n",
       "      <td>4</td>\n",
       "      <td>1</td>\n",
       "      <td>2174</td>\n",
       "      <td>0</td>\n",
       "      <td>40</td>\n",
       "      <td>38</td>\n",
       "      <td>0</td>\n",
       "    </tr>\n",
       "    <tr>\n",
       "      <th>1</th>\n",
       "      <td>50</td>\n",
       "      <td>5</td>\n",
       "      <td>83311</td>\n",
       "      <td>9</td>\n",
       "      <td>13</td>\n",
       "      <td>2</td>\n",
       "      <td>3</td>\n",
       "      <td>0</td>\n",
       "      <td>4</td>\n",
       "      <td>1</td>\n",
       "      <td>0</td>\n",
       "      <td>0</td>\n",
       "      <td>13</td>\n",
       "      <td>38</td>\n",
       "      <td>0</td>\n",
       "    </tr>\n",
       "    <tr>\n",
       "      <th>2</th>\n",
       "      <td>38</td>\n",
       "      <td>3</td>\n",
       "      <td>215646</td>\n",
       "      <td>11</td>\n",
       "      <td>9</td>\n",
       "      <td>0</td>\n",
       "      <td>5</td>\n",
       "      <td>1</td>\n",
       "      <td>4</td>\n",
       "      <td>1</td>\n",
       "      <td>0</td>\n",
       "      <td>0</td>\n",
       "      <td>40</td>\n",
       "      <td>38</td>\n",
       "      <td>0</td>\n",
       "    </tr>\n",
       "    <tr>\n",
       "      <th>3</th>\n",
       "      <td>53</td>\n",
       "      <td>3</td>\n",
       "      <td>234721</td>\n",
       "      <td>1</td>\n",
       "      <td>7</td>\n",
       "      <td>2</td>\n",
       "      <td>5</td>\n",
       "      <td>0</td>\n",
       "      <td>2</td>\n",
       "      <td>1</td>\n",
       "      <td>0</td>\n",
       "      <td>0</td>\n",
       "      <td>40</td>\n",
       "      <td>38</td>\n",
       "      <td>0</td>\n",
       "    </tr>\n",
       "    <tr>\n",
       "      <th>4</th>\n",
       "      <td>28</td>\n",
       "      <td>3</td>\n",
       "      <td>338409</td>\n",
       "      <td>9</td>\n",
       "      <td>13</td>\n",
       "      <td>2</td>\n",
       "      <td>9</td>\n",
       "      <td>5</td>\n",
       "      <td>2</td>\n",
       "      <td>0</td>\n",
       "      <td>0</td>\n",
       "      <td>0</td>\n",
       "      <td>40</td>\n",
       "      <td>4</td>\n",
       "      <td>0</td>\n",
       "    </tr>\n",
       "  </tbody>\n",
       "</table>\n",
       "</div>"
      ],
      "text/plain": [
       "   0   1       2   3   4   5   6   7   8   9     10 11  12  13  14\n",
       "0  39   6   77516   9  13   4   0   1   4   1  2174  0  40  38   0\n",
       "1  50   5   83311   9  13   2   3   0   4   1     0  0  13  38   0\n",
       "2  38   3  215646  11   9   0   5   1   4   1     0  0  40  38   0\n",
       "3  53   3  234721   1   7   2   5   0   2   1     0  0  40  38   0\n",
       "4  28   3  338409   9  13   2   9   5   2   0     0  0  40   4   0"
      ]
     },
     "execution_count": 57,
     "metadata": {},
     "output_type": "execute_result"
    }
   ],
   "source": [
    "df.head()"
   ]
  },
  {
   "cell_type": "code",
   "execution_count": 58,
   "metadata": {
    "id": "hkTBg80rwJAp"
   },
   "outputs": [],
   "source": [
    "y=df[14]"
   ]
  },
  {
   "cell_type": "code",
   "execution_count": 59,
   "metadata": {
    "colab": {
     "base_uri": "https://localhost:8080/"
    },
    "id": "EBhoC-MbwPe6",
    "outputId": "1e91fa2e-b95e-4473-b8ba-3334abe83ed5"
   },
   "outputs": [
    {
     "data": {
      "text/plain": [
       "(32561,)"
      ]
     },
     "execution_count": 59,
     "metadata": {},
     "output_type": "execute_result"
    }
   ],
   "source": [
    "y.shape"
   ]
  },
  {
   "cell_type": "code",
   "execution_count": 60,
   "metadata": {
    "id": "hFV4Kd6mwQ0I"
   },
   "outputs": [],
   "source": [
    "x=df.drop(columns=14)"
   ]
  },
  {
   "cell_type": "code",
   "execution_count": 61,
   "metadata": {
    "colab": {
     "base_uri": "https://localhost:8080/"
    },
    "id": "7ZvWGqCpweRT",
    "outputId": "de538b6c-39df-4ab7-ac39-3e6f975a3e18"
   },
   "outputs": [
    {
     "data": {
      "text/plain": [
       "(32561, 14)"
      ]
     },
     "execution_count": 61,
     "metadata": {},
     "output_type": "execute_result"
    }
   ],
   "source": [
    "x.shape"
   ]
  },
  {
   "cell_type": "code",
   "execution_count": 62,
   "metadata": {
    "id": "tP1hYhkywfKR"
   },
   "outputs": [],
   "source": [
    "from sklearn.model_selection import train_test_split"
   ]
  },
  {
   "cell_type": "code",
   "execution_count": 63,
   "metadata": {
    "id": "WzfqhOZGxBHW"
   },
   "outputs": [],
   "source": [
    "train_x, test_x, train_y, test_y=train_test_split(x,y, test_size=0.3)"
   ]
  },
  {
   "cell_type": "code",
   "execution_count": 64,
   "metadata": {
    "colab": {
     "base_uri": "https://localhost:8080/"
    },
    "id": "aJvFXR4WxKWh",
    "outputId": "08639098-82ca-49f6-ea9f-086c0b8650a8"
   },
   "outputs": [
    {
     "data": {
      "text/plain": [
       "(22792, 14)"
      ]
     },
     "execution_count": 64,
     "metadata": {},
     "output_type": "execute_result"
    }
   ],
   "source": [
    "train_x.shape"
   ]
  },
  {
   "cell_type": "code",
   "execution_count": 65,
   "metadata": {
    "colab": {
     "base_uri": "https://localhost:8080/"
    },
    "id": "SPExkHcxxLuG",
    "outputId": "448870a2-53fd-42ca-cdb6-bb32ba84feff"
   },
   "outputs": [
    {
     "data": {
      "text/plain": [
       "(9769, 14)"
      ]
     },
     "execution_count": 65,
     "metadata": {},
     "output_type": "execute_result"
    }
   ],
   "source": [
    "test_x.shape"
   ]
  },
  {
   "cell_type": "code",
   "execution_count": 66,
   "metadata": {
    "colab": {
     "base_uri": "https://localhost:8080/",
     "height": 300
    },
    "id": "k5nvOZOqxOdY",
    "outputId": "3fe72e53-8ef6-4c70-ad3f-2089f9c94982"
   },
   "outputs": [
    {
     "data": {
      "text/html": [
       "<div>\n",
       "<style scoped>\n",
       "    .dataframe tbody tr th:only-of-type {\n",
       "        vertical-align: middle;\n",
       "    }\n",
       "\n",
       "    .dataframe tbody tr th {\n",
       "        vertical-align: top;\n",
       "    }\n",
       "\n",
       "    .dataframe thead th {\n",
       "        text-align: right;\n",
       "    }\n",
       "</style>\n",
       "<table border=\"1\" class=\"dataframe\">\n",
       "  <thead>\n",
       "    <tr style=\"text-align: right;\">\n",
       "      <th></th>\n",
       "      <th>1</th>\n",
       "      <th>3</th>\n",
       "      <th>5</th>\n",
       "      <th>6</th>\n",
       "      <th>7</th>\n",
       "      <th>8</th>\n",
       "      <th>9</th>\n",
       "      <th>13</th>\n",
       "    </tr>\n",
       "  </thead>\n",
       "  <tbody>\n",
       "    <tr>\n",
       "      <th>count</th>\n",
       "      <td>22792.000000</td>\n",
       "      <td>22792.000000</td>\n",
       "      <td>22792.000000</td>\n",
       "      <td>22792.000000</td>\n",
       "      <td>22792.000000</td>\n",
       "      <td>22792.000000</td>\n",
       "      <td>22792.000000</td>\n",
       "      <td>22792.00000</td>\n",
       "    </tr>\n",
       "    <tr>\n",
       "      <th>mean</th>\n",
       "      <td>3.098324</td>\n",
       "      <td>10.296244</td>\n",
       "      <td>2.612627</td>\n",
       "      <td>6.150184</td>\n",
       "      <td>1.441471</td>\n",
       "      <td>3.665804</td>\n",
       "      <td>0.670411</td>\n",
       "      <td>36.43252</td>\n",
       "    </tr>\n",
       "    <tr>\n",
       "      <th>std</th>\n",
       "      <td>1.116776</td>\n",
       "      <td>3.876770</td>\n",
       "      <td>1.503172</td>\n",
       "      <td>3.967414</td>\n",
       "      <td>1.610209</td>\n",
       "      <td>0.846144</td>\n",
       "      <td>0.470074</td>\n",
       "      <td>6.02316</td>\n",
       "    </tr>\n",
       "    <tr>\n",
       "      <th>min</th>\n",
       "      <td>0.000000</td>\n",
       "      <td>0.000000</td>\n",
       "      <td>0.000000</td>\n",
       "      <td>0.000000</td>\n",
       "      <td>0.000000</td>\n",
       "      <td>0.000000</td>\n",
       "      <td>0.000000</td>\n",
       "      <td>0.00000</td>\n",
       "    </tr>\n",
       "    <tr>\n",
       "      <th>25%</th>\n",
       "      <td>3.000000</td>\n",
       "      <td>9.000000</td>\n",
       "      <td>2.000000</td>\n",
       "      <td>3.000000</td>\n",
       "      <td>0.000000</td>\n",
       "      <td>4.000000</td>\n",
       "      <td>0.000000</td>\n",
       "      <td>38.00000</td>\n",
       "    </tr>\n",
       "    <tr>\n",
       "      <th>50%</th>\n",
       "      <td>3.000000</td>\n",
       "      <td>11.000000</td>\n",
       "      <td>2.000000</td>\n",
       "      <td>7.000000</td>\n",
       "      <td>1.000000</td>\n",
       "      <td>4.000000</td>\n",
       "      <td>1.000000</td>\n",
       "      <td>38.00000</td>\n",
       "    </tr>\n",
       "    <tr>\n",
       "      <th>75%</th>\n",
       "      <td>3.000000</td>\n",
       "      <td>12.000000</td>\n",
       "      <td>4.000000</td>\n",
       "      <td>9.000000</td>\n",
       "      <td>3.000000</td>\n",
       "      <td>4.000000</td>\n",
       "      <td>1.000000</td>\n",
       "      <td>38.00000</td>\n",
       "    </tr>\n",
       "    <tr>\n",
       "      <th>max</th>\n",
       "      <td>7.000000</td>\n",
       "      <td>15.000000</td>\n",
       "      <td>6.000000</td>\n",
       "      <td>13.000000</td>\n",
       "      <td>5.000000</td>\n",
       "      <td>4.000000</td>\n",
       "      <td>1.000000</td>\n",
       "      <td>40.00000</td>\n",
       "    </tr>\n",
       "  </tbody>\n",
       "</table>\n",
       "</div>"
      ],
      "text/plain": [
       "                 1             3             5             6             7   \\\n",
       "count  22792.000000  22792.000000  22792.000000  22792.000000  22792.000000   \n",
       "mean       3.098324     10.296244      2.612627      6.150184      1.441471   \n",
       "std        1.116776      3.876770      1.503172      3.967414      1.610209   \n",
       "min        0.000000      0.000000      0.000000      0.000000      0.000000   \n",
       "25%        3.000000      9.000000      2.000000      3.000000      0.000000   \n",
       "50%        3.000000     11.000000      2.000000      7.000000      1.000000   \n",
       "75%        3.000000     12.000000      4.000000      9.000000      3.000000   \n",
       "max        7.000000     15.000000      6.000000     13.000000      5.000000   \n",
       "\n",
       "                 8             9            13  \n",
       "count  22792.000000  22792.000000  22792.00000  \n",
       "mean       3.665804      0.670411     36.43252  \n",
       "std        0.846144      0.470074      6.02316  \n",
       "min        0.000000      0.000000      0.00000  \n",
       "25%        4.000000      0.000000     38.00000  \n",
       "50%        4.000000      1.000000     38.00000  \n",
       "75%        4.000000      1.000000     38.00000  \n",
       "max        4.000000      1.000000     40.00000  "
      ]
     },
     "execution_count": 66,
     "metadata": {},
     "output_type": "execute_result"
    }
   ],
   "source": [
    "train_x.describe()"
   ]
  },
  {
   "cell_type": "code",
   "execution_count": 67,
   "metadata": {
    "id": "n8m5QYRlxYOs"
   },
   "outputs": [],
   "source": [
    "from sklearn.preprocessing import StandardScaler"
   ]
  },
  {
   "cell_type": "code",
   "execution_count": 68,
   "metadata": {
    "id": "yPM33v5uxmzW"
   },
   "outputs": [],
   "source": [
    "sc=StandardScaler()"
   ]
  },
  {
   "cell_type": "code",
   "execution_count": 69,
   "metadata": {
    "id": "WCEw_csSxoj3"
   },
   "outputs": [],
   "source": [
    "train_x_sc=sc.fit_transform(train_x)"
   ]
  },
  {
   "cell_type": "code",
   "execution_count": 70,
   "metadata": {
    "colab": {
     "base_uri": "https://localhost:8080/",
     "height": 451
    },
    "id": "BYJeLlj_xu-G",
    "outputId": "aef53ca6-e03f-431b-ffc5-4544fb529ce3"
   },
   "outputs": [
    {
     "data": {
      "text/html": [
       "<div>\n",
       "<style scoped>\n",
       "    .dataframe tbody tr th:only-of-type {\n",
       "        vertical-align: middle;\n",
       "    }\n",
       "\n",
       "    .dataframe tbody tr th {\n",
       "        vertical-align: top;\n",
       "    }\n",
       "\n",
       "    .dataframe thead th {\n",
       "        text-align: right;\n",
       "    }\n",
       "</style>\n",
       "<table border=\"1\" class=\"dataframe\">\n",
       "  <thead>\n",
       "    <tr style=\"text-align: right;\">\n",
       "      <th></th>\n",
       "      <th>0</th>\n",
       "      <th>1</th>\n",
       "      <th>2</th>\n",
       "      <th>3</th>\n",
       "      <th>4</th>\n",
       "      <th>5</th>\n",
       "      <th>6</th>\n",
       "      <th>7</th>\n",
       "      <th>8</th>\n",
       "      <th>9</th>\n",
       "      <th>10</th>\n",
       "      <th>11</th>\n",
       "      <th>12</th>\n",
       "      <th>13</th>\n",
       "    </tr>\n",
       "  </thead>\n",
       "  <tbody>\n",
       "    <tr>\n",
       "      <th>count</th>\n",
       "      <td>2.279200e+04</td>\n",
       "      <td>2.279200e+04</td>\n",
       "      <td>2.279200e+04</td>\n",
       "      <td>2.279200e+04</td>\n",
       "      <td>2.279200e+04</td>\n",
       "      <td>2.279200e+04</td>\n",
       "      <td>2.279200e+04</td>\n",
       "      <td>2.279200e+04</td>\n",
       "      <td>2.279200e+04</td>\n",
       "      <td>2.279200e+04</td>\n",
       "      <td>2.279200e+04</td>\n",
       "      <td>2.279200e+04</td>\n",
       "      <td>2.279200e+04</td>\n",
       "      <td>2.279200e+04</td>\n",
       "    </tr>\n",
       "    <tr>\n",
       "      <th>mean</th>\n",
       "      <td>1.224584e-16</td>\n",
       "      <td>-1.405083e-16</td>\n",
       "      <td>-7.871711e-18</td>\n",
       "      <td>8.029340e-16</td>\n",
       "      <td>-9.016422e-18</td>\n",
       "      <td>-7.916233e-16</td>\n",
       "      <td>2.757583e-16</td>\n",
       "      <td>9.352528e-17</td>\n",
       "      <td>4.547862e-16</td>\n",
       "      <td>-5.284958e-16</td>\n",
       "      <td>9.571558e-16</td>\n",
       "      <td>-4.522147e-15</td>\n",
       "      <td>2.873272e-16</td>\n",
       "      <td>-2.210704e-15</td>\n",
       "    </tr>\n",
       "    <tr>\n",
       "      <th>std</th>\n",
       "      <td>1.000022e+00</td>\n",
       "      <td>1.000022e+00</td>\n",
       "      <td>1.000022e+00</td>\n",
       "      <td>1.000022e+00</td>\n",
       "      <td>1.000022e+00</td>\n",
       "      <td>1.000022e+00</td>\n",
       "      <td>1.000022e+00</td>\n",
       "      <td>1.000022e+00</td>\n",
       "      <td>1.000022e+00</td>\n",
       "      <td>1.000022e+00</td>\n",
       "      <td>1.000022e+00</td>\n",
       "      <td>1.000022e+00</td>\n",
       "      <td>1.000022e+00</td>\n",
       "      <td>1.000022e+00</td>\n",
       "    </tr>\n",
       "    <tr>\n",
       "      <th>min</th>\n",
       "      <td>-1.592862e+00</td>\n",
       "      <td>-2.774409e+00</td>\n",
       "      <td>-1.693512e+00</td>\n",
       "      <td>-2.655941e+00</td>\n",
       "      <td>-3.530694e+00</td>\n",
       "      <td>-1.738114e+00</td>\n",
       "      <td>-1.550208e+00</td>\n",
       "      <td>-8.952266e-01</td>\n",
       "      <td>-4.332460e+00</td>\n",
       "      <td>-1.426211e+00</td>\n",
       "      <td>-1.463648e-01</td>\n",
       "      <td>-2.130920e-01</td>\n",
       "      <td>-3.203258e+00</td>\n",
       "      <td>-6.048872e+00</td>\n",
       "    </tr>\n",
       "    <tr>\n",
       "      <th>25%</th>\n",
       "      <td>-7.867286e-01</td>\n",
       "      <td>-8.804466e-02</td>\n",
       "      <td>-6.843032e-01</td>\n",
       "      <td>-3.343693e-01</td>\n",
       "      <td>-4.204259e-01</td>\n",
       "      <td>-4.075651e-01</td>\n",
       "      <td>-7.940319e-01</td>\n",
       "      <td>-8.952266e-01</td>\n",
       "      <td>3.949725e-01</td>\n",
       "      <td>-1.426211e+00</td>\n",
       "      <td>-1.463648e-01</td>\n",
       "      <td>-2.130920e-01</td>\n",
       "      <td>-4.067052e-02</td>\n",
       "      <td>2.602478e-01</td>\n",
       "    </tr>\n",
       "    <tr>\n",
       "      <th>50%</th>\n",
       "      <td>-1.271649e-01</td>\n",
       "      <td>-8.804466e-02</td>\n",
       "      <td>-1.074248e-01</td>\n",
       "      <td>1.815355e-01</td>\n",
       "      <td>-3.164239e-02</td>\n",
       "      <td>-4.075651e-01</td>\n",
       "      <td>2.142036e-01</td>\n",
       "      <td>-2.741757e-01</td>\n",
       "      <td>3.949725e-01</td>\n",
       "      <td>7.011584e-01</td>\n",
       "      <td>-1.463648e-01</td>\n",
       "      <td>-2.130920e-01</td>\n",
       "      <td>-4.067052e-02</td>\n",
       "      <td>2.602478e-01</td>\n",
       "    </tr>\n",
       "    <tr>\n",
       "      <th>75%</th>\n",
       "      <td>6.789685e-01</td>\n",
       "      <td>-8.804466e-02</td>\n",
       "      <td>4.535112e-01</td>\n",
       "      <td>4.394878e-01</td>\n",
       "      <td>7.459246e-01</td>\n",
       "      <td>9.229834e-01</td>\n",
       "      <td>7.183213e-01</td>\n",
       "      <td>9.679260e-01</td>\n",
       "      <td>3.949725e-01</td>\n",
       "      <td>7.011584e-01</td>\n",
       "      <td>-1.463648e-01</td>\n",
       "      <td>-2.130920e-01</td>\n",
       "      <td>3.647894e-01</td>\n",
       "      <td>2.602478e-01</td>\n",
       "    </tr>\n",
       "    <tr>\n",
       "      <th>max</th>\n",
       "      <td>3.756932e+00</td>\n",
       "      <td>3.493774e+00</td>\n",
       "      <td>1.127923e+01</td>\n",
       "      <td>1.213345e+00</td>\n",
       "      <td>2.301058e+00</td>\n",
       "      <td>2.253532e+00</td>\n",
       "      <td>1.726557e+00</td>\n",
       "      <td>2.210028e+00</td>\n",
       "      <td>3.949725e-01</td>\n",
       "      <td>7.011584e-01</td>\n",
       "      <td>1.333958e+01</td>\n",
       "      <td>1.073453e+01</td>\n",
       "      <td>4.743757e+00</td>\n",
       "      <td>5.923067e-01</td>\n",
       "    </tr>\n",
       "  </tbody>\n",
       "</table>\n",
       "</div>"
      ],
      "text/plain": [
       "                 0             1             2             3             4   \\\n",
       "count  2.279200e+04  2.279200e+04  2.279200e+04  2.279200e+04  2.279200e+04   \n",
       "mean   1.224584e-16 -1.405083e-16 -7.871711e-18  8.029340e-16 -9.016422e-18   \n",
       "std    1.000022e+00  1.000022e+00  1.000022e+00  1.000022e+00  1.000022e+00   \n",
       "min   -1.592862e+00 -2.774409e+00 -1.693512e+00 -2.655941e+00 -3.530694e+00   \n",
       "25%   -7.867286e-01 -8.804466e-02 -6.843032e-01 -3.343693e-01 -4.204259e-01   \n",
       "50%   -1.271649e-01 -8.804466e-02 -1.074248e-01  1.815355e-01 -3.164239e-02   \n",
       "75%    6.789685e-01 -8.804466e-02  4.535112e-01  4.394878e-01  7.459246e-01   \n",
       "max    3.756932e+00  3.493774e+00  1.127923e+01  1.213345e+00  2.301058e+00   \n",
       "\n",
       "                 5             6             7             8             9   \\\n",
       "count  2.279200e+04  2.279200e+04  2.279200e+04  2.279200e+04  2.279200e+04   \n",
       "mean  -7.916233e-16  2.757583e-16  9.352528e-17  4.547862e-16 -5.284958e-16   \n",
       "std    1.000022e+00  1.000022e+00  1.000022e+00  1.000022e+00  1.000022e+00   \n",
       "min   -1.738114e+00 -1.550208e+00 -8.952266e-01 -4.332460e+00 -1.426211e+00   \n",
       "25%   -4.075651e-01 -7.940319e-01 -8.952266e-01  3.949725e-01 -1.426211e+00   \n",
       "50%   -4.075651e-01  2.142036e-01 -2.741757e-01  3.949725e-01  7.011584e-01   \n",
       "75%    9.229834e-01  7.183213e-01  9.679260e-01  3.949725e-01  7.011584e-01   \n",
       "max    2.253532e+00  1.726557e+00  2.210028e+00  3.949725e-01  7.011584e-01   \n",
       "\n",
       "                 10            11            12            13  \n",
       "count  2.279200e+04  2.279200e+04  2.279200e+04  2.279200e+04  \n",
       "mean   9.571558e-16 -4.522147e-15  2.873272e-16 -2.210704e-15  \n",
       "std    1.000022e+00  1.000022e+00  1.000022e+00  1.000022e+00  \n",
       "min   -1.463648e-01 -2.130920e-01 -3.203258e+00 -6.048872e+00  \n",
       "25%   -1.463648e-01 -2.130920e-01 -4.067052e-02  2.602478e-01  \n",
       "50%   -1.463648e-01 -2.130920e-01 -4.067052e-02  2.602478e-01  \n",
       "75%   -1.463648e-01 -2.130920e-01  3.647894e-01  2.602478e-01  \n",
       "max    1.333958e+01  1.073453e+01  4.743757e+00  5.923067e-01  "
      ]
     },
     "execution_count": 70,
     "metadata": {},
     "output_type": "execute_result"
    }
   ],
   "source": [
    "pd.DataFrame(train_x_sc).describe()"
   ]
  },
  {
   "cell_type": "code",
   "execution_count": 71,
   "metadata": {
    "id": "-r3FFLzRxy79"
   },
   "outputs": [],
   "source": [
    "from sklearn.linear_model import Perceptron"
   ]
  },
  {
   "cell_type": "code",
   "execution_count": 72,
   "metadata": {
    "id": "dkPy0Drnyjsl"
   },
   "outputs": [],
   "source": [
    "p=Perceptron()"
   ]
  },
  {
   "cell_type": "code",
   "execution_count": 73,
   "metadata": {
    "colab": {
     "base_uri": "https://localhost:8080/"
    },
    "id": "Ugc4yqjCyp-o",
    "outputId": "a8f2c176-e999-4104-e563-eb4f607c86f9"
   },
   "outputs": [
    {
     "data": {
      "text/plain": [
       "Perceptron()"
      ]
     },
     "execution_count": 73,
     "metadata": {},
     "output_type": "execute_result"
    }
   ],
   "source": [
    "p.fit(train_x_sc, train_y)"
   ]
  },
  {
   "cell_type": "code",
   "execution_count": 74,
   "metadata": {
    "id": "Th4dXRyCy3u7"
   },
   "outputs": [],
   "source": [
    "train_pred=p.predict(train_x_sc)\n",
    "test_pred=p.predict(test_x)"
   ]
  },
  {
   "cell_type": "code",
   "execution_count": 75,
   "metadata": {
    "colab": {
     "base_uri": "https://localhost:8080/"
    },
    "id": "nvI7Rlc_yt8B",
    "outputId": "30c8f511-a7e2-41be-f157-39d3aea53503"
   },
   "outputs": [
    {
     "name": "stdout",
     "output_type": "stream",
     "text": [
      "Training Accuracy:  0.7604861354861355\n",
      "Testing Accuracy:  0.23523390316306683\n"
     ]
    }
   ],
   "source": [
    "print(\"Training Accuracy: \", accuracy_score(train_pred, train_y))\n",
    "print(\"Testing Accuracy: \", accuracy_score(test_pred, test_y))"
   ]
  },
  {
   "cell_type": "code",
   "execution_count": 76,
   "metadata": {
    "id": "SUblDRUHzGJA"
   },
   "outputs": [],
   "source": [
    "p_l1=Perceptron(penalty='l1')"
   ]
  },
  {
   "cell_type": "code",
   "execution_count": 77,
   "metadata": {
    "colab": {
     "base_uri": "https://localhost:8080/"
    },
    "id": "-pOofV4n0c-t",
    "outputId": "055a9e2a-de97-4a2d-a72e-df5fc6de2ca5"
   },
   "outputs": [
    {
     "data": {
      "text/plain": [
       "Perceptron(penalty='l1')"
      ]
     },
     "execution_count": 77,
     "metadata": {},
     "output_type": "execute_result"
    }
   ],
   "source": [
    "p_l1.fit(train_x_sc, train_y)"
   ]
  },
  {
   "cell_type": "code",
   "execution_count": 78,
   "metadata": {
    "id": "CxZ1PjZD0gdv"
   },
   "outputs": [],
   "source": [
    "train_pred_l1=p_l1.predict(train_x_sc)\n",
    "test_pred_l1=p_l1.predict(test_x)"
   ]
  },
  {
   "cell_type": "code",
   "execution_count": 79,
   "metadata": {
    "colab": {
     "base_uri": "https://localhost:8080/"
    },
    "id": "h_bEWm8b0lvQ",
    "outputId": "289bd2ef-171b-43b2-8135-e11b810bdcfd"
   },
   "outputs": [
    {
     "name": "stdout",
     "output_type": "stream",
     "text": [
      "Training Accuracy:  0.7641716391716392\n",
      "Testing Accuracy:  0.23523390316306683\n"
     ]
    }
   ],
   "source": [
    "print(\"Training Accuracy: \", accuracy_score(train_pred_l1, train_y))\n",
    "print(\"Testing Accuracy: \", accuracy_score(test_pred_l1, test_y))"
   ]
  },
  {
   "cell_type": "code",
   "execution_count": 80,
   "metadata": {
    "colab": {
     "base_uri": "https://localhost:8080/"
    },
    "id": "b00pxTSh0p0z",
    "outputId": "267d4923-b0a3-488d-a24c-783a07d4742f"
   },
   "outputs": [
    {
     "name": "stdout",
     "output_type": "stream",
     "text": [
      "Training Accuracy:  0.7503071253071253\n",
      "Testing Accuracy:  0.23523390316306683\n"
     ]
    }
   ],
   "source": [
    "p_l2=Perceptron(penalty='l2')\n",
    "p_l2.fit(train_x_sc, train_y)\n",
    "train_pred_l2=p_l2.predict(train_x_sc)\n",
    "test_pred_l2=p_l2.predict(test_x)\n",
    "print(\"Training Accuracy: \", accuracy_score(train_pred_l2, train_y))\n",
    "print(\"Testing Accuracy: \", accuracy_score(test_pred_l2, test_y))"
   ]
  },
  {
   "cell_type": "code",
   "execution_count": 81,
   "metadata": {
    "id": "BIm0ERxm1DV3"
   },
   "outputs": [],
   "source": [
    "from sklearn.linear_model import LogisticRegression"
   ]
  },
  {
   "cell_type": "code",
   "execution_count": 82,
   "metadata": {
    "id": "lt5Dk_LY5uqm"
   },
   "outputs": [],
   "source": [
    "lr=LogisticRegression(penalty='none')"
   ]
  },
  {
   "cell_type": "code",
   "execution_count": 83,
   "metadata": {
    "colab": {
     "base_uri": "https://localhost:8080/"
    },
    "id": "_7WiFhh15w_X",
    "outputId": "9fcb885c-0251-48f2-90b8-51cda10af562"
   },
   "outputs": [
    {
     "data": {
      "text/plain": [
       "LogisticRegression(penalty='none')"
      ]
     },
     "execution_count": 83,
     "metadata": {},
     "output_type": "execute_result"
    }
   ],
   "source": [
    "lr.fit(train_x_sc, train_y)"
   ]
  },
  {
   "cell_type": "code",
   "execution_count": 84,
   "metadata": {
    "id": "GAH-kqaU6Ju-"
   },
   "outputs": [],
   "source": [
    "train_pred_lr=lr.predict(train_x_sc)\n",
    "test_pred_lr=lr.predict(test_x)"
   ]
  },
  {
   "cell_type": "code",
   "execution_count": 85,
   "metadata": {
    "colab": {
     "base_uri": "https://localhost:8080/"
    },
    "id": "FWqSX2r56TwO",
    "outputId": "537b40c7-f088-440d-f6c2-788b8df150d1"
   },
   "outputs": [
    {
     "name": "stdout",
     "output_type": "stream",
     "text": [
      "Training Accuracy:  0.8245436995436995\n",
      "Testing Accuracy:  0.23523390316306683\n"
     ]
    }
   ],
   "source": [
    "print(\"Training Accuracy: \", accuracy_score(train_pred_lr, train_y))\n",
    "print(\"Testing Accuracy: \", accuracy_score(test_pred_lr, test_y))"
   ]
  },
  {
   "cell_type": "markdown",
   "metadata": {},
   "source": [
    "# Support Vector Machine"
   ]
  },
  {
   "cell_type": "code",
   "execution_count": 86,
   "metadata": {
    "id": "0G2B_ucJ6jKM"
   },
   "outputs": [],
   "source": [
    "from sklearn.svm import SVC"
   ]
  },
  {
   "cell_type": "code",
   "execution_count": 87,
   "metadata": {},
   "outputs": [
    {
     "data": {
      "text/html": [
       "<div>\n",
       "<style scoped>\n",
       "    .dataframe tbody tr th:only-of-type {\n",
       "        vertical-align: middle;\n",
       "    }\n",
       "\n",
       "    .dataframe tbody tr th {\n",
       "        vertical-align: top;\n",
       "    }\n",
       "\n",
       "    .dataframe thead th {\n",
       "        text-align: right;\n",
       "    }\n",
       "</style>\n",
       "<table border=\"1\" class=\"dataframe\">\n",
       "  <thead>\n",
       "    <tr style=\"text-align: right;\">\n",
       "      <th></th>\n",
       "      <th>0</th>\n",
       "      <th>1</th>\n",
       "      <th>2</th>\n",
       "      <th>3</th>\n",
       "      <th>4</th>\n",
       "      <th>5</th>\n",
       "      <th>6</th>\n",
       "      <th>7</th>\n",
       "      <th>8</th>\n",
       "      <th>9</th>\n",
       "      <th>10</th>\n",
       "      <th>11</th>\n",
       "      <th>12</th>\n",
       "      <th>13</th>\n",
       "      <th>14</th>\n",
       "    </tr>\n",
       "  </thead>\n",
       "  <tbody>\n",
       "    <tr>\n",
       "      <th>0</th>\n",
       "      <td>39</td>\n",
       "      <td>6</td>\n",
       "      <td>77516</td>\n",
       "      <td>9</td>\n",
       "      <td>13</td>\n",
       "      <td>4</td>\n",
       "      <td>0</td>\n",
       "      <td>1</td>\n",
       "      <td>4</td>\n",
       "      <td>1</td>\n",
       "      <td>2174</td>\n",
       "      <td>0</td>\n",
       "      <td>40</td>\n",
       "      <td>38</td>\n",
       "      <td>0</td>\n",
       "    </tr>\n",
       "    <tr>\n",
       "      <th>1</th>\n",
       "      <td>50</td>\n",
       "      <td>5</td>\n",
       "      <td>83311</td>\n",
       "      <td>9</td>\n",
       "      <td>13</td>\n",
       "      <td>2</td>\n",
       "      <td>3</td>\n",
       "      <td>0</td>\n",
       "      <td>4</td>\n",
       "      <td>1</td>\n",
       "      <td>0</td>\n",
       "      <td>0</td>\n",
       "      <td>13</td>\n",
       "      <td>38</td>\n",
       "      <td>0</td>\n",
       "    </tr>\n",
       "    <tr>\n",
       "      <th>2</th>\n",
       "      <td>38</td>\n",
       "      <td>3</td>\n",
       "      <td>215646</td>\n",
       "      <td>11</td>\n",
       "      <td>9</td>\n",
       "      <td>0</td>\n",
       "      <td>5</td>\n",
       "      <td>1</td>\n",
       "      <td>4</td>\n",
       "      <td>1</td>\n",
       "      <td>0</td>\n",
       "      <td>0</td>\n",
       "      <td>40</td>\n",
       "      <td>38</td>\n",
       "      <td>0</td>\n",
       "    </tr>\n",
       "    <tr>\n",
       "      <th>3</th>\n",
       "      <td>53</td>\n",
       "      <td>3</td>\n",
       "      <td>234721</td>\n",
       "      <td>1</td>\n",
       "      <td>7</td>\n",
       "      <td>2</td>\n",
       "      <td>5</td>\n",
       "      <td>0</td>\n",
       "      <td>2</td>\n",
       "      <td>1</td>\n",
       "      <td>0</td>\n",
       "      <td>0</td>\n",
       "      <td>40</td>\n",
       "      <td>38</td>\n",
       "      <td>0</td>\n",
       "    </tr>\n",
       "    <tr>\n",
       "      <th>4</th>\n",
       "      <td>28</td>\n",
       "      <td>3</td>\n",
       "      <td>338409</td>\n",
       "      <td>9</td>\n",
       "      <td>13</td>\n",
       "      <td>2</td>\n",
       "      <td>9</td>\n",
       "      <td>5</td>\n",
       "      <td>2</td>\n",
       "      <td>0</td>\n",
       "      <td>0</td>\n",
       "      <td>0</td>\n",
       "      <td>40</td>\n",
       "      <td>4</td>\n",
       "      <td>0</td>\n",
       "    </tr>\n",
       "  </tbody>\n",
       "</table>\n",
       "</div>"
      ],
      "text/plain": [
       "   0   1       2   3   4   5   6   7   8   9     10 11  12  13  14\n",
       "0  39   6   77516   9  13   4   0   1   4   1  2174  0  40  38   0\n",
       "1  50   5   83311   9  13   2   3   0   4   1     0  0  13  38   0\n",
       "2  38   3  215646  11   9   0   5   1   4   1     0  0  40  38   0\n",
       "3  53   3  234721   1   7   2   5   0   2   1     0  0  40  38   0\n",
       "4  28   3  338409   9  13   2   9   5   2   0     0  0  40   4   0"
      ]
     },
     "execution_count": 87,
     "metadata": {},
     "output_type": "execute_result"
    }
   ],
   "source": [
    "df.head()"
   ]
  },
  {
   "cell_type": "code",
   "execution_count": 88,
   "metadata": {},
   "outputs": [
    {
     "data": {
      "text/plain": [
       "(22792, 14)"
      ]
     },
     "execution_count": 88,
     "metadata": {},
     "output_type": "execute_result"
    }
   ],
   "source": [
    "train_x_sc.shape"
   ]
  },
  {
   "cell_type": "code",
   "execution_count": 91,
   "metadata": {},
   "outputs": [
    {
     "data": {
      "text/plain": [
       "(9769, 14)"
      ]
     },
     "execution_count": 91,
     "metadata": {},
     "output_type": "execute_result"
    }
   ],
   "source": [
    "test_x.shape"
   ]
  },
  {
   "cell_type": "code",
   "execution_count": 90,
   "metadata": {},
   "outputs": [
    {
     "data": {
      "text/plain": [
       "(22792,)"
      ]
     },
     "execution_count": 90,
     "metadata": {},
     "output_type": "execute_result"
    }
   ],
   "source": [
    "train_y.shape"
   ]
  },
  {
   "cell_type": "code",
   "execution_count": 93,
   "metadata": {},
   "outputs": [
    {
     "data": {
      "text/plain": [
       "(9769,)"
      ]
     },
     "execution_count": 93,
     "metadata": {},
     "output_type": "execute_result"
    }
   ],
   "source": [
    "test_y.shape"
   ]
  },
  {
   "cell_type": "code",
   "execution_count": 117,
   "metadata": {},
   "outputs": [],
   "source": [
    "svc = SVC(C = 0.1)"
   ]
  },
  {
   "cell_type": "code",
   "execution_count": 118,
   "metadata": {},
   "outputs": [
    {
     "data": {
      "text/plain": [
       "SVC(C=0.1)"
      ]
     },
     "execution_count": 118,
     "metadata": {},
     "output_type": "execute_result"
    }
   ],
   "source": [
    "svc.fit(train_x_sc,train_y)"
   ]
  },
  {
   "cell_type": "code",
   "execution_count": 119,
   "metadata": {},
   "outputs": [],
   "source": [
    "train_pred_svc = svc.predict(train_x_sc)\n",
    "test_pred_svc = svc.predict(test_x)"
   ]
  },
  {
   "cell_type": "code",
   "execution_count": 120,
   "metadata": {},
   "outputs": [
    {
     "name": "stdout",
     "output_type": "stream",
     "text": [
      "Training Accuracy :  0.840952965952966\n",
      "Testing Accuracy :  0.7647660968369332\n"
     ]
    }
   ],
   "source": [
    "print(\"Training Accuracy : \", accuracy_score(train_pred_svc,train_y))\n",
    "print(\"Testing Accuracy : \",accuracy_score(test_pred_svc,test_y))"
   ]
  },
  {
   "cell_type": "code",
   "execution_count": 100,
   "metadata": {},
   "outputs": [],
   "source": [
    "svc1 = SVC(kernel = \"linear\",C = 0.5)"
   ]
  },
  {
   "cell_type": "code",
   "execution_count": 102,
   "metadata": {},
   "outputs": [
    {
     "data": {
      "text/plain": [
       "SVC(C=0.5, kernel='linear')"
      ]
     },
     "execution_count": 102,
     "metadata": {},
     "output_type": "execute_result"
    }
   ],
   "source": [
    "svc1.fit(train_x_sc,train_y)"
   ]
  },
  {
   "cell_type": "code",
   "execution_count": 103,
   "metadata": {},
   "outputs": [],
   "source": [
    "train_pred_svc1 = svc1.predict(train_x_sc)\n",
    "test_pred_svc1 = svc1.predict(test_x)"
   ]
  },
  {
   "cell_type": "code",
   "execution_count": 104,
   "metadata": {},
   "outputs": [
    {
     "name": "stdout",
     "output_type": "stream",
     "text": [
      "Training Accuracy :  0.8152421902421902\n",
      "Testing Accuracy :  0.23523390316306683\n"
     ]
    }
   ],
   "source": [
    "print(\"Training Accuracy : \", accuracy_score(train_pred_svc1,train_y))\n",
    "print(\"Testing Accuracy : \",accuracy_score(test_pred_svc1,test_y))"
   ]
  },
  {
   "cell_type": "code",
   "execution_count": 106,
   "metadata": {},
   "outputs": [],
   "source": [
    "#Overfitted, So data is not linearly separable here"
   ]
  },
  {
   "cell_type": "code",
   "execution_count": 113,
   "metadata": {},
   "outputs": [],
   "source": [
    "svc2 = SVC(kernel = \"poly\",C = 10)"
   ]
  },
  {
   "cell_type": "code",
   "execution_count": 114,
   "metadata": {},
   "outputs": [
    {
     "data": {
      "text/plain": [
       "SVC(C=10, kernel='poly')"
      ]
     },
     "execution_count": 114,
     "metadata": {},
     "output_type": "execute_result"
    }
   ],
   "source": [
    "svc2.fit(train_x_sc,train_y)"
   ]
  },
  {
   "cell_type": "code",
   "execution_count": 115,
   "metadata": {},
   "outputs": [],
   "source": [
    "train_pred_svc2 = svc2.predict(train_x_sc)\n",
    "test_pred_svc2 = svc2.predict(test_x)"
   ]
  },
  {
   "cell_type": "code",
   "execution_count": 116,
   "metadata": {},
   "outputs": [
    {
     "name": "stdout",
     "output_type": "stream",
     "text": [
      "Training Accuracy :  0.8517901017901018\n",
      "Testing Accuracy :  0.23308424608455316\n"
     ]
    }
   ],
   "source": [
    "print(\"Training Accuracy : \", accuracy_score(train_pred_svc2,train_y))\n",
    "print(\"Testing Accuracy : \",accuracy_score(test_pred_svc2,test_y))"
   ]
  },
  {
   "cell_type": "code",
   "execution_count": 112,
   "metadata": {},
   "outputs": [],
   "source": [
    "#overfitted at both c = 0.5 and c = 10"
   ]
  },
  {
   "cell_type": "code",
   "execution_count": null,
   "metadata": {},
   "outputs": [],
   "source": []
  }
 ],
 "metadata": {
  "colab": {
   "name": "Perceptron",
   "provenance": []
  },
  "kernelspec": {
   "display_name": "Python 3 (ipykernel)",
   "language": "python",
   "name": "python3"
  },
  "language_info": {
   "codemirror_mode": {
    "name": "ipython",
    "version": 3
   },
   "file_extension": ".py",
   "mimetype": "text/x-python",
   "name": "python",
   "nbconvert_exporter": "python",
   "pygments_lexer": "ipython3",
   "version": "3.9.7"
  }
 },
 "nbformat": 4,
 "nbformat_minor": 1
}
