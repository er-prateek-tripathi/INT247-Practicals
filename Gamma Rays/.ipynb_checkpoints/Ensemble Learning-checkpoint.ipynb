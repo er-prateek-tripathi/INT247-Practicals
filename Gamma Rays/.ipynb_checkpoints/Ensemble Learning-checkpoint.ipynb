{
 "cells": [
  {
   "cell_type": "code",
   "execution_count": 1,
   "id": "a356a496",
   "metadata": {},
   "outputs": [],
   "source": [
    "url='https://archive.ics.uci.edu/ml/machine-learning-databases/adult/adult.data'"
   ]
  },
  {
   "cell_type": "code",
   "execution_count": 2,
   "id": "65cfc57e",
   "metadata": {},
   "outputs": [],
   "source": [
    "import pandas as pd"
   ]
  },
  {
   "cell_type": "code",
   "execution_count": 3,
   "id": "7deb1d90",
   "metadata": {},
   "outputs": [],
   "source": [
    "df=pd.read_csv(url, header=None, na_values=' ?')"
   ]
  },
  {
   "cell_type": "code",
   "execution_count": 4,
   "id": "db894a18",
   "metadata": {},
   "outputs": [
    {
     "data": {
      "text/html": [
       "<div>\n",
       "<style scoped>\n",
       "    .dataframe tbody tr th:only-of-type {\n",
       "        vertical-align: middle;\n",
       "    }\n",
       "\n",
       "    .dataframe tbody tr th {\n",
       "        vertical-align: top;\n",
       "    }\n",
       "\n",
       "    .dataframe thead th {\n",
       "        text-align: right;\n",
       "    }\n",
       "</style>\n",
       "<table border=\"1\" class=\"dataframe\">\n",
       "  <thead>\n",
       "    <tr style=\"text-align: right;\">\n",
       "      <th></th>\n",
       "      <th>0</th>\n",
       "      <th>1</th>\n",
       "      <th>2</th>\n",
       "      <th>3</th>\n",
       "      <th>4</th>\n",
       "      <th>5</th>\n",
       "      <th>6</th>\n",
       "      <th>7</th>\n",
       "      <th>8</th>\n",
       "      <th>9</th>\n",
       "      <th>10</th>\n",
       "      <th>11</th>\n",
       "      <th>12</th>\n",
       "      <th>13</th>\n",
       "      <th>14</th>\n",
       "    </tr>\n",
       "  </thead>\n",
       "  <tbody>\n",
       "    <tr>\n",
       "      <th>0</th>\n",
       "      <td>39</td>\n",
       "      <td>State-gov</td>\n",
       "      <td>77516</td>\n",
       "      <td>Bachelors</td>\n",
       "      <td>13</td>\n",
       "      <td>Never-married</td>\n",
       "      <td>Adm-clerical</td>\n",
       "      <td>Not-in-family</td>\n",
       "      <td>White</td>\n",
       "      <td>Male</td>\n",
       "      <td>2174</td>\n",
       "      <td>0</td>\n",
       "      <td>40</td>\n",
       "      <td>United-States</td>\n",
       "      <td>&lt;=50K</td>\n",
       "    </tr>\n",
       "    <tr>\n",
       "      <th>1</th>\n",
       "      <td>50</td>\n",
       "      <td>Self-emp-not-inc</td>\n",
       "      <td>83311</td>\n",
       "      <td>Bachelors</td>\n",
       "      <td>13</td>\n",
       "      <td>Married-civ-spouse</td>\n",
       "      <td>Exec-managerial</td>\n",
       "      <td>Husband</td>\n",
       "      <td>White</td>\n",
       "      <td>Male</td>\n",
       "      <td>0</td>\n",
       "      <td>0</td>\n",
       "      <td>13</td>\n",
       "      <td>United-States</td>\n",
       "      <td>&lt;=50K</td>\n",
       "    </tr>\n",
       "    <tr>\n",
       "      <th>2</th>\n",
       "      <td>38</td>\n",
       "      <td>Private</td>\n",
       "      <td>215646</td>\n",
       "      <td>HS-grad</td>\n",
       "      <td>9</td>\n",
       "      <td>Divorced</td>\n",
       "      <td>Handlers-cleaners</td>\n",
       "      <td>Not-in-family</td>\n",
       "      <td>White</td>\n",
       "      <td>Male</td>\n",
       "      <td>0</td>\n",
       "      <td>0</td>\n",
       "      <td>40</td>\n",
       "      <td>United-States</td>\n",
       "      <td>&lt;=50K</td>\n",
       "    </tr>\n",
       "    <tr>\n",
       "      <th>3</th>\n",
       "      <td>53</td>\n",
       "      <td>Private</td>\n",
       "      <td>234721</td>\n",
       "      <td>11th</td>\n",
       "      <td>7</td>\n",
       "      <td>Married-civ-spouse</td>\n",
       "      <td>Handlers-cleaners</td>\n",
       "      <td>Husband</td>\n",
       "      <td>Black</td>\n",
       "      <td>Male</td>\n",
       "      <td>0</td>\n",
       "      <td>0</td>\n",
       "      <td>40</td>\n",
       "      <td>United-States</td>\n",
       "      <td>&lt;=50K</td>\n",
       "    </tr>\n",
       "    <tr>\n",
       "      <th>4</th>\n",
       "      <td>28</td>\n",
       "      <td>Private</td>\n",
       "      <td>338409</td>\n",
       "      <td>Bachelors</td>\n",
       "      <td>13</td>\n",
       "      <td>Married-civ-spouse</td>\n",
       "      <td>Prof-specialty</td>\n",
       "      <td>Wife</td>\n",
       "      <td>Black</td>\n",
       "      <td>Female</td>\n",
       "      <td>0</td>\n",
       "      <td>0</td>\n",
       "      <td>40</td>\n",
       "      <td>Cuba</td>\n",
       "      <td>&lt;=50K</td>\n",
       "    </tr>\n",
       "  </tbody>\n",
       "</table>\n",
       "</div>"
      ],
      "text/plain": [
       "   0                  1       2           3   4                    5   \\\n",
       "0  39          State-gov   77516   Bachelors  13        Never-married   \n",
       "1  50   Self-emp-not-inc   83311   Bachelors  13   Married-civ-spouse   \n",
       "2  38            Private  215646     HS-grad   9             Divorced   \n",
       "3  53            Private  234721        11th   7   Married-civ-spouse   \n",
       "4  28            Private  338409   Bachelors  13   Married-civ-spouse   \n",
       "\n",
       "                   6               7       8        9     10  11  12  \\\n",
       "0        Adm-clerical   Not-in-family   White     Male  2174   0  40   \n",
       "1     Exec-managerial         Husband   White     Male     0   0  13   \n",
       "2   Handlers-cleaners   Not-in-family   White     Male     0   0  40   \n",
       "3   Handlers-cleaners         Husband   Black     Male     0   0  40   \n",
       "4      Prof-specialty            Wife   Black   Female     0   0  40   \n",
       "\n",
       "               13      14  \n",
       "0   United-States   <=50K  \n",
       "1   United-States   <=50K  \n",
       "2   United-States   <=50K  \n",
       "3   United-States   <=50K  \n",
       "4            Cuba   <=50K  "
      ]
     },
     "execution_count": 4,
     "metadata": {},
     "output_type": "execute_result"
    }
   ],
   "source": [
    "df.head()"
   ]
  },
  {
   "cell_type": "code",
   "execution_count": 5,
   "id": "1b888968",
   "metadata": {},
   "outputs": [
    {
     "data": {
      "text/plain": [
       "0        0\n",
       "1     1836\n",
       "2        0\n",
       "3        0\n",
       "4        0\n",
       "5        0\n",
       "6     1843\n",
       "7        0\n",
       "8        0\n",
       "9        0\n",
       "10       0\n",
       "11       0\n",
       "12       0\n",
       "13     583\n",
       "14       0\n",
       "dtype: int64"
      ]
     },
     "execution_count": 5,
     "metadata": {},
     "output_type": "execute_result"
    }
   ],
   "source": [
    "df.isnull().sum()\n"
   ]
  },
  {
   "cell_type": "code",
   "execution_count": 6,
   "id": "6876158f",
   "metadata": {},
   "outputs": [],
   "source": [
    "from sklearn.impute import SimpleImputer"
   ]
  },
  {
   "cell_type": "code",
   "execution_count": 7,
   "id": "3606cd08",
   "metadata": {},
   "outputs": [],
   "source": [
    "si=SimpleImputer(strategy='most_frequent')"
   ]
  },
  {
   "cell_type": "code",
   "execution_count": 8,
   "id": "d93436a6",
   "metadata": {},
   "outputs": [],
   "source": [
    "df=si.fit_transform(df)"
   ]
  },
  {
   "cell_type": "code",
   "execution_count": 9,
   "id": "d34ea797",
   "metadata": {},
   "outputs": [
    {
     "data": {
      "text/plain": [
       "0     0\n",
       "1     0\n",
       "2     0\n",
       "3     0\n",
       "4     0\n",
       "5     0\n",
       "6     0\n",
       "7     0\n",
       "8     0\n",
       "9     0\n",
       "10    0\n",
       "11    0\n",
       "12    0\n",
       "13    0\n",
       "14    0\n",
       "dtype: int64"
      ]
     },
     "execution_count": 9,
     "metadata": {},
     "output_type": "execute_result"
    }
   ],
   "source": [
    "pd.DataFrame(df).isnull().sum()"
   ]
  },
  {
   "cell_type": "code",
   "execution_count": 10,
   "id": "a8df5b9c",
   "metadata": {},
   "outputs": [],
   "source": [
    "cols=[1,3, 5,6,7,8,9,13, 14]"
   ]
  },
  {
   "cell_type": "code",
   "execution_count": 11,
   "id": "d81dafc5",
   "metadata": {},
   "outputs": [],
   "source": [
    "from sklearn.preprocessing import LabelEncoder"
   ]
  },
  {
   "cell_type": "code",
   "execution_count": 12,
   "id": "adefb0f9",
   "metadata": {},
   "outputs": [],
   "source": [
    "le=LabelEncoder()"
   ]
  },
  {
   "cell_type": "code",
   "execution_count": 13,
   "id": "37854e24",
   "metadata": {},
   "outputs": [],
   "source": [
    "df=pd.DataFrame(df)"
   ]
  },
  {
   "cell_type": "code",
   "execution_count": 14,
   "id": "7c3e43a9",
   "metadata": {},
   "outputs": [],
   "source": [
    "for i in cols:\n",
    "  df[i]=le.fit_transform(df[i])"
   ]
  },
  {
   "cell_type": "code",
   "execution_count": 15,
   "id": "1dcd561d",
   "metadata": {},
   "outputs": [
    {
     "data": {
      "text/html": [
       "<div>\n",
       "<style scoped>\n",
       "    .dataframe tbody tr th:only-of-type {\n",
       "        vertical-align: middle;\n",
       "    }\n",
       "\n",
       "    .dataframe tbody tr th {\n",
       "        vertical-align: top;\n",
       "    }\n",
       "\n",
       "    .dataframe thead th {\n",
       "        text-align: right;\n",
       "    }\n",
       "</style>\n",
       "<table border=\"1\" class=\"dataframe\">\n",
       "  <thead>\n",
       "    <tr style=\"text-align: right;\">\n",
       "      <th></th>\n",
       "      <th>0</th>\n",
       "      <th>1</th>\n",
       "      <th>2</th>\n",
       "      <th>3</th>\n",
       "      <th>4</th>\n",
       "      <th>5</th>\n",
       "      <th>6</th>\n",
       "      <th>7</th>\n",
       "      <th>8</th>\n",
       "      <th>9</th>\n",
       "      <th>10</th>\n",
       "      <th>11</th>\n",
       "      <th>12</th>\n",
       "      <th>13</th>\n",
       "      <th>14</th>\n",
       "    </tr>\n",
       "  </thead>\n",
       "  <tbody>\n",
       "    <tr>\n",
       "      <th>0</th>\n",
       "      <td>39</td>\n",
       "      <td>6</td>\n",
       "      <td>77516</td>\n",
       "      <td>9</td>\n",
       "      <td>13</td>\n",
       "      <td>4</td>\n",
       "      <td>0</td>\n",
       "      <td>1</td>\n",
       "      <td>4</td>\n",
       "      <td>1</td>\n",
       "      <td>2174</td>\n",
       "      <td>0</td>\n",
       "      <td>40</td>\n",
       "      <td>38</td>\n",
       "      <td>0</td>\n",
       "    </tr>\n",
       "    <tr>\n",
       "      <th>1</th>\n",
       "      <td>50</td>\n",
       "      <td>5</td>\n",
       "      <td>83311</td>\n",
       "      <td>9</td>\n",
       "      <td>13</td>\n",
       "      <td>2</td>\n",
       "      <td>3</td>\n",
       "      <td>0</td>\n",
       "      <td>4</td>\n",
       "      <td>1</td>\n",
       "      <td>0</td>\n",
       "      <td>0</td>\n",
       "      <td>13</td>\n",
       "      <td>38</td>\n",
       "      <td>0</td>\n",
       "    </tr>\n",
       "    <tr>\n",
       "      <th>2</th>\n",
       "      <td>38</td>\n",
       "      <td>3</td>\n",
       "      <td>215646</td>\n",
       "      <td>11</td>\n",
       "      <td>9</td>\n",
       "      <td>0</td>\n",
       "      <td>5</td>\n",
       "      <td>1</td>\n",
       "      <td>4</td>\n",
       "      <td>1</td>\n",
       "      <td>0</td>\n",
       "      <td>0</td>\n",
       "      <td>40</td>\n",
       "      <td>38</td>\n",
       "      <td>0</td>\n",
       "    </tr>\n",
       "    <tr>\n",
       "      <th>3</th>\n",
       "      <td>53</td>\n",
       "      <td>3</td>\n",
       "      <td>234721</td>\n",
       "      <td>1</td>\n",
       "      <td>7</td>\n",
       "      <td>2</td>\n",
       "      <td>5</td>\n",
       "      <td>0</td>\n",
       "      <td>2</td>\n",
       "      <td>1</td>\n",
       "      <td>0</td>\n",
       "      <td>0</td>\n",
       "      <td>40</td>\n",
       "      <td>38</td>\n",
       "      <td>0</td>\n",
       "    </tr>\n",
       "    <tr>\n",
       "      <th>4</th>\n",
       "      <td>28</td>\n",
       "      <td>3</td>\n",
       "      <td>338409</td>\n",
       "      <td>9</td>\n",
       "      <td>13</td>\n",
       "      <td>2</td>\n",
       "      <td>9</td>\n",
       "      <td>5</td>\n",
       "      <td>2</td>\n",
       "      <td>0</td>\n",
       "      <td>0</td>\n",
       "      <td>0</td>\n",
       "      <td>40</td>\n",
       "      <td>4</td>\n",
       "      <td>0</td>\n",
       "    </tr>\n",
       "  </tbody>\n",
       "</table>\n",
       "</div>"
      ],
      "text/plain": [
       "   0   1       2   3   4   5   6   7   8   9     10 11  12  13  14\n",
       "0  39   6   77516   9  13   4   0   1   4   1  2174  0  40  38   0\n",
       "1  50   5   83311   9  13   2   3   0   4   1     0  0  13  38   0\n",
       "2  38   3  215646  11   9   0   5   1   4   1     0  0  40  38   0\n",
       "3  53   3  234721   1   7   2   5   0   2   1     0  0  40  38   0\n",
       "4  28   3  338409   9  13   2   9   5   2   0     0  0  40   4   0"
      ]
     },
     "execution_count": 15,
     "metadata": {},
     "output_type": "execute_result"
    }
   ],
   "source": [
    "df.head()"
   ]
  },
  {
   "cell_type": "code",
   "execution_count": 16,
   "id": "f352157f",
   "metadata": {},
   "outputs": [],
   "source": [
    "y = df[14]"
   ]
  },
  {
   "cell_type": "code",
   "execution_count": 17,
   "id": "e590a46d",
   "metadata": {},
   "outputs": [
    {
     "data": {
      "text/plain": [
       "(32561,)"
      ]
     },
     "execution_count": 17,
     "metadata": {},
     "output_type": "execute_result"
    }
   ],
   "source": [
    "y.shape"
   ]
  },
  {
   "cell_type": "code",
   "execution_count": 18,
   "id": "78968e4e",
   "metadata": {},
   "outputs": [],
   "source": [
    "x = df.drop(columns = 14)"
   ]
  },
  {
   "cell_type": "code",
   "execution_count": 19,
   "id": "22eba3a7",
   "metadata": {},
   "outputs": [
    {
     "data": {
      "text/plain": [
       "(32561, 14)"
      ]
     },
     "execution_count": 19,
     "metadata": {},
     "output_type": "execute_result"
    }
   ],
   "source": [
    "x.shape"
   ]
  },
  {
   "cell_type": "code",
   "execution_count": 20,
   "id": "62231d34",
   "metadata": {},
   "outputs": [],
   "source": [
    "from sklearn.model_selection import train_test_split"
   ]
  },
  {
   "cell_type": "code",
   "execution_count": 21,
   "id": "cd9ac362",
   "metadata": {},
   "outputs": [],
   "source": [
    "train_x,test_x,train_y,test_y = train_test_split(x,y,test_size = 0.3)"
   ]
  },
  {
   "cell_type": "code",
   "execution_count": 22,
   "id": "d35af481",
   "metadata": {},
   "outputs": [],
   "source": [
    "#giving 70% to train and 30% to test"
   ]
  },
  {
   "cell_type": "code",
   "execution_count": 23,
   "id": "11627c95",
   "metadata": {},
   "outputs": [
    {
     "data": {
      "text/plain": [
       "(22792, 14)"
      ]
     },
     "execution_count": 23,
     "metadata": {},
     "output_type": "execute_result"
    }
   ],
   "source": [
    "train_x.shape"
   ]
  },
  {
   "cell_type": "code",
   "execution_count": 24,
   "id": "0a6f6c3e",
   "metadata": {},
   "outputs": [
    {
     "data": {
      "text/plain": [
       "(9769, 14)"
      ]
     },
     "execution_count": 24,
     "metadata": {},
     "output_type": "execute_result"
    }
   ],
   "source": [
    "test_x.shape"
   ]
  },
  {
   "cell_type": "code",
   "execution_count": 25,
   "id": "e9b633a6",
   "metadata": {},
   "outputs": [
    {
     "data": {
      "text/html": [
       "<div>\n",
       "<style scoped>\n",
       "    .dataframe tbody tr th:only-of-type {\n",
       "        vertical-align: middle;\n",
       "    }\n",
       "\n",
       "    .dataframe tbody tr th {\n",
       "        vertical-align: top;\n",
       "    }\n",
       "\n",
       "    .dataframe thead th {\n",
       "        text-align: right;\n",
       "    }\n",
       "</style>\n",
       "<table border=\"1\" class=\"dataframe\">\n",
       "  <thead>\n",
       "    <tr style=\"text-align: right;\">\n",
       "      <th></th>\n",
       "      <th>1</th>\n",
       "      <th>3</th>\n",
       "      <th>5</th>\n",
       "      <th>6</th>\n",
       "      <th>7</th>\n",
       "      <th>8</th>\n",
       "      <th>9</th>\n",
       "      <th>13</th>\n",
       "    </tr>\n",
       "  </thead>\n",
       "  <tbody>\n",
       "    <tr>\n",
       "      <th>count</th>\n",
       "      <td>22792.000000</td>\n",
       "      <td>22792.000000</td>\n",
       "      <td>22792.000000</td>\n",
       "      <td>22792.000000</td>\n",
       "      <td>22792.000000</td>\n",
       "      <td>22792.000000</td>\n",
       "      <td>22792.000000</td>\n",
       "      <td>22792.000000</td>\n",
       "    </tr>\n",
       "    <tr>\n",
       "      <th>mean</th>\n",
       "      <td>3.095121</td>\n",
       "      <td>10.300983</td>\n",
       "      <td>2.609775</td>\n",
       "      <td>6.140444</td>\n",
       "      <td>1.440944</td>\n",
       "      <td>3.665409</td>\n",
       "      <td>0.669928</td>\n",
       "      <td>36.410056</td>\n",
       "    </tr>\n",
       "    <tr>\n",
       "      <th>std</th>\n",
       "      <td>1.107606</td>\n",
       "      <td>3.859218</td>\n",
       "      <td>1.505775</td>\n",
       "      <td>3.969927</td>\n",
       "      <td>1.606152</td>\n",
       "      <td>0.848086</td>\n",
       "      <td>0.470249</td>\n",
       "      <td>6.076811</td>\n",
       "    </tr>\n",
       "    <tr>\n",
       "      <th>min</th>\n",
       "      <td>0.000000</td>\n",
       "      <td>0.000000</td>\n",
       "      <td>0.000000</td>\n",
       "      <td>0.000000</td>\n",
       "      <td>0.000000</td>\n",
       "      <td>0.000000</td>\n",
       "      <td>0.000000</td>\n",
       "      <td>0.000000</td>\n",
       "    </tr>\n",
       "    <tr>\n",
       "      <th>25%</th>\n",
       "      <td>3.000000</td>\n",
       "      <td>9.000000</td>\n",
       "      <td>2.000000</td>\n",
       "      <td>3.000000</td>\n",
       "      <td>0.000000</td>\n",
       "      <td>4.000000</td>\n",
       "      <td>0.000000</td>\n",
       "      <td>38.000000</td>\n",
       "    </tr>\n",
       "    <tr>\n",
       "      <th>50%</th>\n",
       "      <td>3.000000</td>\n",
       "      <td>11.000000</td>\n",
       "      <td>2.000000</td>\n",
       "      <td>6.000000</td>\n",
       "      <td>1.000000</td>\n",
       "      <td>4.000000</td>\n",
       "      <td>1.000000</td>\n",
       "      <td>38.000000</td>\n",
       "    </tr>\n",
       "    <tr>\n",
       "      <th>75%</th>\n",
       "      <td>3.000000</td>\n",
       "      <td>12.000000</td>\n",
       "      <td>4.000000</td>\n",
       "      <td>9.000000</td>\n",
       "      <td>3.000000</td>\n",
       "      <td>4.000000</td>\n",
       "      <td>1.000000</td>\n",
       "      <td>38.000000</td>\n",
       "    </tr>\n",
       "    <tr>\n",
       "      <th>max</th>\n",
       "      <td>7.000000</td>\n",
       "      <td>15.000000</td>\n",
       "      <td>6.000000</td>\n",
       "      <td>13.000000</td>\n",
       "      <td>5.000000</td>\n",
       "      <td>4.000000</td>\n",
       "      <td>1.000000</td>\n",
       "      <td>40.000000</td>\n",
       "    </tr>\n",
       "  </tbody>\n",
       "</table>\n",
       "</div>"
      ],
      "text/plain": [
       "                 1             3             5             6             7   \\\n",
       "count  22792.000000  22792.000000  22792.000000  22792.000000  22792.000000   \n",
       "mean       3.095121     10.300983      2.609775      6.140444      1.440944   \n",
       "std        1.107606      3.859218      1.505775      3.969927      1.606152   \n",
       "min        0.000000      0.000000      0.000000      0.000000      0.000000   \n",
       "25%        3.000000      9.000000      2.000000      3.000000      0.000000   \n",
       "50%        3.000000     11.000000      2.000000      6.000000      1.000000   \n",
       "75%        3.000000     12.000000      4.000000      9.000000      3.000000   \n",
       "max        7.000000     15.000000      6.000000     13.000000      5.000000   \n",
       "\n",
       "                 8             9             13  \n",
       "count  22792.000000  22792.000000  22792.000000  \n",
       "mean       3.665409      0.669928     36.410056  \n",
       "std        0.848086      0.470249      6.076811  \n",
       "min        0.000000      0.000000      0.000000  \n",
       "25%        4.000000      0.000000     38.000000  \n",
       "50%        4.000000      1.000000     38.000000  \n",
       "75%        4.000000      1.000000     38.000000  \n",
       "max        4.000000      1.000000     40.000000  "
      ]
     },
     "execution_count": 25,
     "metadata": {},
     "output_type": "execute_result"
    }
   ],
   "source": [
    "train_x.describe()"
   ]
  },
  {
   "cell_type": "code",
   "execution_count": 26,
   "id": "d391edc5",
   "metadata": {},
   "outputs": [],
   "source": [
    "from sklearn.preprocessing import StandardScaler"
   ]
  },
  {
   "cell_type": "code",
   "execution_count": 27,
   "id": "8c8db79a",
   "metadata": {},
   "outputs": [],
   "source": [
    "sc = StandardScaler()"
   ]
  },
  {
   "cell_type": "code",
   "execution_count": 28,
   "id": "b829229d",
   "metadata": {},
   "outputs": [],
   "source": [
    "train_x_sc = sc.fit_transform(train_x)"
   ]
  },
  {
   "cell_type": "code",
   "execution_count": 29,
   "id": "f6f60188",
   "metadata": {},
   "outputs": [
    {
     "data": {
      "text/html": [
       "<div>\n",
       "<style scoped>\n",
       "    .dataframe tbody tr th:only-of-type {\n",
       "        vertical-align: middle;\n",
       "    }\n",
       "\n",
       "    .dataframe tbody tr th {\n",
       "        vertical-align: top;\n",
       "    }\n",
       "\n",
       "    .dataframe thead th {\n",
       "        text-align: right;\n",
       "    }\n",
       "</style>\n",
       "<table border=\"1\" class=\"dataframe\">\n",
       "  <thead>\n",
       "    <tr style=\"text-align: right;\">\n",
       "      <th></th>\n",
       "      <th>0</th>\n",
       "      <th>1</th>\n",
       "      <th>2</th>\n",
       "      <th>3</th>\n",
       "      <th>4</th>\n",
       "      <th>5</th>\n",
       "      <th>6</th>\n",
       "      <th>7</th>\n",
       "      <th>8</th>\n",
       "      <th>9</th>\n",
       "      <th>10</th>\n",
       "      <th>11</th>\n",
       "      <th>12</th>\n",
       "      <th>13</th>\n",
       "    </tr>\n",
       "  </thead>\n",
       "  <tbody>\n",
       "    <tr>\n",
       "      <th>count</th>\n",
       "      <td>2.279200e+04</td>\n",
       "      <td>2.279200e+04</td>\n",
       "      <td>2.279200e+04</td>\n",
       "      <td>2.279200e+04</td>\n",
       "      <td>2.279200e+04</td>\n",
       "      <td>2.279200e+04</td>\n",
       "      <td>2.279200e+04</td>\n",
       "      <td>2.279200e+04</td>\n",
       "      <td>2.279200e+04</td>\n",
       "      <td>2.279200e+04</td>\n",
       "      <td>2.279200e+04</td>\n",
       "      <td>2.279200e+04</td>\n",
       "      <td>2.279200e+04</td>\n",
       "      <td>2.279200e+04</td>\n",
       "    </tr>\n",
       "    <tr>\n",
       "      <th>mean</th>\n",
       "      <td>-2.795164e-17</td>\n",
       "      <td>2.140761e-16</td>\n",
       "      <td>-6.052230e-17</td>\n",
       "      <td>-3.932628e-16</td>\n",
       "      <td>-7.353766e-16</td>\n",
       "      <td>-2.061258e-16</td>\n",
       "      <td>-1.097558e-16</td>\n",
       "      <td>-3.648363e-16</td>\n",
       "      <td>6.432542e-16</td>\n",
       "      <td>-8.123255e-16</td>\n",
       "      <td>2.923371e-16</td>\n",
       "      <td>5.197278e-16</td>\n",
       "      <td>-1.145085e-16</td>\n",
       "      <td>-8.572712e-16</td>\n",
       "    </tr>\n",
       "    <tr>\n",
       "      <th>std</th>\n",
       "      <td>1.000022e+00</td>\n",
       "      <td>1.000022e+00</td>\n",
       "      <td>1.000022e+00</td>\n",
       "      <td>1.000022e+00</td>\n",
       "      <td>1.000022e+00</td>\n",
       "      <td>1.000022e+00</td>\n",
       "      <td>1.000022e+00</td>\n",
       "      <td>1.000022e+00</td>\n",
       "      <td>1.000022e+00</td>\n",
       "      <td>1.000022e+00</td>\n",
       "      <td>1.000022e+00</td>\n",
       "      <td>1.000022e+00</td>\n",
       "      <td>1.000022e+00</td>\n",
       "      <td>1.000022e+00</td>\n",
       "    </tr>\n",
       "    <tr>\n",
       "      <th>min</th>\n",
       "      <td>-1.585250e+00</td>\n",
       "      <td>-2.794486e+00</td>\n",
       "      <td>-1.672669e+00</td>\n",
       "      <td>-2.669248e+00</td>\n",
       "      <td>-3.532111e+00</td>\n",
       "      <td>-1.733216e+00</td>\n",
       "      <td>-1.546774e+00</td>\n",
       "      <td>-8.971602e-01</td>\n",
       "      <td>-4.322075e+00</td>\n",
       "      <td>-1.424655e+00</td>\n",
       "      <td>-1.444317e-01</td>\n",
       "      <td>-2.141244e-01</td>\n",
       "      <td>-3.201344e+00</td>\n",
       "      <td>-5.991770e+00</td>\n",
       "    </tr>\n",
       "    <tr>\n",
       "      <th>25%</th>\n",
       "      <td>-7.773657e-01</td>\n",
       "      <td>-8.588181e-02</td>\n",
       "      <td>-6.790147e-01</td>\n",
       "      <td>-3.371178e-01</td>\n",
       "      <td>-4.202790e-01</td>\n",
       "      <td>-4.049668e-01</td>\n",
       "      <td>-7.910758e-01</td>\n",
       "      <td>-8.971602e-01</td>\n",
       "      <td>3.945338e-01</td>\n",
       "      <td>-1.424655e+00</td>\n",
       "      <td>-1.444317e-01</td>\n",
       "      <td>-2.141244e-01</td>\n",
       "      <td>-3.652990e-02</td>\n",
       "      <td>2.616469e-01</td>\n",
       "    </tr>\n",
       "    <tr>\n",
       "      <th>50%</th>\n",
       "      <td>-1.163691e-01</td>\n",
       "      <td>-8.588181e-02</td>\n",
       "      <td>-1.062730e-01</td>\n",
       "      <td>1.811332e-01</td>\n",
       "      <td>-3.129991e-02</td>\n",
       "      <td>-4.049668e-01</td>\n",
       "      <td>-3.537775e-02</td>\n",
       "      <td>-2.745405e-01</td>\n",
       "      <td>3.945338e-01</td>\n",
       "      <td>7.019242e-01</td>\n",
       "      <td>-1.444317e-01</td>\n",
       "      <td>-2.141244e-01</td>\n",
       "      <td>-3.652990e-02</td>\n",
       "      <td>2.616469e-01</td>\n",
       "    </tr>\n",
       "    <tr>\n",
       "      <th>75%</th>\n",
       "      <td>6.915156e-01</td>\n",
       "      <td>-8.588181e-02</td>\n",
       "      <td>4.444124e-01</td>\n",
       "      <td>4.402587e-01</td>\n",
       "      <td>7.466582e-01</td>\n",
       "      <td>9.232823e-01</td>\n",
       "      <td>7.203203e-01</td>\n",
       "      <td>9.706988e-01</td>\n",
       "      <td>3.945338e-01</td>\n",
       "      <td>7.019242e-01</td>\n",
       "      <td>-1.444317e-01</td>\n",
       "      <td>-2.141244e-01</td>\n",
       "      <td>3.692155e-01</td>\n",
       "      <td>2.616469e-01</td>\n",
       "    </tr>\n",
       "    <tr>\n",
       "      <th>max</th>\n",
       "      <td>3.776166e+00</td>\n",
       "      <td>3.525591e+00</td>\n",
       "      <td>1.222378e+01</td>\n",
       "      <td>1.217635e+00</td>\n",
       "      <td>2.302574e+00</td>\n",
       "      <td>2.251531e+00</td>\n",
       "      <td>1.727918e+00</td>\n",
       "      <td>2.215938e+00</td>\n",
       "      <td>3.945338e-01</td>\n",
       "      <td>7.019242e-01</td>\n",
       "      <td>1.396020e+01</td>\n",
       "      <td>1.063438e+01</td>\n",
       "      <td>4.751265e+00</td>\n",
       "      <td>5.907741e-01</td>\n",
       "    </tr>\n",
       "  </tbody>\n",
       "</table>\n",
       "</div>"
      ],
      "text/plain": [
       "                 0             1             2             3             4   \\\n",
       "count  2.279200e+04  2.279200e+04  2.279200e+04  2.279200e+04  2.279200e+04   \n",
       "mean  -2.795164e-17  2.140761e-16 -6.052230e-17 -3.932628e-16 -7.353766e-16   \n",
       "std    1.000022e+00  1.000022e+00  1.000022e+00  1.000022e+00  1.000022e+00   \n",
       "min   -1.585250e+00 -2.794486e+00 -1.672669e+00 -2.669248e+00 -3.532111e+00   \n",
       "25%   -7.773657e-01 -8.588181e-02 -6.790147e-01 -3.371178e-01 -4.202790e-01   \n",
       "50%   -1.163691e-01 -8.588181e-02 -1.062730e-01  1.811332e-01 -3.129991e-02   \n",
       "75%    6.915156e-01 -8.588181e-02  4.444124e-01  4.402587e-01  7.466582e-01   \n",
       "max    3.776166e+00  3.525591e+00  1.222378e+01  1.217635e+00  2.302574e+00   \n",
       "\n",
       "                 5             6             7             8             9   \\\n",
       "count  2.279200e+04  2.279200e+04  2.279200e+04  2.279200e+04  2.279200e+04   \n",
       "mean  -2.061258e-16 -1.097558e-16 -3.648363e-16  6.432542e-16 -8.123255e-16   \n",
       "std    1.000022e+00  1.000022e+00  1.000022e+00  1.000022e+00  1.000022e+00   \n",
       "min   -1.733216e+00 -1.546774e+00 -8.971602e-01 -4.322075e+00 -1.424655e+00   \n",
       "25%   -4.049668e-01 -7.910758e-01 -8.971602e-01  3.945338e-01 -1.424655e+00   \n",
       "50%   -4.049668e-01 -3.537775e-02 -2.745405e-01  3.945338e-01  7.019242e-01   \n",
       "75%    9.232823e-01  7.203203e-01  9.706988e-01  3.945338e-01  7.019242e-01   \n",
       "max    2.251531e+00  1.727918e+00  2.215938e+00  3.945338e-01  7.019242e-01   \n",
       "\n",
       "                 10            11            12            13  \n",
       "count  2.279200e+04  2.279200e+04  2.279200e+04  2.279200e+04  \n",
       "mean   2.923371e-16  5.197278e-16 -1.145085e-16 -8.572712e-16  \n",
       "std    1.000022e+00  1.000022e+00  1.000022e+00  1.000022e+00  \n",
       "min   -1.444317e-01 -2.141244e-01 -3.201344e+00 -5.991770e+00  \n",
       "25%   -1.444317e-01 -2.141244e-01 -3.652990e-02  2.616469e-01  \n",
       "50%   -1.444317e-01 -2.141244e-01 -3.652990e-02  2.616469e-01  \n",
       "75%   -1.444317e-01 -2.141244e-01  3.692155e-01  2.616469e-01  \n",
       "max    1.396020e+01  1.063438e+01  4.751265e+00  5.907741e-01  "
      ]
     },
     "execution_count": 29,
     "metadata": {},
     "output_type": "execute_result"
    }
   ],
   "source": [
    "pd.DataFrame(train_x_sc).describe()"
   ]
  },
  {
   "cell_type": "code",
   "execution_count": 30,
   "id": "e0fbb0f4",
   "metadata": {},
   "outputs": [],
   "source": [
    "from sklearn.metrics import accuracy_score"
   ]
  },
  {
   "cell_type": "code",
   "execution_count": 38,
   "id": "cea8cada",
   "metadata": {},
   "outputs": [],
   "source": [
    "from sklearn.linear_model import Perceptron\n",
    "from sklearn.linear_model import LogisticRegression\n",
    "from sklearn.svm import SVC"
   ]
  },
  {
   "cell_type": "code",
   "execution_count": 39,
   "id": "416307c6",
   "metadata": {},
   "outputs": [],
   "source": [
    "p=Perceptron()"
   ]
  },
  {
   "cell_type": "code",
   "execution_count": 40,
   "id": "9149fc21",
   "metadata": {},
   "outputs": [],
   "source": [
    "lr = LogisticRegression()"
   ]
  },
  {
   "cell_type": "code",
   "execution_count": 41,
   "id": "f378bd46",
   "metadata": {},
   "outputs": [],
   "source": [
    "svc = SVC()"
   ]
  },
  {
   "cell_type": "markdown",
   "id": "7c43f540",
   "metadata": {},
   "source": [
    "# Voting Classifier"
   ]
  },
  {
   "cell_type": "code",
   "execution_count": 42,
   "id": "10d2cc30",
   "metadata": {},
   "outputs": [],
   "source": [
    "from sklearn.ensemble import VotingClassifier"
   ]
  },
  {
   "cell_type": "code",
   "execution_count": 43,
   "id": "f8775621",
   "metadata": {},
   "outputs": [],
   "source": [
    "vc= VotingClassifier(estimators = [('per', p),('logistic', lr),('support',svc)], voting = 'hard')"
   ]
  },
  {
   "cell_type": "code",
   "execution_count": 44,
   "id": "06100de5",
   "metadata": {},
   "outputs": [
    {
     "data": {
      "text/plain": [
       "VotingClassifier(estimators=[('per', Perceptron()),\n",
       "                             ('logistic', LogisticRegression()),\n",
       "                             ('support', SVC())])"
      ]
     },
     "execution_count": 44,
     "metadata": {},
     "output_type": "execute_result"
    }
   ],
   "source": [
    "vc.fit(train_x_sc,train_y)"
   ]
  },
  {
   "cell_type": "code",
   "execution_count": 45,
   "id": "74b83f86",
   "metadata": {},
   "outputs": [],
   "source": [
    "train_pred_vc = vc.predict(train_x_sc)\n",
    "test_pred_vc = vc.predict(test_x)"
   ]
  },
  {
   "cell_type": "code",
   "execution_count": 46,
   "id": "830673e9",
   "metadata": {},
   "outputs": [
    {
     "name": "stdout",
     "output_type": "stream",
     "text": [
      "Training Accuracy:  0.837004212004212\n",
      "Testing Accuracy:  0.2438325314771215\n"
     ]
    }
   ],
   "source": [
    "print(\"Training Accuracy: \", accuracy_score(train_pred_vc, train_y))\n",
    "print(\"Testing Accuracy: \", accuracy_score(test_pred_vc, test_y))"
   ]
  },
  {
   "cell_type": "code",
   "execution_count": 47,
   "id": "46f0c45d",
   "metadata": {},
   "outputs": [],
   "source": [
    "# not performing well."
   ]
  },
  {
   "cell_type": "code",
   "execution_count": 61,
   "id": "8222fdb8",
   "metadata": {},
   "outputs": [],
   "source": [
    "vc1= VotingClassifier(estimators = [('per', p),('logistic', lr),('support',svc)], voting = 'hard', weights = [1,1,3] )\n",
    "# giving 1x wightage to p and lr and 3x weightage to svc\n",
    "# i.e. 20%, 20%, 60% contribution from each classifier\n",
    "# 1 p, 1 lr, 3 svc classifiers"
   ]
  },
  {
   "cell_type": "code",
   "execution_count": 50,
   "id": "621c7d72",
   "metadata": {},
   "outputs": [
    {
     "data": {
      "text/plain": [
       "VotingClassifier(estimators=[('per', Perceptron()),\n",
       "                             ('logistic', LogisticRegression()),\n",
       "                             ('support', SVC())],\n",
       "                 weights=[1, 1, 3])"
      ]
     },
     "execution_count": 50,
     "metadata": {},
     "output_type": "execute_result"
    }
   ],
   "source": [
    "vc1.fit(train_x_sc,train_y)"
   ]
  },
  {
   "cell_type": "code",
   "execution_count": 51,
   "id": "c5832b89",
   "metadata": {},
   "outputs": [],
   "source": [
    "train_pred_vc1 = vc1.predict(train_x_sc)\n",
    "test_pred_vc1 = vc1.predict(test_x)"
   ]
  },
  {
   "cell_type": "code",
   "execution_count": 54,
   "id": "fe08f693",
   "metadata": {},
   "outputs": [
    {
     "name": "stdout",
     "output_type": "stream",
     "text": [
      "Training Accuracy:  0.857098982098982\n",
      "Testing Accuracy:  0.7561674685228785\n"
     ]
    }
   ],
   "source": [
    "print(\"Training Accuracy: \", accuracy_score(train_pred_vc1, train_y))\n",
    "print(\"Testing Accuracy: \", accuracy_score(test_pred_vc1, test_y))"
   ]
  },
  {
   "cell_type": "code",
   "execution_count": 55,
   "id": "391fd6f4",
   "metadata": {},
   "outputs": [],
   "source": [
    "# accuracy improved."
   ]
  },
  {
   "cell_type": "code",
   "execution_count": 56,
   "id": "1d240311",
   "metadata": {},
   "outputs": [],
   "source": [
    "# now trying soft voting"
   ]
  },
  {
   "cell_type": "code",
   "execution_count": 57,
   "id": "496408a0",
   "metadata": {},
   "outputs": [],
   "source": [
    "vc2 = VotingClassifier(estimators = [('per', p),('logistic', lr),('support',svc)], voting = 'soft')\n"
   ]
  },
  {
   "cell_type": "code",
   "execution_count": 59,
   "id": "7f47fef5",
   "metadata": {},
   "outputs": [
    {
     "data": {
      "text/plain": [
       "VotingClassifier(estimators=[('per', Perceptron()),\n",
       "                             ('logistic', LogisticRegression()),\n",
       "                             ('support', SVC())],\n",
       "                 voting='soft')"
      ]
     },
     "execution_count": 59,
     "metadata": {},
     "output_type": "execute_result"
    }
   ],
   "source": [
    "vc2.fit(train_x_sc,train_y)"
   ]
  },
  {
   "cell_type": "code",
   "execution_count": 62,
   "id": "c3a4904c",
   "metadata": {},
   "outputs": [
    {
     "ename": "AttributeError",
     "evalue": "'Perceptron' object has no attribute 'predict_proba'",
     "output_type": "error",
     "traceback": [
      "\u001b[1;31m---------------------------------------------------------------------------\u001b[0m",
      "\u001b[1;31mAttributeError\u001b[0m                            Traceback (most recent call last)",
      "\u001b[1;32m~\\AppData\\Local\\Temp/ipykernel_16592/166324783.py\u001b[0m in \u001b[0;36m<module>\u001b[1;34m\u001b[0m\n\u001b[1;32m----> 1\u001b[1;33m \u001b[0mtrain_pred_vc2\u001b[0m \u001b[1;33m=\u001b[0m \u001b[0mvc2\u001b[0m\u001b[1;33m.\u001b[0m\u001b[0mpredict\u001b[0m\u001b[1;33m(\u001b[0m\u001b[0mtrain_x_sc\u001b[0m\u001b[1;33m)\u001b[0m\u001b[1;33m\u001b[0m\u001b[1;33m\u001b[0m\u001b[0m\n\u001b[0m\u001b[0;32m      2\u001b[0m \u001b[0mtest_pred_vc2\u001b[0m \u001b[1;33m=\u001b[0m \u001b[0mvc2\u001b[0m\u001b[1;33m.\u001b[0m\u001b[0mpredict\u001b[0m\u001b[1;33m(\u001b[0m\u001b[0mtest_x\u001b[0m\u001b[1;33m)\u001b[0m\u001b[1;33m\u001b[0m\u001b[1;33m\u001b[0m\u001b[0m\n\u001b[0;32m      3\u001b[0m \u001b[1;31m# error occurred here because Perceptron doesnot considers the probability values,\u001b[0m\u001b[1;33m\u001b[0m\u001b[1;33m\u001b[0m\u001b[0m\n\u001b[0;32m      4\u001b[0m \u001b[1;31m# so to use Soft voting, either remove Perceptron or forget about Soft voting\u001b[0m\u001b[1;33m\u001b[0m\u001b[1;33m\u001b[0m\u001b[0m\n",
      "\u001b[1;32mD:\\AnacondaInstallationFiles\\lib\\site-packages\\sklearn\\ensemble\\_voting.py\u001b[0m in \u001b[0;36mpredict\u001b[1;34m(self, X)\u001b[0m\n\u001b[0;32m    307\u001b[0m         \u001b[0mcheck_is_fitted\u001b[0m\u001b[1;33m(\u001b[0m\u001b[0mself\u001b[0m\u001b[1;33m)\u001b[0m\u001b[1;33m\u001b[0m\u001b[1;33m\u001b[0m\u001b[0m\n\u001b[0;32m    308\u001b[0m         \u001b[1;32mif\u001b[0m \u001b[0mself\u001b[0m\u001b[1;33m.\u001b[0m\u001b[0mvoting\u001b[0m \u001b[1;33m==\u001b[0m \u001b[1;34m'soft'\u001b[0m\u001b[1;33m:\u001b[0m\u001b[1;33m\u001b[0m\u001b[1;33m\u001b[0m\u001b[0m\n\u001b[1;32m--> 309\u001b[1;33m             \u001b[0mmaj\u001b[0m \u001b[1;33m=\u001b[0m \u001b[0mnp\u001b[0m\u001b[1;33m.\u001b[0m\u001b[0margmax\u001b[0m\u001b[1;33m(\u001b[0m\u001b[0mself\u001b[0m\u001b[1;33m.\u001b[0m\u001b[0mpredict_proba\u001b[0m\u001b[1;33m(\u001b[0m\u001b[0mX\u001b[0m\u001b[1;33m)\u001b[0m\u001b[1;33m,\u001b[0m \u001b[0maxis\u001b[0m\u001b[1;33m=\u001b[0m\u001b[1;36m1\u001b[0m\u001b[1;33m)\u001b[0m\u001b[1;33m\u001b[0m\u001b[1;33m\u001b[0m\u001b[0m\n\u001b[0m\u001b[0;32m    310\u001b[0m \u001b[1;33m\u001b[0m\u001b[0m\n\u001b[0;32m    311\u001b[0m         \u001b[1;32melse\u001b[0m\u001b[1;33m:\u001b[0m  \u001b[1;31m# 'hard' voting\u001b[0m\u001b[1;33m\u001b[0m\u001b[1;33m\u001b[0m\u001b[0m\n",
      "\u001b[1;32mD:\\AnacondaInstallationFiles\\lib\\site-packages\\sklearn\\ensemble\\_voting.py\u001b[0m in \u001b[0;36m_predict_proba\u001b[1;34m(self, X)\u001b[0m\n\u001b[0;32m    327\u001b[0m         \u001b[1;34m\"\"\"Predict class probabilities for X in 'soft' voting.\"\"\"\u001b[0m\u001b[1;33m\u001b[0m\u001b[1;33m\u001b[0m\u001b[0m\n\u001b[0;32m    328\u001b[0m         \u001b[0mcheck_is_fitted\u001b[0m\u001b[1;33m(\u001b[0m\u001b[0mself\u001b[0m\u001b[1;33m)\u001b[0m\u001b[1;33m\u001b[0m\u001b[1;33m\u001b[0m\u001b[0m\n\u001b[1;32m--> 329\u001b[1;33m         avg = np.average(self._collect_probas(X), axis=0,\n\u001b[0m\u001b[0;32m    330\u001b[0m                          weights=self._weights_not_none)\n\u001b[0;32m    331\u001b[0m         \u001b[1;32mreturn\u001b[0m \u001b[0mavg\u001b[0m\u001b[1;33m\u001b[0m\u001b[1;33m\u001b[0m\u001b[0m\n",
      "\u001b[1;32mD:\\AnacondaInstallationFiles\\lib\\site-packages\\sklearn\\ensemble\\_voting.py\u001b[0m in \u001b[0;36m_collect_probas\u001b[1;34m(self, X)\u001b[0m\n\u001b[0;32m    322\u001b[0m     \u001b[1;32mdef\u001b[0m \u001b[0m_collect_probas\u001b[0m\u001b[1;33m(\u001b[0m\u001b[0mself\u001b[0m\u001b[1;33m,\u001b[0m \u001b[0mX\u001b[0m\u001b[1;33m)\u001b[0m\u001b[1;33m:\u001b[0m\u001b[1;33m\u001b[0m\u001b[1;33m\u001b[0m\u001b[0m\n\u001b[0;32m    323\u001b[0m         \u001b[1;34m\"\"\"Collect results from clf.predict calls.\"\"\"\u001b[0m\u001b[1;33m\u001b[0m\u001b[1;33m\u001b[0m\u001b[0m\n\u001b[1;32m--> 324\u001b[1;33m         \u001b[1;32mreturn\u001b[0m \u001b[0mnp\u001b[0m\u001b[1;33m.\u001b[0m\u001b[0masarray\u001b[0m\u001b[1;33m(\u001b[0m\u001b[1;33m[\u001b[0m\u001b[0mclf\u001b[0m\u001b[1;33m.\u001b[0m\u001b[0mpredict_proba\u001b[0m\u001b[1;33m(\u001b[0m\u001b[0mX\u001b[0m\u001b[1;33m)\u001b[0m \u001b[1;32mfor\u001b[0m \u001b[0mclf\u001b[0m \u001b[1;32min\u001b[0m \u001b[0mself\u001b[0m\u001b[1;33m.\u001b[0m\u001b[0mestimators_\u001b[0m\u001b[1;33m]\u001b[0m\u001b[1;33m)\u001b[0m\u001b[1;33m\u001b[0m\u001b[1;33m\u001b[0m\u001b[0m\n\u001b[0m\u001b[0;32m    325\u001b[0m \u001b[1;33m\u001b[0m\u001b[0m\n\u001b[0;32m    326\u001b[0m     \u001b[1;32mdef\u001b[0m \u001b[0m_predict_proba\u001b[0m\u001b[1;33m(\u001b[0m\u001b[0mself\u001b[0m\u001b[1;33m,\u001b[0m \u001b[0mX\u001b[0m\u001b[1;33m)\u001b[0m\u001b[1;33m:\u001b[0m\u001b[1;33m\u001b[0m\u001b[1;33m\u001b[0m\u001b[0m\n",
      "\u001b[1;32mD:\\AnacondaInstallationFiles\\lib\\site-packages\\sklearn\\ensemble\\_voting.py\u001b[0m in \u001b[0;36m<listcomp>\u001b[1;34m(.0)\u001b[0m\n\u001b[0;32m    322\u001b[0m     \u001b[1;32mdef\u001b[0m \u001b[0m_collect_probas\u001b[0m\u001b[1;33m(\u001b[0m\u001b[0mself\u001b[0m\u001b[1;33m,\u001b[0m \u001b[0mX\u001b[0m\u001b[1;33m)\u001b[0m\u001b[1;33m:\u001b[0m\u001b[1;33m\u001b[0m\u001b[1;33m\u001b[0m\u001b[0m\n\u001b[0;32m    323\u001b[0m         \u001b[1;34m\"\"\"Collect results from clf.predict calls.\"\"\"\u001b[0m\u001b[1;33m\u001b[0m\u001b[1;33m\u001b[0m\u001b[0m\n\u001b[1;32m--> 324\u001b[1;33m         \u001b[1;32mreturn\u001b[0m \u001b[0mnp\u001b[0m\u001b[1;33m.\u001b[0m\u001b[0masarray\u001b[0m\u001b[1;33m(\u001b[0m\u001b[1;33m[\u001b[0m\u001b[0mclf\u001b[0m\u001b[1;33m.\u001b[0m\u001b[0mpredict_proba\u001b[0m\u001b[1;33m(\u001b[0m\u001b[0mX\u001b[0m\u001b[1;33m)\u001b[0m \u001b[1;32mfor\u001b[0m \u001b[0mclf\u001b[0m \u001b[1;32min\u001b[0m \u001b[0mself\u001b[0m\u001b[1;33m.\u001b[0m\u001b[0mestimators_\u001b[0m\u001b[1;33m]\u001b[0m\u001b[1;33m)\u001b[0m\u001b[1;33m\u001b[0m\u001b[1;33m\u001b[0m\u001b[0m\n\u001b[0m\u001b[0;32m    325\u001b[0m \u001b[1;33m\u001b[0m\u001b[0m\n\u001b[0;32m    326\u001b[0m     \u001b[1;32mdef\u001b[0m \u001b[0m_predict_proba\u001b[0m\u001b[1;33m(\u001b[0m\u001b[0mself\u001b[0m\u001b[1;33m,\u001b[0m \u001b[0mX\u001b[0m\u001b[1;33m)\u001b[0m\u001b[1;33m:\u001b[0m\u001b[1;33m\u001b[0m\u001b[1;33m\u001b[0m\u001b[0m\n",
      "\u001b[1;31mAttributeError\u001b[0m: 'Perceptron' object has no attribute 'predict_proba'"
     ]
    }
   ],
   "source": [
    "train_pred_vc2 = vc2.predict(train_x_sc)\n",
    "test_pred_vc2 = vc2.predict(test_x)\n",
    "# error occurred here because Perceptron doesnot considers the probability values,\n",
    "# so to use Soft voting, either remove Perceptron or forget about Soft voting"
   ]
  },
  {
   "cell_type": "markdown",
   "id": "78fe8eb4",
   "metadata": {},
   "source": [
    "# Bagging Classifier"
   ]
  },
  {
   "cell_type": "code",
   "execution_count": 63,
   "id": "c73a87ac",
   "metadata": {},
   "outputs": [],
   "source": [
    "from sklearn.ensemble import BaggingClassifier"
   ]
  },
  {
   "cell_type": "markdown",
   "id": "b3763fbf",
   "metadata": {},
   "source": [
    "### Perceptron Bagging"
   ]
  },
  {
   "cell_type": "code",
   "execution_count": 65,
   "id": "7ba8200c",
   "metadata": {},
   "outputs": [],
   "source": [
    "bag_p=BaggingClassifier(base_estimator=p, n_estimators=20)\n",
    "# Perceptron Bagging\n",
    "# n_estimators = 20 means we are using 20 Peceptrons\n"
   ]
  },
  {
   "cell_type": "markdown",
   "id": "e5a085b0",
   "metadata": {},
   "source": [
    "If we use Decision Tree as base_estimator then Bagging Classifier will give same result as \n",
    "Random Forest Classifier."
   ]
  },
  {
   "cell_type": "code",
   "execution_count": 80,
   "id": "e0cff9e0",
   "metadata": {},
   "outputs": [
    {
     "data": {
      "text/plain": [
       "BaggingClassifier(base_estimator=Perceptron(), n_estimators=20)"
      ]
     },
     "execution_count": 80,
     "metadata": {},
     "output_type": "execute_result"
    }
   ],
   "source": [
    "bag_p.fit(train_x_sc, train_y)"
   ]
  },
  {
   "cell_type": "code",
   "execution_count": 81,
   "id": "6aaf75ea",
   "metadata": {},
   "outputs": [],
   "source": [
    "train_pred_bag_p = bag_p.predict(train_x_sc)\n",
    "test_pred_bag_p = bag_p.predict(test_x)"
   ]
  },
  {
   "cell_type": "code",
   "execution_count": 82,
   "id": "4fb8122b",
   "metadata": {},
   "outputs": [
    {
     "name": "stdout",
     "output_type": "stream",
     "text": [
      "Training Accuracy:  0.8221744471744472\n",
      "Testing Accuracy:  0.7847271982802744\n"
     ]
    }
   ],
   "source": [
    "print(\"Training Accuracy: \", accuracy_score(train_pred_bag_p, train_y))\n",
    "print(\"Testing Accuracy: \", accuracy_score(test_pred_bag_p, test_y))"
   ]
  },
  {
   "cell_type": "markdown",
   "id": "7784753a",
   "metadata": {},
   "source": [
    "### Logistic Regression Bagging"
   ]
  },
  {
   "cell_type": "code",
   "execution_count": 87,
   "id": "ed20fed6",
   "metadata": {},
   "outputs": [],
   "source": [
    "bag_lr=BaggingClassifier(base_estimator=lr, n_estimators=20)"
   ]
  },
  {
   "cell_type": "code",
   "execution_count": 88,
   "id": "ca0e8e26",
   "metadata": {},
   "outputs": [
    {
     "data": {
      "text/plain": [
       "BaggingClassifier(base_estimator=LogisticRegression(), n_estimators=20)"
      ]
     },
     "execution_count": 88,
     "metadata": {},
     "output_type": "execute_result"
    }
   ],
   "source": [
    "bag_lr.fit(train_x_sc, train_y)"
   ]
  },
  {
   "cell_type": "code",
   "execution_count": 89,
   "id": "54f4126c",
   "metadata": {},
   "outputs": [],
   "source": [
    "train_pred_bag_lr = bag_lr.predict(train_x_sc)\n",
    "test_pred_bag_lr = bag_lr.predict(test_x)"
   ]
  },
  {
   "cell_type": "code",
   "execution_count": 90,
   "id": "22425bab",
   "metadata": {},
   "outputs": [
    {
     "name": "stdout",
     "output_type": "stream",
     "text": [
      "Training Accuracy:  0.8242365742365743\n",
      "Testing Accuracy:  0.2438325314771215\n"
     ]
    }
   ],
   "source": [
    "print(\"Training Accuracy: \", accuracy_score(train_pred_bag_lr, train_y))\n",
    "print(\"Testing Accuracy: \", accuracy_score(test_pred_bag_lr, test_y))"
   ]
  },
  {
   "cell_type": "markdown",
   "id": "9606dd86",
   "metadata": {},
   "source": [
    "### Support Vector Machine Bagging"
   ]
  },
  {
   "cell_type": "code",
   "execution_count": 91,
   "id": "e03fb4a7",
   "metadata": {},
   "outputs": [],
   "source": [
    "bag_svm = BaggingClassifier(base_estimator=svc, n_estimators=20)"
   ]
  },
  {
   "cell_type": "code",
   "execution_count": 92,
   "id": "bac39f42",
   "metadata": {},
   "outputs": [
    {
     "data": {
      "text/plain": [
       "BaggingClassifier(base_estimator=SVC(), n_estimators=20)"
      ]
     },
     "execution_count": 92,
     "metadata": {},
     "output_type": "execute_result"
    }
   ],
   "source": [
    "bag_svm.fit(train_x_sc,train_y)"
   ]
  },
  {
   "cell_type": "code",
   "execution_count": 93,
   "id": "90060dab",
   "metadata": {},
   "outputs": [],
   "source": [
    "train_pred_bag_svm = bag_svm.predict(train_x_sc)\n",
    "test_pred_bag_svm = bag_svm.predict(test_x)"
   ]
  },
  {
   "cell_type": "code",
   "execution_count": 96,
   "id": "4b7b914d",
   "metadata": {},
   "outputs": [
    {
     "name": "stdout",
     "output_type": "stream",
     "text": [
      "Training Accuracy:  0.8575816075816076\n",
      "Testing Accuracy:  0.7561674685228785\n"
     ]
    }
   ],
   "source": [
    "print(\"Training Accuracy: \", accuracy_score(train_pred_bag_svm, train_y))\n",
    "print(\"Testing Accuracy: \", accuracy_score(test_pred_bag_svm, test_y))"
   ]
  },
  {
   "cell_type": "markdown",
   "id": "db630856",
   "metadata": {},
   "source": [
    "### Adaboost 'Boosting' Classifier"
   ]
  },
  {
   "cell_type": "code",
   "execution_count": 97,
   "id": "78096aa4",
   "metadata": {},
   "outputs": [],
   "source": [
    "from sklearn.ensemble import AdaBoostClassifier"
   ]
  },
  {
   "cell_type": "code",
   "execution_count": 98,
   "id": "eb872c48",
   "metadata": {},
   "outputs": [],
   "source": [
    "ada_lr=AdaBoostClassifier(base_estimator=lr, n_estimators=20)"
   ]
  },
  {
   "cell_type": "code",
   "execution_count": 99,
   "id": "3e6aef8c",
   "metadata": {},
   "outputs": [
    {
     "data": {
      "text/plain": [
       "AdaBoostClassifier(base_estimator=LogisticRegression(), n_estimators=20)"
      ]
     },
     "execution_count": 99,
     "metadata": {},
     "output_type": "execute_result"
    }
   ],
   "source": [
    "ada_lr.fit(train_x_sc, train_y)"
   ]
  },
  {
   "cell_type": "code",
   "execution_count": 100,
   "id": "f17dbf9c",
   "metadata": {},
   "outputs": [],
   "source": [
    "train_pred_ada_lr=ada_lr.predict(train_x_sc)\n",
    "test_pred_ada_lr=ada_lr.predict(test_x)"
   ]
  },
  {
   "cell_type": "code",
   "execution_count": 101,
   "id": "411cdad1",
   "metadata": {},
   "outputs": [
    {
     "name": "stdout",
     "output_type": "stream",
     "text": [
      "Training Accuracy:  0.8152860652860653\n",
      "Testing Accuracy:  0.2438325314771215\n"
     ]
    }
   ],
   "source": [
    "print(\"Training Accuracy: \", accuracy_score(train_pred_ada_lr, train_y))\n",
    "print(\"Testing Accuracy: \", accuracy_score(test_pred_ada_lr, test_y))"
   ]
  },
  {
   "cell_type": "code",
   "execution_count": 102,
   "id": "03af259d",
   "metadata": {},
   "outputs": [],
   "source": [
    "ada_svm=AdaBoostClassifier(base_estimator=svc, n_estimators=20)"
   ]
  },
  {
   "cell_type": "code",
   "execution_count": 103,
   "id": "44a324e5",
   "metadata": {},
   "outputs": [
    {
     "ename": "TypeError",
     "evalue": "AdaBoostClassifier with algorithm='SAMME.R' requires that the weak learner supports the calculation of class probabilities with a predict_proba method.\nPlease change the base estimator or set algorithm='SAMME' instead.",
     "output_type": "error",
     "traceback": [
      "\u001b[1;31m---------------------------------------------------------------------------\u001b[0m",
      "\u001b[1;31mTypeError\u001b[0m                                 Traceback (most recent call last)",
      "\u001b[1;32m~\\AppData\\Local\\Temp/ipykernel_16592/485560652.py\u001b[0m in \u001b[0;36m<module>\u001b[1;34m\u001b[0m\n\u001b[1;32m----> 1\u001b[1;33m \u001b[0mada_svm\u001b[0m\u001b[1;33m.\u001b[0m\u001b[0mfit\u001b[0m\u001b[1;33m(\u001b[0m\u001b[0mtrain_x_sc\u001b[0m\u001b[1;33m,\u001b[0m \u001b[0mtrain_y\u001b[0m\u001b[1;33m)\u001b[0m\u001b[1;33m\u001b[0m\u001b[1;33m\u001b[0m\u001b[0m\n\u001b[0m",
      "\u001b[1;32mD:\\AnacondaInstallationFiles\\lib\\site-packages\\sklearn\\ensemble\\_weight_boosting.py\u001b[0m in \u001b[0;36mfit\u001b[1;34m(self, X, y, sample_weight)\u001b[0m\n\u001b[0;32m    441\u001b[0m \u001b[1;33m\u001b[0m\u001b[0m\n\u001b[0;32m    442\u001b[0m         \u001b[1;31m# Fit\u001b[0m\u001b[1;33m\u001b[0m\u001b[1;33m\u001b[0m\u001b[0m\n\u001b[1;32m--> 443\u001b[1;33m         \u001b[1;32mreturn\u001b[0m \u001b[0msuper\u001b[0m\u001b[1;33m(\u001b[0m\u001b[1;33m)\u001b[0m\u001b[1;33m.\u001b[0m\u001b[0mfit\u001b[0m\u001b[1;33m(\u001b[0m\u001b[0mX\u001b[0m\u001b[1;33m,\u001b[0m \u001b[0my\u001b[0m\u001b[1;33m,\u001b[0m \u001b[0msample_weight\u001b[0m\u001b[1;33m)\u001b[0m\u001b[1;33m\u001b[0m\u001b[1;33m\u001b[0m\u001b[0m\n\u001b[0m\u001b[0;32m    444\u001b[0m \u001b[1;33m\u001b[0m\u001b[0m\n\u001b[0;32m    445\u001b[0m     \u001b[1;32mdef\u001b[0m \u001b[0m_validate_estimator\u001b[0m\u001b[1;33m(\u001b[0m\u001b[0mself\u001b[0m\u001b[1;33m)\u001b[0m\u001b[1;33m:\u001b[0m\u001b[1;33m\u001b[0m\u001b[1;33m\u001b[0m\u001b[0m\n",
      "\u001b[1;32mD:\\AnacondaInstallationFiles\\lib\\site-packages\\sklearn\\ensemble\\_weight_boosting.py\u001b[0m in \u001b[0;36mfit\u001b[1;34m(self, X, y, sample_weight)\u001b[0m\n\u001b[0;32m    115\u001b[0m \u001b[1;33m\u001b[0m\u001b[0m\n\u001b[0;32m    116\u001b[0m         \u001b[1;31m# Check parameters\u001b[0m\u001b[1;33m\u001b[0m\u001b[1;33m\u001b[0m\u001b[0m\n\u001b[1;32m--> 117\u001b[1;33m         \u001b[0mself\u001b[0m\u001b[1;33m.\u001b[0m\u001b[0m_validate_estimator\u001b[0m\u001b[1;33m(\u001b[0m\u001b[1;33m)\u001b[0m\u001b[1;33m\u001b[0m\u001b[1;33m\u001b[0m\u001b[0m\n\u001b[0m\u001b[0;32m    118\u001b[0m \u001b[1;33m\u001b[0m\u001b[0m\n\u001b[0;32m    119\u001b[0m         \u001b[1;31m# Clear any previous fit results\u001b[0m\u001b[1;33m\u001b[0m\u001b[1;33m\u001b[0m\u001b[0m\n",
      "\u001b[1;32mD:\\AnacondaInstallationFiles\\lib\\site-packages\\sklearn\\ensemble\\_weight_boosting.py\u001b[0m in \u001b[0;36m_validate_estimator\u001b[1;34m(self)\u001b[0m\n\u001b[0;32m    451\u001b[0m         \u001b[1;32mif\u001b[0m \u001b[0mself\u001b[0m\u001b[1;33m.\u001b[0m\u001b[0malgorithm\u001b[0m \u001b[1;33m==\u001b[0m \u001b[1;34m'SAMME.R'\u001b[0m\u001b[1;33m:\u001b[0m\u001b[1;33m\u001b[0m\u001b[1;33m\u001b[0m\u001b[0m\n\u001b[0;32m    452\u001b[0m             \u001b[1;32mif\u001b[0m \u001b[1;32mnot\u001b[0m \u001b[0mhasattr\u001b[0m\u001b[1;33m(\u001b[0m\u001b[0mself\u001b[0m\u001b[1;33m.\u001b[0m\u001b[0mbase_estimator_\u001b[0m\u001b[1;33m,\u001b[0m \u001b[1;34m'predict_proba'\u001b[0m\u001b[1;33m)\u001b[0m\u001b[1;33m:\u001b[0m\u001b[1;33m\u001b[0m\u001b[1;33m\u001b[0m\u001b[0m\n\u001b[1;32m--> 453\u001b[1;33m                 raise TypeError(\n\u001b[0m\u001b[0;32m    454\u001b[0m                     \u001b[1;34m\"AdaBoostClassifier with algorithm='SAMME.R' requires \"\u001b[0m\u001b[1;33m\u001b[0m\u001b[1;33m\u001b[0m\u001b[0m\n\u001b[0;32m    455\u001b[0m                     \u001b[1;34m\"that the weak learner supports the calculation of class \"\u001b[0m\u001b[1;33m\u001b[0m\u001b[1;33m\u001b[0m\u001b[0m\n",
      "\u001b[1;31mTypeError\u001b[0m: AdaBoostClassifier with algorithm='SAMME.R' requires that the weak learner supports the calculation of class probabilities with a predict_proba method.\nPlease change the base estimator or set algorithm='SAMME' instead."
     ]
    }
   ],
   "source": [
    "ada_svm.fit(train_x_sc, train_y)"
   ]
  },
  {
   "cell_type": "code",
   "execution_count": null,
   "id": "6c87ee2d",
   "metadata": {},
   "outputs": [],
   "source": [
    "train_pred_ada_svm=ada_svm.predict(train_x_sc)\n",
    "test_pred_ada_svm=ada_svm.predict(test_x)"
   ]
  },
  {
   "cell_type": "code",
   "execution_count": null,
   "id": "4bb1176c",
   "metadata": {},
   "outputs": [],
   "source": [
    "print(\"Training Accuracy: \", accuracy_score(train_pred_ada_svm, train_y))\n",
    "print(\"Testing Accuracy: \", accuracy_score(test_pred_ada_svm, test_y))"
   ]
  }
 ],
 "metadata": {
  "kernelspec": {
   "display_name": "Python 3 (ipykernel)",
   "language": "python",
   "name": "python3"
  },
  "language_info": {
   "codemirror_mode": {
    "name": "ipython",
    "version": 3
   },
   "file_extension": ".py",
   "mimetype": "text/x-python",
   "name": "python",
   "nbconvert_exporter": "python",
   "pygments_lexer": "ipython3",
   "version": "3.10.3"
  }
 },
 "nbformat": 4,
 "nbformat_minor": 5
}
