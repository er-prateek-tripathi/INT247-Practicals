{
 "cells": [
  {
   "cell_type": "code",
   "execution_count": 2,
   "id": "a356a496",
   "metadata": {},
   "outputs": [],
   "source": [
    "url='https://archive.ics.uci.edu/ml/machine-learning-databases/adult/adult.data'"
   ]
  },
  {
   "cell_type": "code",
   "execution_count": 3,
   "id": "65cfc57e",
   "metadata": {},
   "outputs": [],
   "source": [
    "import pandas as pd"
   ]
  },
  {
   "cell_type": "code",
   "execution_count": 4,
   "id": "7deb1d90",
   "metadata": {},
   "outputs": [],
   "source": [
    "df=pd.read_csv(url, header=None, na_values=' ?')"
   ]
  },
  {
   "cell_type": "code",
   "execution_count": 5,
   "id": "db894a18",
   "metadata": {},
   "outputs": [
    {
     "data": {
      "text/html": [
       "<div>\n",
       "<style scoped>\n",
       "    .dataframe tbody tr th:only-of-type {\n",
       "        vertical-align: middle;\n",
       "    }\n",
       "\n",
       "    .dataframe tbody tr th {\n",
       "        vertical-align: top;\n",
       "    }\n",
       "\n",
       "    .dataframe thead th {\n",
       "        text-align: right;\n",
       "    }\n",
       "</style>\n",
       "<table border=\"1\" class=\"dataframe\">\n",
       "  <thead>\n",
       "    <tr style=\"text-align: right;\">\n",
       "      <th></th>\n",
       "      <th>0</th>\n",
       "      <th>1</th>\n",
       "      <th>2</th>\n",
       "      <th>3</th>\n",
       "      <th>4</th>\n",
       "      <th>5</th>\n",
       "      <th>6</th>\n",
       "      <th>7</th>\n",
       "      <th>8</th>\n",
       "      <th>9</th>\n",
       "      <th>10</th>\n",
       "      <th>11</th>\n",
       "      <th>12</th>\n",
       "      <th>13</th>\n",
       "      <th>14</th>\n",
       "    </tr>\n",
       "  </thead>\n",
       "  <tbody>\n",
       "    <tr>\n",
       "      <th>0</th>\n",
       "      <td>39</td>\n",
       "      <td>State-gov</td>\n",
       "      <td>77516</td>\n",
       "      <td>Bachelors</td>\n",
       "      <td>13</td>\n",
       "      <td>Never-married</td>\n",
       "      <td>Adm-clerical</td>\n",
       "      <td>Not-in-family</td>\n",
       "      <td>White</td>\n",
       "      <td>Male</td>\n",
       "      <td>2174</td>\n",
       "      <td>0</td>\n",
       "      <td>40</td>\n",
       "      <td>United-States</td>\n",
       "      <td>&lt;=50K</td>\n",
       "    </tr>\n",
       "    <tr>\n",
       "      <th>1</th>\n",
       "      <td>50</td>\n",
       "      <td>Self-emp-not-inc</td>\n",
       "      <td>83311</td>\n",
       "      <td>Bachelors</td>\n",
       "      <td>13</td>\n",
       "      <td>Married-civ-spouse</td>\n",
       "      <td>Exec-managerial</td>\n",
       "      <td>Husband</td>\n",
       "      <td>White</td>\n",
       "      <td>Male</td>\n",
       "      <td>0</td>\n",
       "      <td>0</td>\n",
       "      <td>13</td>\n",
       "      <td>United-States</td>\n",
       "      <td>&lt;=50K</td>\n",
       "    </tr>\n",
       "    <tr>\n",
       "      <th>2</th>\n",
       "      <td>38</td>\n",
       "      <td>Private</td>\n",
       "      <td>215646</td>\n",
       "      <td>HS-grad</td>\n",
       "      <td>9</td>\n",
       "      <td>Divorced</td>\n",
       "      <td>Handlers-cleaners</td>\n",
       "      <td>Not-in-family</td>\n",
       "      <td>White</td>\n",
       "      <td>Male</td>\n",
       "      <td>0</td>\n",
       "      <td>0</td>\n",
       "      <td>40</td>\n",
       "      <td>United-States</td>\n",
       "      <td>&lt;=50K</td>\n",
       "    </tr>\n",
       "    <tr>\n",
       "      <th>3</th>\n",
       "      <td>53</td>\n",
       "      <td>Private</td>\n",
       "      <td>234721</td>\n",
       "      <td>11th</td>\n",
       "      <td>7</td>\n",
       "      <td>Married-civ-spouse</td>\n",
       "      <td>Handlers-cleaners</td>\n",
       "      <td>Husband</td>\n",
       "      <td>Black</td>\n",
       "      <td>Male</td>\n",
       "      <td>0</td>\n",
       "      <td>0</td>\n",
       "      <td>40</td>\n",
       "      <td>United-States</td>\n",
       "      <td>&lt;=50K</td>\n",
       "    </tr>\n",
       "    <tr>\n",
       "      <th>4</th>\n",
       "      <td>28</td>\n",
       "      <td>Private</td>\n",
       "      <td>338409</td>\n",
       "      <td>Bachelors</td>\n",
       "      <td>13</td>\n",
       "      <td>Married-civ-spouse</td>\n",
       "      <td>Prof-specialty</td>\n",
       "      <td>Wife</td>\n",
       "      <td>Black</td>\n",
       "      <td>Female</td>\n",
       "      <td>0</td>\n",
       "      <td>0</td>\n",
       "      <td>40</td>\n",
       "      <td>Cuba</td>\n",
       "      <td>&lt;=50K</td>\n",
       "    </tr>\n",
       "  </tbody>\n",
       "</table>\n",
       "</div>"
      ],
      "text/plain": [
       "   0                  1       2           3   4                    5   \\\n",
       "0  39          State-gov   77516   Bachelors  13        Never-married   \n",
       "1  50   Self-emp-not-inc   83311   Bachelors  13   Married-civ-spouse   \n",
       "2  38            Private  215646     HS-grad   9             Divorced   \n",
       "3  53            Private  234721        11th   7   Married-civ-spouse   \n",
       "4  28            Private  338409   Bachelors  13   Married-civ-spouse   \n",
       "\n",
       "                   6               7       8        9     10  11  12  \\\n",
       "0        Adm-clerical   Not-in-family   White     Male  2174   0  40   \n",
       "1     Exec-managerial         Husband   White     Male     0   0  13   \n",
       "2   Handlers-cleaners   Not-in-family   White     Male     0   0  40   \n",
       "3   Handlers-cleaners         Husband   Black     Male     0   0  40   \n",
       "4      Prof-specialty            Wife   Black   Female     0   0  40   \n",
       "\n",
       "               13      14  \n",
       "0   United-States   <=50K  \n",
       "1   United-States   <=50K  \n",
       "2   United-States   <=50K  \n",
       "3   United-States   <=50K  \n",
       "4            Cuba   <=50K  "
      ]
     },
     "execution_count": 5,
     "metadata": {},
     "output_type": "execute_result"
    }
   ],
   "source": [
    "df.head()"
   ]
  },
  {
   "cell_type": "code",
   "execution_count": 6,
   "id": "1b888968",
   "metadata": {},
   "outputs": [
    {
     "data": {
      "text/plain": [
       "0        0\n",
       "1     1836\n",
       "2        0\n",
       "3        0\n",
       "4        0\n",
       "5        0\n",
       "6     1843\n",
       "7        0\n",
       "8        0\n",
       "9        0\n",
       "10       0\n",
       "11       0\n",
       "12       0\n",
       "13     583\n",
       "14       0\n",
       "dtype: int64"
      ]
     },
     "execution_count": 6,
     "metadata": {},
     "output_type": "execute_result"
    }
   ],
   "source": [
    "df.isnull().sum()\n"
   ]
  },
  {
   "cell_type": "code",
   "execution_count": 7,
   "id": "6876158f",
   "metadata": {},
   "outputs": [],
   "source": [
    "from sklearn.impute import SimpleImputer"
   ]
  },
  {
   "cell_type": "code",
   "execution_count": 8,
   "id": "3606cd08",
   "metadata": {},
   "outputs": [],
   "source": [
    "si=SimpleImputer(strategy='most_frequent')"
   ]
  },
  {
   "cell_type": "code",
   "execution_count": 9,
   "id": "d93436a6",
   "metadata": {},
   "outputs": [],
   "source": [
    "df=si.fit_transform(df)"
   ]
  },
  {
   "cell_type": "code",
   "execution_count": 10,
   "id": "d34ea797",
   "metadata": {},
   "outputs": [
    {
     "data": {
      "text/plain": [
       "0     0\n",
       "1     0\n",
       "2     0\n",
       "3     0\n",
       "4     0\n",
       "5     0\n",
       "6     0\n",
       "7     0\n",
       "8     0\n",
       "9     0\n",
       "10    0\n",
       "11    0\n",
       "12    0\n",
       "13    0\n",
       "14    0\n",
       "dtype: int64"
      ]
     },
     "execution_count": 10,
     "metadata": {},
     "output_type": "execute_result"
    }
   ],
   "source": [
    "pd.DataFrame(df).isnull().sum()"
   ]
  },
  {
   "cell_type": "code",
   "execution_count": 11,
   "id": "a8df5b9c",
   "metadata": {},
   "outputs": [],
   "source": [
    "cols=[1,3, 5,6,7,8,9,13, 14]"
   ]
  },
  {
   "cell_type": "code",
   "execution_count": 12,
   "id": "d81dafc5",
   "metadata": {},
   "outputs": [],
   "source": [
    "from sklearn.preprocessing import LabelEncoder"
   ]
  },
  {
   "cell_type": "code",
   "execution_count": 13,
   "id": "adefb0f9",
   "metadata": {},
   "outputs": [],
   "source": [
    "le=LabelEncoder()"
   ]
  },
  {
   "cell_type": "code",
   "execution_count": 14,
   "id": "37854e24",
   "metadata": {},
   "outputs": [],
   "source": [
    "df=pd.DataFrame(df)"
   ]
  },
  {
   "cell_type": "code",
   "execution_count": 15,
   "id": "7c3e43a9",
   "metadata": {},
   "outputs": [],
   "source": [
    "for i in cols:\n",
    "  df[i]=le.fit_transform(df[i])"
   ]
  },
  {
   "cell_type": "code",
   "execution_count": 16,
   "id": "1dcd561d",
   "metadata": {},
   "outputs": [
    {
     "data": {
      "text/html": [
       "<div>\n",
       "<style scoped>\n",
       "    .dataframe tbody tr th:only-of-type {\n",
       "        vertical-align: middle;\n",
       "    }\n",
       "\n",
       "    .dataframe tbody tr th {\n",
       "        vertical-align: top;\n",
       "    }\n",
       "\n",
       "    .dataframe thead th {\n",
       "        text-align: right;\n",
       "    }\n",
       "</style>\n",
       "<table border=\"1\" class=\"dataframe\">\n",
       "  <thead>\n",
       "    <tr style=\"text-align: right;\">\n",
       "      <th></th>\n",
       "      <th>0</th>\n",
       "      <th>1</th>\n",
       "      <th>2</th>\n",
       "      <th>3</th>\n",
       "      <th>4</th>\n",
       "      <th>5</th>\n",
       "      <th>6</th>\n",
       "      <th>7</th>\n",
       "      <th>8</th>\n",
       "      <th>9</th>\n",
       "      <th>10</th>\n",
       "      <th>11</th>\n",
       "      <th>12</th>\n",
       "      <th>13</th>\n",
       "      <th>14</th>\n",
       "    </tr>\n",
       "  </thead>\n",
       "  <tbody>\n",
       "    <tr>\n",
       "      <th>0</th>\n",
       "      <td>39</td>\n",
       "      <td>6</td>\n",
       "      <td>77516</td>\n",
       "      <td>9</td>\n",
       "      <td>13</td>\n",
       "      <td>4</td>\n",
       "      <td>0</td>\n",
       "      <td>1</td>\n",
       "      <td>4</td>\n",
       "      <td>1</td>\n",
       "      <td>2174</td>\n",
       "      <td>0</td>\n",
       "      <td>40</td>\n",
       "      <td>38</td>\n",
       "      <td>0</td>\n",
       "    </tr>\n",
       "    <tr>\n",
       "      <th>1</th>\n",
       "      <td>50</td>\n",
       "      <td>5</td>\n",
       "      <td>83311</td>\n",
       "      <td>9</td>\n",
       "      <td>13</td>\n",
       "      <td>2</td>\n",
       "      <td>3</td>\n",
       "      <td>0</td>\n",
       "      <td>4</td>\n",
       "      <td>1</td>\n",
       "      <td>0</td>\n",
       "      <td>0</td>\n",
       "      <td>13</td>\n",
       "      <td>38</td>\n",
       "      <td>0</td>\n",
       "    </tr>\n",
       "    <tr>\n",
       "      <th>2</th>\n",
       "      <td>38</td>\n",
       "      <td>3</td>\n",
       "      <td>215646</td>\n",
       "      <td>11</td>\n",
       "      <td>9</td>\n",
       "      <td>0</td>\n",
       "      <td>5</td>\n",
       "      <td>1</td>\n",
       "      <td>4</td>\n",
       "      <td>1</td>\n",
       "      <td>0</td>\n",
       "      <td>0</td>\n",
       "      <td>40</td>\n",
       "      <td>38</td>\n",
       "      <td>0</td>\n",
       "    </tr>\n",
       "    <tr>\n",
       "      <th>3</th>\n",
       "      <td>53</td>\n",
       "      <td>3</td>\n",
       "      <td>234721</td>\n",
       "      <td>1</td>\n",
       "      <td>7</td>\n",
       "      <td>2</td>\n",
       "      <td>5</td>\n",
       "      <td>0</td>\n",
       "      <td>2</td>\n",
       "      <td>1</td>\n",
       "      <td>0</td>\n",
       "      <td>0</td>\n",
       "      <td>40</td>\n",
       "      <td>38</td>\n",
       "      <td>0</td>\n",
       "    </tr>\n",
       "    <tr>\n",
       "      <th>4</th>\n",
       "      <td>28</td>\n",
       "      <td>3</td>\n",
       "      <td>338409</td>\n",
       "      <td>9</td>\n",
       "      <td>13</td>\n",
       "      <td>2</td>\n",
       "      <td>9</td>\n",
       "      <td>5</td>\n",
       "      <td>2</td>\n",
       "      <td>0</td>\n",
       "      <td>0</td>\n",
       "      <td>0</td>\n",
       "      <td>40</td>\n",
       "      <td>4</td>\n",
       "      <td>0</td>\n",
       "    </tr>\n",
       "  </tbody>\n",
       "</table>\n",
       "</div>"
      ],
      "text/plain": [
       "   0   1       2   3   4   5   6   7   8   9     10 11  12  13  14\n",
       "0  39   6   77516   9  13   4   0   1   4   1  2174  0  40  38   0\n",
       "1  50   5   83311   9  13   2   3   0   4   1     0  0  13  38   0\n",
       "2  38   3  215646  11   9   0   5   1   4   1     0  0  40  38   0\n",
       "3  53   3  234721   1   7   2   5   0   2   1     0  0  40  38   0\n",
       "4  28   3  338409   9  13   2   9   5   2   0     0  0  40   4   0"
      ]
     },
     "execution_count": 16,
     "metadata": {},
     "output_type": "execute_result"
    }
   ],
   "source": [
    "df.head()"
   ]
  },
  {
   "cell_type": "code",
   "execution_count": 17,
   "id": "f352157f",
   "metadata": {},
   "outputs": [],
   "source": [
    "y = df[14]"
   ]
  },
  {
   "cell_type": "code",
   "execution_count": 18,
   "id": "e590a46d",
   "metadata": {},
   "outputs": [
    {
     "data": {
      "text/plain": [
       "(32561,)"
      ]
     },
     "execution_count": 18,
     "metadata": {},
     "output_type": "execute_result"
    }
   ],
   "source": [
    "y.shape"
   ]
  },
  {
   "cell_type": "code",
   "execution_count": 19,
   "id": "78968e4e",
   "metadata": {},
   "outputs": [],
   "source": [
    "x = df.drop(columns = 14)"
   ]
  },
  {
   "cell_type": "code",
   "execution_count": 20,
   "id": "22eba3a7",
   "metadata": {},
   "outputs": [
    {
     "data": {
      "text/plain": [
       "(32561, 14)"
      ]
     },
     "execution_count": 20,
     "metadata": {},
     "output_type": "execute_result"
    }
   ],
   "source": [
    "x.shape"
   ]
  },
  {
   "cell_type": "code",
   "execution_count": 21,
   "id": "62231d34",
   "metadata": {},
   "outputs": [],
   "source": [
    "from sklearn.model_selection import train_test_split"
   ]
  },
  {
   "cell_type": "code",
   "execution_count": 22,
   "id": "cd9ac362",
   "metadata": {},
   "outputs": [],
   "source": [
    "train_x,test_x,train_y,test_y = train_test_split(x,y,test_size = 0.3)"
   ]
  },
  {
   "cell_type": "code",
   "execution_count": 23,
   "id": "d35af481",
   "metadata": {},
   "outputs": [],
   "source": [
    "#giving 70% to train and 30% to test"
   ]
  },
  {
   "cell_type": "code",
   "execution_count": 24,
   "id": "11627c95",
   "metadata": {},
   "outputs": [
    {
     "data": {
      "text/plain": [
       "(22792, 14)"
      ]
     },
     "execution_count": 24,
     "metadata": {},
     "output_type": "execute_result"
    }
   ],
   "source": [
    "train_x.shape"
   ]
  },
  {
   "cell_type": "code",
   "execution_count": 25,
   "id": "0a6f6c3e",
   "metadata": {},
   "outputs": [
    {
     "data": {
      "text/plain": [
       "(9769, 14)"
      ]
     },
     "execution_count": 25,
     "metadata": {},
     "output_type": "execute_result"
    }
   ],
   "source": [
    "test_x.shape"
   ]
  },
  {
   "cell_type": "code",
   "execution_count": 26,
   "id": "e9b633a6",
   "metadata": {},
   "outputs": [
    {
     "data": {
      "text/html": [
       "<div>\n",
       "<style scoped>\n",
       "    .dataframe tbody tr th:only-of-type {\n",
       "        vertical-align: middle;\n",
       "    }\n",
       "\n",
       "    .dataframe tbody tr th {\n",
       "        vertical-align: top;\n",
       "    }\n",
       "\n",
       "    .dataframe thead th {\n",
       "        text-align: right;\n",
       "    }\n",
       "</style>\n",
       "<table border=\"1\" class=\"dataframe\">\n",
       "  <thead>\n",
       "    <tr style=\"text-align: right;\">\n",
       "      <th></th>\n",
       "      <th>1</th>\n",
       "      <th>3</th>\n",
       "      <th>5</th>\n",
       "      <th>6</th>\n",
       "      <th>7</th>\n",
       "      <th>8</th>\n",
       "      <th>9</th>\n",
       "      <th>13</th>\n",
       "    </tr>\n",
       "  </thead>\n",
       "  <tbody>\n",
       "    <tr>\n",
       "      <th>count</th>\n",
       "      <td>22792.000000</td>\n",
       "      <td>22792.000000</td>\n",
       "      <td>22792.000000</td>\n",
       "      <td>22792.000000</td>\n",
       "      <td>22792.00000</td>\n",
       "      <td>22792.000000</td>\n",
       "      <td>22792.000000</td>\n",
       "      <td>22792.000000</td>\n",
       "    </tr>\n",
       "    <tr>\n",
       "      <th>mean</th>\n",
       "      <td>3.100386</td>\n",
       "      <td>10.294270</td>\n",
       "      <td>2.607801</td>\n",
       "      <td>6.135091</td>\n",
       "      <td>1.45301</td>\n",
       "      <td>3.667339</td>\n",
       "      <td>0.667954</td>\n",
       "      <td>36.427782</td>\n",
       "    </tr>\n",
       "    <tr>\n",
       "      <th>std</th>\n",
       "      <td>1.112044</td>\n",
       "      <td>3.871897</td>\n",
       "      <td>1.509846</td>\n",
       "      <td>3.975557</td>\n",
       "      <td>1.60977</td>\n",
       "      <td>0.846723</td>\n",
       "      <td>0.470958</td>\n",
       "      <td>6.045181</td>\n",
       "    </tr>\n",
       "    <tr>\n",
       "      <th>min</th>\n",
       "      <td>0.000000</td>\n",
       "      <td>0.000000</td>\n",
       "      <td>0.000000</td>\n",
       "      <td>0.000000</td>\n",
       "      <td>0.00000</td>\n",
       "      <td>0.000000</td>\n",
       "      <td>0.000000</td>\n",
       "      <td>0.000000</td>\n",
       "    </tr>\n",
       "    <tr>\n",
       "      <th>25%</th>\n",
       "      <td>3.000000</td>\n",
       "      <td>9.000000</td>\n",
       "      <td>2.000000</td>\n",
       "      <td>3.000000</td>\n",
       "      <td>0.00000</td>\n",
       "      <td>4.000000</td>\n",
       "      <td>0.000000</td>\n",
       "      <td>38.000000</td>\n",
       "    </tr>\n",
       "    <tr>\n",
       "      <th>50%</th>\n",
       "      <td>3.000000</td>\n",
       "      <td>11.000000</td>\n",
       "      <td>2.000000</td>\n",
       "      <td>6.000000</td>\n",
       "      <td>1.00000</td>\n",
       "      <td>4.000000</td>\n",
       "      <td>1.000000</td>\n",
       "      <td>38.000000</td>\n",
       "    </tr>\n",
       "    <tr>\n",
       "      <th>75%</th>\n",
       "      <td>3.000000</td>\n",
       "      <td>12.000000</td>\n",
       "      <td>4.000000</td>\n",
       "      <td>9.000000</td>\n",
       "      <td>3.00000</td>\n",
       "      <td>4.000000</td>\n",
       "      <td>1.000000</td>\n",
       "      <td>38.000000</td>\n",
       "    </tr>\n",
       "    <tr>\n",
       "      <th>max</th>\n",
       "      <td>7.000000</td>\n",
       "      <td>15.000000</td>\n",
       "      <td>6.000000</td>\n",
       "      <td>13.000000</td>\n",
       "      <td>5.00000</td>\n",
       "      <td>4.000000</td>\n",
       "      <td>1.000000</td>\n",
       "      <td>40.000000</td>\n",
       "    </tr>\n",
       "  </tbody>\n",
       "</table>\n",
       "</div>"
      ],
      "text/plain": [
       "                 1             3             5             6            7   \\\n",
       "count  22792.000000  22792.000000  22792.000000  22792.000000  22792.00000   \n",
       "mean       3.100386     10.294270      2.607801      6.135091      1.45301   \n",
       "std        1.112044      3.871897      1.509846      3.975557      1.60977   \n",
       "min        0.000000      0.000000      0.000000      0.000000      0.00000   \n",
       "25%        3.000000      9.000000      2.000000      3.000000      0.00000   \n",
       "50%        3.000000     11.000000      2.000000      6.000000      1.00000   \n",
       "75%        3.000000     12.000000      4.000000      9.000000      3.00000   \n",
       "max        7.000000     15.000000      6.000000     13.000000      5.00000   \n",
       "\n",
       "                 8             9             13  \n",
       "count  22792.000000  22792.000000  22792.000000  \n",
       "mean       3.667339      0.667954     36.427782  \n",
       "std        0.846723      0.470958      6.045181  \n",
       "min        0.000000      0.000000      0.000000  \n",
       "25%        4.000000      0.000000     38.000000  \n",
       "50%        4.000000      1.000000     38.000000  \n",
       "75%        4.000000      1.000000     38.000000  \n",
       "max        4.000000      1.000000     40.000000  "
      ]
     },
     "execution_count": 26,
     "metadata": {},
     "output_type": "execute_result"
    }
   ],
   "source": [
    "train_x.describe()"
   ]
  },
  {
   "cell_type": "code",
   "execution_count": 27,
   "id": "d391edc5",
   "metadata": {},
   "outputs": [],
   "source": [
    "from sklearn.preprocessing import StandardScaler"
   ]
  },
  {
   "cell_type": "code",
   "execution_count": 28,
   "id": "8c8db79a",
   "metadata": {},
   "outputs": [],
   "source": [
    "sc = StandardScaler()"
   ]
  },
  {
   "cell_type": "code",
   "execution_count": 29,
   "id": "b829229d",
   "metadata": {},
   "outputs": [],
   "source": [
    "train_x_sc = sc.fit_transform(train_x)"
   ]
  },
  {
   "cell_type": "code",
   "execution_count": 30,
   "id": "f6f60188",
   "metadata": {},
   "outputs": [
    {
     "data": {
      "text/html": [
       "<div>\n",
       "<style scoped>\n",
       "    .dataframe tbody tr th:only-of-type {\n",
       "        vertical-align: middle;\n",
       "    }\n",
       "\n",
       "    .dataframe tbody tr th {\n",
       "        vertical-align: top;\n",
       "    }\n",
       "\n",
       "    .dataframe thead th {\n",
       "        text-align: right;\n",
       "    }\n",
       "</style>\n",
       "<table border=\"1\" class=\"dataframe\">\n",
       "  <thead>\n",
       "    <tr style=\"text-align: right;\">\n",
       "      <th></th>\n",
       "      <th>0</th>\n",
       "      <th>1</th>\n",
       "      <th>2</th>\n",
       "      <th>3</th>\n",
       "      <th>4</th>\n",
       "      <th>5</th>\n",
       "      <th>6</th>\n",
       "      <th>7</th>\n",
       "      <th>8</th>\n",
       "      <th>9</th>\n",
       "      <th>10</th>\n",
       "      <th>11</th>\n",
       "      <th>12</th>\n",
       "      <th>13</th>\n",
       "    </tr>\n",
       "  </thead>\n",
       "  <tbody>\n",
       "    <tr>\n",
       "      <th>count</th>\n",
       "      <td>2.279200e+04</td>\n",
       "      <td>2.279200e+04</td>\n",
       "      <td>2.279200e+04</td>\n",
       "      <td>2.279200e+04</td>\n",
       "      <td>2.279200e+04</td>\n",
       "      <td>2.279200e+04</td>\n",
       "      <td>2.279200e+04</td>\n",
       "      <td>2.279200e+04</td>\n",
       "      <td>2.279200e+04</td>\n",
       "      <td>2.279200e+04</td>\n",
       "      <td>2.279200e+04</td>\n",
       "      <td>2.279200e+04</td>\n",
       "      <td>2.279200e+04</td>\n",
       "      <td>2.279200e+04</td>\n",
       "    </tr>\n",
       "    <tr>\n",
       "      <th>mean</th>\n",
       "      <td>3.219376e-17</td>\n",
       "      <td>-4.631633e-16</td>\n",
       "      <td>7.637898e-18</td>\n",
       "      <td>4.215798e-16</td>\n",
       "      <td>-4.927272e-16</td>\n",
       "      <td>-2.624358e-16</td>\n",
       "      <td>4.834575e-16</td>\n",
       "      <td>-4.050814e-16</td>\n",
       "      <td>-4.538071e-16</td>\n",
       "      <td>-1.598016e-16</td>\n",
       "      <td>-2.456476e-16</td>\n",
       "      <td>-4.660530e-16</td>\n",
       "      <td>-4.930487e-16</td>\n",
       "      <td>7.309780e-16</td>\n",
       "    </tr>\n",
       "    <tr>\n",
       "      <th>std</th>\n",
       "      <td>1.000022e+00</td>\n",
       "      <td>1.000022e+00</td>\n",
       "      <td>1.000022e+00</td>\n",
       "      <td>1.000022e+00</td>\n",
       "      <td>1.000022e+00</td>\n",
       "      <td>1.000022e+00</td>\n",
       "      <td>1.000022e+00</td>\n",
       "      <td>1.000022e+00</td>\n",
       "      <td>1.000022e+00</td>\n",
       "      <td>1.000022e+00</td>\n",
       "      <td>1.000022e+00</td>\n",
       "      <td>1.000022e+00</td>\n",
       "      <td>1.000022e+00</td>\n",
       "      <td>1.000022e+00</td>\n",
       "    </tr>\n",
       "    <tr>\n",
       "      <th>min</th>\n",
       "      <td>-1.584953e+00</td>\n",
       "      <td>-2.788067e+00</td>\n",
       "      <td>-1.661138e+00</td>\n",
       "      <td>-2.658773e+00</td>\n",
       "      <td>-3.537637e+00</td>\n",
       "      <td>-1.727235e+00</td>\n",
       "      <td>-1.543237e+00</td>\n",
       "      <td>-9.026393e-01</td>\n",
       "      <td>-4.331311e+00</td>\n",
       "      <td>-1.418319e+00</td>\n",
       "      <td>-1.459588e-01</td>\n",
       "      <td>-2.198374e-01</td>\n",
       "      <td>-3.195279e+00</td>\n",
       "      <td>-6.026053e+00</td>\n",
       "    </tr>\n",
       "    <tr>\n",
       "      <th>25%</th>\n",
       "      <td>-7.750747e-01</td>\n",
       "      <td>-9.027366e-02</td>\n",
       "      <td>-6.799993e-01</td>\n",
       "      <td>-3.342801e-01</td>\n",
       "      <td>-4.203490e-01</td>\n",
       "      <td>-4.025672e-01</td>\n",
       "      <td>-7.886089e-01</td>\n",
       "      <td>-9.026393e-01</td>\n",
       "      <td>3.928888e-01</td>\n",
       "      <td>-1.418319e+00</td>\n",
       "      <td>-1.459588e-01</td>\n",
       "      <td>-2.198374e-01</td>\n",
       "      <td>-3.602501e-02</td>\n",
       "      <td>2.600837e-01</td>\n",
       "    </tr>\n",
       "    <tr>\n",
       "      <th>50%</th>\n",
       "      <td>-1.124472e-01</td>\n",
       "      <td>-9.027366e-02</td>\n",
       "      <td>-1.065880e-01</td>\n",
       "      <td>1.822738e-01</td>\n",
       "      <td>-3.068803e-02</td>\n",
       "      <td>-4.025672e-01</td>\n",
       "      <td>-3.398120e-02</td>\n",
       "      <td>-2.814189e-01</td>\n",
       "      <td>3.928888e-01</td>\n",
       "      <td>7.050602e-01</td>\n",
       "      <td>-1.459588e-01</td>\n",
       "      <td>-2.198374e-01</td>\n",
       "      <td>-3.602501e-02</td>\n",
       "      <td>2.600837e-01</td>\n",
       "    </tr>\n",
       "    <tr>\n",
       "      <th>75%</th>\n",
       "      <td>6.238056e-01</td>\n",
       "      <td>-9.027366e-02</td>\n",
       "      <td>4.487987e-01</td>\n",
       "      <td>4.405508e-01</td>\n",
       "      <td>7.486340e-01</td>\n",
       "      <td>9.221006e-01</td>\n",
       "      <td>7.206465e-01</td>\n",
       "      <td>9.610218e-01</td>\n",
       "      <td>3.928888e-01</td>\n",
       "      <td>7.050602e-01</td>\n",
       "      <td>-1.459588e-01</td>\n",
       "      <td>-2.198374e-01</td>\n",
       "      <td>3.690075e-01</td>\n",
       "      <td>2.600837e-01</td>\n",
       "    </tr>\n",
       "    <tr>\n",
       "      <th>max</th>\n",
       "      <td>3.789693e+00</td>\n",
       "      <td>3.506784e+00</td>\n",
       "      <td>1.226239e+01</td>\n",
       "      <td>1.215382e+00</td>\n",
       "      <td>2.307278e+00</td>\n",
       "      <td>2.246768e+00</td>\n",
       "      <td>1.726817e+00</td>\n",
       "      <td>2.203463e+00</td>\n",
       "      <td>3.928888e-01</td>\n",
       "      <td>7.050602e-01</td>\n",
       "      <td>1.374471e+01</td>\n",
       "      <td>1.049089e+01</td>\n",
       "      <td>4.743359e+00</td>\n",
       "      <td>5.909330e-01</td>\n",
       "    </tr>\n",
       "  </tbody>\n",
       "</table>\n",
       "</div>"
      ],
      "text/plain": [
       "                 0             1             2             3             4   \\\n",
       "count  2.279200e+04  2.279200e+04  2.279200e+04  2.279200e+04  2.279200e+04   \n",
       "mean   3.219376e-17 -4.631633e-16  7.637898e-18  4.215798e-16 -4.927272e-16   \n",
       "std    1.000022e+00  1.000022e+00  1.000022e+00  1.000022e+00  1.000022e+00   \n",
       "min   -1.584953e+00 -2.788067e+00 -1.661138e+00 -2.658773e+00 -3.537637e+00   \n",
       "25%   -7.750747e-01 -9.027366e-02 -6.799993e-01 -3.342801e-01 -4.203490e-01   \n",
       "50%   -1.124472e-01 -9.027366e-02 -1.065880e-01  1.822738e-01 -3.068803e-02   \n",
       "75%    6.238056e-01 -9.027366e-02  4.487987e-01  4.405508e-01  7.486340e-01   \n",
       "max    3.789693e+00  3.506784e+00  1.226239e+01  1.215382e+00  2.307278e+00   \n",
       "\n",
       "                 5             6             7             8             9   \\\n",
       "count  2.279200e+04  2.279200e+04  2.279200e+04  2.279200e+04  2.279200e+04   \n",
       "mean  -2.624358e-16  4.834575e-16 -4.050814e-16 -4.538071e-16 -1.598016e-16   \n",
       "std    1.000022e+00  1.000022e+00  1.000022e+00  1.000022e+00  1.000022e+00   \n",
       "min   -1.727235e+00 -1.543237e+00 -9.026393e-01 -4.331311e+00 -1.418319e+00   \n",
       "25%   -4.025672e-01 -7.886089e-01 -9.026393e-01  3.928888e-01 -1.418319e+00   \n",
       "50%   -4.025672e-01 -3.398120e-02 -2.814189e-01  3.928888e-01  7.050602e-01   \n",
       "75%    9.221006e-01  7.206465e-01  9.610218e-01  3.928888e-01  7.050602e-01   \n",
       "max    2.246768e+00  1.726817e+00  2.203463e+00  3.928888e-01  7.050602e-01   \n",
       "\n",
       "                 10            11            12            13  \n",
       "count  2.279200e+04  2.279200e+04  2.279200e+04  2.279200e+04  \n",
       "mean  -2.456476e-16 -4.660530e-16 -4.930487e-16  7.309780e-16  \n",
       "std    1.000022e+00  1.000022e+00  1.000022e+00  1.000022e+00  \n",
       "min   -1.459588e-01 -2.198374e-01 -3.195279e+00 -6.026053e+00  \n",
       "25%   -1.459588e-01 -2.198374e-01 -3.602501e-02  2.600837e-01  \n",
       "50%   -1.459588e-01 -2.198374e-01 -3.602501e-02  2.600837e-01  \n",
       "75%   -1.459588e-01 -2.198374e-01  3.690075e-01  2.600837e-01  \n",
       "max    1.374471e+01  1.049089e+01  4.743359e+00  5.909330e-01  "
      ]
     },
     "execution_count": 30,
     "metadata": {},
     "output_type": "execute_result"
    }
   ],
   "source": [
    "pd.DataFrame(train_x_sc).describe()"
   ]
  },
  {
   "cell_type": "code",
   "execution_count": 31,
   "id": "e0fbb0f4",
   "metadata": {},
   "outputs": [],
   "source": [
    "from sklearn.metrics import accuracy_score"
   ]
  },
  {
   "cell_type": "markdown",
   "id": "047fe6cf",
   "metadata": {},
   "source": [
    "# Bayesian Learning\n",
    "### h(map) = P(D|h)P(h)"
   ]
  },
  {
   "cell_type": "code",
   "execution_count": 32,
   "id": "98d01437",
   "metadata": {},
   "outputs": [],
   "source": [
    "from sklearn.naive_bayes import GaussianNB"
   ]
  },
  {
   "cell_type": "code",
   "execution_count": 33,
   "id": "669e5bb1",
   "metadata": {},
   "outputs": [],
   "source": [
    "nbc = GaussianNB()"
   ]
  },
  {
   "cell_type": "code",
   "execution_count": 34,
   "id": "1d279a38",
   "metadata": {},
   "outputs": [
    {
     "data": {
      "text/plain": [
       "GaussianNB()"
      ]
     },
     "execution_count": 34,
     "metadata": {},
     "output_type": "execute_result"
    }
   ],
   "source": [
    "nbc.fit(train_x_sc,train_y)"
   ]
  },
  {
   "cell_type": "code",
   "execution_count": 35,
   "id": "40ba97cb",
   "metadata": {},
   "outputs": [],
   "source": [
    "train_pred_nbc = nbc.predict(train_x_sc)\n",
    "test_pred_nbc = nbc.predict(test_x)"
   ]
  },
  {
   "cell_type": "code",
   "execution_count": 36,
   "id": "b23718a1",
   "metadata": {},
   "outputs": [
    {
     "name": "stdout",
     "output_type": "stream",
     "text": [
      "Training Accuracy :  0.8058968058968059\n",
      "Testing Accuracy :  0.7842153751663425\n"
     ]
    }
   ],
   "source": [
    "print(\"Training Accuracy : \", accuracy_score(train_pred_nbc,train_y))\n",
    "print(\"Testing Accuracy : \",accuracy_score(test_pred_nbc,test_y))"
   ]
  },
  {
   "cell_type": "code",
   "execution_count": 37,
   "id": "48729914",
   "metadata": {},
   "outputs": [],
   "source": [
    "# Highest accuracy without any overfitting"
   ]
  },
  {
   "cell_type": "code",
   "execution_count": null,
   "id": "c0b55bfa",
   "metadata": {},
   "outputs": [],
   "source": []
  }
 ],
 "metadata": {
  "kernelspec": {
   "display_name": "Python 3 (ipykernel)",
   "language": "python",
   "name": "python3"
  },
  "language_info": {
   "codemirror_mode": {
    "name": "ipython",
    "version": 3
   },
   "file_extension": ".py",
   "mimetype": "text/x-python",
   "name": "python",
   "nbconvert_exporter": "python",
   "pygments_lexer": "ipython3",
   "version": "3.10.3"
  }
 },
 "nbformat": 4,
 "nbformat_minor": 5
}
