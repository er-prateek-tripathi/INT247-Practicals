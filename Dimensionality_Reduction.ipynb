{
 "nbformat": 4,
 "nbformat_minor": 0,
 "metadata": {
  "colab": {
   "name": "Dimensionality Reduction.ipynb",
   "provenance": []
  },
  "kernelspec": {
   "name": "python3",
   "display_name": "Python 3"
  },
  "language_info": {
   "name": "python"
  }
 },
 "cells": [
  {
   "cell_type": "code",
   "execution_count": null,
   "metadata": {
    "id": "_xA6sD5rB1Cc"
   },
   "outputs": [],
   "source": [
    "from sklearn.datasets import load_wine"
   ]
  },
  {
   "cell_type": "code",
   "source": [
    "dataset=load_wine()"
   ],
   "metadata": {
    "id": "wrX5spTyB8Fx"
   },
   "execution_count": null,
   "outputs": []
  },
  {
   "cell_type": "code",
   "source": [
    "x=dataset.data"
   ],
   "metadata": {
    "id": "EqJMbbuWCKPa"
   },
   "execution_count": null,
   "outputs": []
  },
  {
   "cell_type": "code",
   "source": [
    "x.shape"
   ],
   "metadata": {
    "colab": {
     "base_uri": "https://localhost:8080/"
    },
    "id": "7a00-7I8CL5p",
    "outputId": "58539b49-cf47-4257-b078-43b9b8cae2f6"
   },
   "execution_count": null,
   "outputs": [
    {
     "output_type": "execute_result",
     "data": {
      "text/plain": [
       "(178, 13)"
      ]
     },
     "metadata": {},
     "execution_count": 4
    }
   ]
  },
  {
   "cell_type": "code",
   "source": [
    "import numpy as np\n",
    "type(x)"
   ],
   "metadata": {
    "colab": {
     "base_uri": "https://localhost:8080/"
    },
    "id": "omFLuYPMCM5L",
    "outputId": "709e1b1d-da02-4c4b-cf5e-67f2a951fff6"
   },
   "execution_count": null,
   "outputs": [
    {
     "output_type": "execute_result",
     "data": {
      "text/plain": [
       "numpy.ndarray"
      ]
     },
     "metadata": {},
     "execution_count": 5
    }
   ]
  },
  {
   "cell_type": "code",
   "source": [
    "import pandas as pd\n",
    "x1=pd.DataFrame(x)"
   ],
   "metadata": {
    "id": "D4XYRZ5NCr6Z"
   },
   "execution_count": null,
   "outputs": []
  },
  {
   "cell_type": "code",
   "source": [
    "x1.isnull().sum()"
   ],
   "metadata": {
    "colab": {
     "base_uri": "https://localhost:8080/"
    },
    "id": "2mW4YUbdCSnG",
    "outputId": "b535188a-9b64-4d76-f5d5-96659eee9f5b"
   },
   "execution_count": null,
   "outputs": [
    {
     "output_type": "execute_result",
     "data": {
      "text/plain": [
       "0     0\n",
       "1     0\n",
       "2     0\n",
       "3     0\n",
       "4     0\n",
       "5     0\n",
       "6     0\n",
       "7     0\n",
       "8     0\n",
       "9     0\n",
       "10    0\n",
       "11    0\n",
       "12    0\n",
       "dtype: int64"
      ]
     },
     "metadata": {},
     "execution_count": 7
    }
   ]
  },
  {
   "cell_type": "code",
   "source": [
    "y=dataset.target"
   ],
   "metadata": {
    "id": "-IdbxcwuCVJ3"
   },
   "execution_count": null,
   "outputs": []
  },
  {
   "cell_type": "code",
   "source": [
    "y.shape"
   ],
   "metadata": {
    "colab": {
     "base_uri": "https://localhost:8080/"
    },
    "id": "P4dQ8iMSC9Fz",
    "outputId": "4881c4f1-a059-4d88-9a74-2b6877445554"
   },
   "execution_count": null,
   "outputs": [
    {
     "output_type": "execute_result",
     "data": {
      "text/plain": [
       "(178,)"
      ]
     },
     "metadata": {},
     "execution_count": 9
    }
   ]
  },
  {
   "cell_type": "code",
   "source": [
    "from sklearn.model_selection import train_test_split\n",
    "x_train, x_test, y_train, y_test=train_test_split(x,y, test_size=0.3)"
   ],
   "metadata": {
    "id": "8P-yQPWQC-1L"
   },
   "execution_count": null,
   "outputs": []
  },
  {
   "cell_type": "code",
   "source": [
    "from sklearn.preprocessing import StandardScaler\n",
    "sc=StandardScaler()\n",
    "x_train_sc=sc.fit_transform(x_train)"
   ],
   "metadata": {
    "id": "Aqx0u0iwDN25"
   },
   "execution_count": null,
   "outputs": []
  },
  {
   "cell_type": "code",
   "source": [
    "np.unique(y)"
   ],
   "metadata": {
    "colab": {
     "base_uri": "https://localhost:8080/"
    },
    "id": "L_5DNrfnDZV2",
    "outputId": "cdda2a07-be0e-4692-e10d-ccc09edcd388"
   },
   "execution_count": null,
   "outputs": [
    {
     "output_type": "execute_result",
     "data": {
      "text/plain": [
       "array([0, 1, 2])"
      ]
     },
     "metadata": {},
     "execution_count": 12
    }
   ]
  },
  {
   "cell_type": "code",
   "source": [
    "from sklearn.linear_model import LogisticRegression"
   ],
   "metadata": {
    "id": "CvoHiIu1Dk4w"
   },
   "execution_count": null,
   "outputs": []
  },
  {
   "cell_type": "code",
   "source": [
    "lr=LogisticRegression()\n",
    "lr.fit(x_train_sc, y_train)"
   ],
   "metadata": {
    "colab": {
     "base_uri": "https://localhost:8080/"
    },
    "id": "y_Uv8CTuDxbd",
    "outputId": "e89256b3-d3df-4e78-9fb0-22845c52a89b"
   },
   "execution_count": null,
   "outputs": [
    {
     "output_type": "execute_result",
     "data": {
      "text/plain": [
       "LogisticRegression()"
      ]
     },
     "metadata": {},
     "execution_count": 14
    }
   ]
  },
  {
   "cell_type": "code",
   "source": [
    "train_pred=lr.predict(x_train)\n",
    "test_pred=lr.predict(x_test)"
   ],
   "metadata": {
    "id": "vfRcXRtNED7C"
   },
   "execution_count": null,
   "outputs": []
  },
  {
   "cell_type": "code",
   "source": [
    "from sklearn.metrics import accuracy_score\n",
    "print(\"Training accuracy: \", accuracy_score(train_pred, y_train))\n",
    "print(\"Testing Accuracy: \", accuracy_score(test_pred, y_test))"
   ],
   "metadata": {
    "colab": {
     "base_uri": "https://localhost:8080/"
    },
    "id": "3R9kPVo0D2kk",
    "outputId": "d985beb3-de6a-4fc3-f5d6-79a889b43f81"
   },
   "execution_count": null,
   "outputs": [
    {
     "output_type": "stream",
     "name": "stdout",
     "text": [
      "Training accuracy:  0.29838709677419356\n",
      "Testing Accuracy:  0.4074074074074074\n"
     ]
    }
   ]
  },
  {
   "cell_type": "code",
   "source": [
    "from sklearn.decomposition import PCA"
   ],
   "metadata": {
    "id": "DXJX0my5EZOA"
   },
   "execution_count": null,
   "outputs": []
  },
  {
   "cell_type": "code",
   "source": [
    "pca=PCA(n_components=3)"
   ],
   "metadata": {
    "id": "4t3eQt_xFGM5"
   },
   "execution_count": null,
   "outputs": []
  },
  {
   "cell_type": "code",
   "source": [
    "x_test_sc=sc.fit_transform(x_test)"
   ],
   "metadata": {
    "id": "qQgPJ2oXHlhH"
   },
   "execution_count": null,
   "outputs": []
  },
  {
   "cell_type": "code",
   "source": [
    "x_train_pca=pca.fit_transform(x_train_sc)"
   ],
   "metadata": {
    "id": "Cc953R4pFodZ"
   },
   "execution_count": null,
   "outputs": []
  },
  {
   "cell_type": "code",
   "source": [
    "x_train_pca.shape"
   ],
   "metadata": {
    "colab": {
     "base_uri": "https://localhost:8080/"
    },
    "id": "5Pm1sQipFzii",
    "outputId": "13219333-9fe8-4c33-9e12-99b354513829"
   },
   "execution_count": null,
   "outputs": [
    {
     "output_type": "execute_result",
     "data": {
      "text/plain": [
       "(124, 3)"
      ]
     },
     "metadata": {},
     "execution_count": 21
    }
   ]
  },
  {
   "cell_type": "code",
   "source": [
    "x_test_pca=pca.fit_transform(x_test)"
   ],
   "metadata": {
    "id": "H5Po7zdjF3Yx"
   },
   "execution_count": null,
   "outputs": []
  },
  {
   "cell_type": "code",
   "source": [
    "x_test_pca.shape"
   ],
   "metadata": {
    "colab": {
     "base_uri": "https://localhost:8080/"
    },
    "id": "ZuiFbp4gGP29",
    "outputId": "2ee177f7-b09a-45ea-d2e4-3cb72e0bd186"
   },
   "execution_count": null,
   "outputs": [
    {
     "output_type": "execute_result",
     "data": {
      "text/plain": [
       "(54, 3)"
      ]
     },
     "metadata": {},
     "execution_count": 23
    }
   ]
  },
  {
   "cell_type": "code",
   "source": [
    "lr1=LogisticRegression()"
   ],
   "metadata": {
    "id": "P1tRaHItGSWb"
   },
   "execution_count": null,
   "outputs": []
  },
  {
   "cell_type": "code",
   "source": [
    "lr1.fit(x_train_pca, y_train)"
   ],
   "metadata": {
    "colab": {
     "base_uri": "https://localhost:8080/"
    },
    "id": "g6pvY1xpG-u_",
    "outputId": "19db2a7a-5e7a-4ff0-aa03-3a2a8ff1e722"
   },
   "execution_count": null,
   "outputs": [
    {
     "output_type": "execute_result",
     "data": {
      "text/plain": [
       "LogisticRegression()"
      ]
     },
     "metadata": {},
     "execution_count": 25
    }
   ]
  },
  {
   "cell_type": "code",
   "source": [
    "train_pca=lr1.predict(x_train_pca)\n",
    "test_pca=lr1.predict(x_test_pca)"
   ],
   "metadata": {
    "id": "90DNBozIHA-I"
   },
   "execution_count": null,
   "outputs": []
  },
  {
   "cell_type": "code",
   "source": [
    "print(\"Training accuracy: \", accuracy_score(train_pca, y_train))\n",
    "print(\"Testing Accuracy: \", accuracy_score(test_pca, y_test))"
   ],
   "metadata": {
    "colab": {
     "base_uri": "https://localhost:8080/"
    },
    "id": "a7n_qlnZHOEN",
    "outputId": "03cdefa1-3ca3-4b1b-f150-55675afba9a1"
   },
   "execution_count": null,
   "outputs": [
    {
     "output_type": "stream",
     "name": "stdout",
     "text": [
      "Training accuracy:  0.9758064516129032\n",
      "Testing Accuracy:  0.5\n"
     ]
    }
   ]
  },
  {
   "cell_type": "code",
   "source": [
    "x.shape"
   ],
   "metadata": {
    "id": "kpA-gi_gHTyN",
    "colab": {
     "base_uri": "https://localhost:8080/"
    },
    "outputId": "3b7cde09-fc7e-41af-d6c7-437bf539caa7"
   },
   "execution_count": null,
   "outputs": [
    {
     "output_type": "execute_result",
     "data": {
      "text/plain": [
       "(178, 13)"
      ]
     },
     "metadata": {},
     "execution_count": 28
    }
   ]
  },
  {
   "cell_type": "code",
   "source": [
    "y=dataset.target"
   ],
   "metadata": {
    "id": "K4j6wlw3P8u_"
   },
   "execution_count": null,
   "outputs": []
  },
  {
   "cell_type": "code",
   "source": [
    "y.shape"
   ],
   "metadata": {
    "colab": {
     "base_uri": "https://localhost:8080/"
    },
    "id": "9FRDZp_dQEjf",
    "outputId": "1dd07724-eb03-456e-a890-9c9bc56d6644"
   },
   "execution_count": null,
   "outputs": [
    {
     "output_type": "execute_result",
     "data": {
      "text/plain": [
       "(178,)"
      ]
     },
     "metadata": {},
     "execution_count": 30
    }
   ]
  },
  {
   "cell_type": "code",
   "source": [
    "from sklearn.model_selection import train_test_split\n",
    "x_train, x_test, y_train, y_test=train_test_split(x,y, test_size=0.3)"
   ],
   "metadata": {
    "id": "S8Mp5P1GQFtg"
   },
   "execution_count": null,
   "outputs": []
  },
  {
   "cell_type": "code",
   "source": [
    "x_train.shape"
   ],
   "metadata": {
    "colab": {
     "base_uri": "https://localhost:8080/"
    },
    "id": "1qCZUOp_QU8w",
    "outputId": "4a0a72df-3463-4ddd-a4a5-49b7de7114d6"
   },
   "execution_count": null,
   "outputs": [
    {
     "output_type": "execute_result",
     "data": {
      "text/plain": [
       "(124, 13)"
      ]
     },
     "metadata": {},
     "execution_count": 32
    }
   ]
  },
  {
   "cell_type": "code",
   "source": [
    "from sklearn.preprocessing import StandardScaler\n",
    "sc=StandardScaler()\n",
    "x_train_sc=sc.fit_transform(x_train)\n",
    "x_test_sc=sc.fit_transform(x_test)"
   ],
   "metadata": {
    "id": "EWAzJOAJQWwa"
   },
   "execution_count": null,
   "outputs": []
  },
  {
   "cell_type": "code",
   "source": [
    "from sklearn.svm import SVC\n",
    "svm1=SVC()\n",
    "svm1.fit(x_train_sc, y_train)"
   ],
   "metadata": {
    "colab": {
     "base_uri": "https://localhost:8080/"
    },
    "id": "6yxD2tRTQnVn",
    "outputId": "8c09c7bb-a96f-4ac0-f937-d86a5a7715aa"
   },
   "execution_count": null,
   "outputs": [
    {
     "output_type": "execute_result",
     "data": {
      "text/plain": [
       "SVC()"
      ]
     },
     "metadata": {},
     "execution_count": 34
    }
   ]
  },
  {
   "cell_type": "code",
   "source": [
    "train_pred=svm1.predict(x_train_sc)\n",
    "test_pred=svm1.predict(x_test_sc)"
   ],
   "metadata": {
    "id": "oEV841q2Rohx"
   },
   "execution_count": null,
   "outputs": []
  },
  {
   "cell_type": "code",
   "source": [
    "print(\"Trainig Accuracy: \", accuracy_score(train_pred, y_train))\n",
    "print(\"testing accuracy: \", accuracy_score(test_pred, y_test))"
   ],
   "metadata": {
    "colab": {
     "base_uri": "https://localhost:8080/"
    },
    "id": "ISYuRceZRzIZ",
    "outputId": "f9238ac2-cac8-4153-b620-f1bd0c9d28ee"
   },
   "execution_count": null,
   "outputs": [
    {
     "output_type": "stream",
     "name": "stdout",
     "text": [
      "Trainig Accuracy:  1.0\n",
      "testing accuracy:  0.9814814814814815\n"
     ]
    }
   ]
  },
  {
   "cell_type": "code",
   "source": [
    "from sklearn.discriminant_analysis import LinearDiscriminantAnalysis as LDA\n",
    "lda=LDA(n_components=2)"
   ],
   "metadata": {
    "id": "t2KK6qdkSAJ0"
   },
   "execution_count": null,
   "outputs": []
  },
  {
   "cell_type": "code",
   "source": [
    "x_train_lda=lda.fit_transform(x_train_sc, y_train)\n",
    "x_test_lda=lda.fit_transform(x_test_sc, y_test)"
   ],
   "metadata": {
    "id": "Mcn4auv0Si6G"
   },
   "execution_count": null,
   "outputs": []
  },
  {
   "cell_type": "code",
   "source": [
    "svm2=SVC()"
   ],
   "metadata": {
    "id": "9zRdpbRwSshA"
   },
   "execution_count": null,
   "outputs": []
  },
  {
   "cell_type": "code",
   "source": [
    "svm2.fit(x_train_lda, y_train)"
   ],
   "metadata": {
    "colab": {
     "base_uri": "https://localhost:8080/"
    },
    "id": "-zQCVgg7S1i6",
    "outputId": "fb615a6a-009b-49e1-ee5e-324e6509a965"
   },
   "execution_count": null,
   "outputs": [
    {
     "output_type": "execute_result",
     "data": {
      "text/plain": [
       "SVC()"
      ]
     },
     "metadata": {},
     "execution_count": 40
    }
   ]
  },
  {
   "cell_type": "code",
   "source": [
    "train_pred_lda=svm2.predict(x_train_lda)\n",
    "test_pred_lda=svm2.predict(x_test_lda)"
   ],
   "metadata": {
    "id": "2tgiUCoLS4p9"
   },
   "execution_count": null,
   "outputs": []
  },
  {
   "cell_type": "code",
   "source": [
    "print(\"Trainig Accuracy: \", accuracy_score(train_pred_lda, y_train))\n",
    "print(\"testing accuracy: \", accuracy_score(test_pred_lda, y_test))"
   ],
   "metadata": {
    "colab": {
     "base_uri": "https://localhost:8080/"
    },
    "id": "FwkB465oS_2v",
    "outputId": "cdde689b-e712-4cfe-e320-e12ab2290783"
   },
   "execution_count": null,
   "outputs": [
    {
     "output_type": "stream",
     "name": "stdout",
     "text": [
      "Trainig Accuracy:  1.0\n",
      "testing accuracy:  0.9814814814814815\n"
     ]
    }
   ]
  },
  {
   "cell_type": "code",
   "source": [
    "from sklearn.datasets import make_moons"
   ],
   "metadata": {
    "id": "UhRlcJ8ZTHc2"
   },
   "execution_count": null,
   "outputs": []
  },
  {
   "cell_type": "code",
   "source": [
    "x,y=make_moons(n_samples=100, \n",
    "               )"
   ],
   "metadata": {
    "id": "uTNzdzE3XkGt"
   },
   "execution_count": null,
   "outputs": []
  },
  {
   "cell_type": "code",
   "source": [
    "x.shape"
   ],
   "metadata": {
    "colab": {
     "base_uri": "https://localhost:8080/"
    },
    "id": "t8_NY02SXrUr",
    "outputId": "a01637ea-5184-4612-87d5-6c8eb87313b3"
   },
   "execution_count": null,
   "outputs": [
    {
     "output_type": "execute_result",
     "data": {
      "text/plain": [
       "(100, 2)"
      ]
     },
     "metadata": {},
     "execution_count": 45
    }
   ]
  },
  {
   "cell_type": "code",
   "source": [
    "import numpy as np"
   ],
   "metadata": {
    "id": "29ezmrNaXsb9"
   },
   "execution_count": null,
   "outputs": []
  },
  {
   "cell_type": "code",
   "source": [
    "np.unique(y)"
   ],
   "metadata": {
    "colab": {
     "base_uri": "https://localhost:8080/"
    },
    "id": "MdvBNbhTXw-q",
    "outputId": "cbe64d42-2cc9-41e1-89ea-c63d51ccfd29"
   },
   "execution_count": null,
   "outputs": [
    {
     "output_type": "execute_result",
     "data": {
      "text/plain": [
       "array([0, 1])"
      ]
     },
     "metadata": {},
     "execution_count": 47
    }
   ]
  },
  {
   "cell_type": "code",
   "source": [
    "import matplotlib.pyplot as plt"
   ],
   "metadata": {
    "id": "bb-1EuPgXy60"
   },
   "execution_count": null,
   "outputs": []
  },
  {
   "cell_type": "code",
   "source": [
    "plt.scatter(x[y==0,0], x[y==0,1], c='red', label='Class0')\n",
    "plt.scatter(x[y==1,0], x[y==1,1], c='blue', label='Class1')\n",
    "plt.legend()\n",
    "plt.show()"
   ],
   "metadata": {
    "colab": {
     "base_uri": "https://localhost:8080/",
     "height": 265
    },
    "id": "tjQXudIgX4xN",
    "outputId": "c18629dd-91e9-41f9-8ba6-5cf18d1c7b9b"
   },
   "execution_count": null,
   "outputs": [
    {
     "output_type": "display_data",
     "data": {
      "text/plain": [
       "<Figure size 432x288 with 1 Axes>"
      ],
      "image/png": "[encoded data removed]"
     },
     "metadata": {
      "needs_background": "light"
     }
    }
   ]
  },
  {
   "cell_type": "code",
   "source": [
    "from sklearn.model_selection import train_test_split\n",
    "x_train, x_test, y_train, y_test=train_test_split(x,y, test_size=0.3)"
   ],
   "metadata": {
    "id": "UiCI7yY8YUO9"
   },
   "execution_count": null,
   "outputs": []
  },
  {
   "cell_type": "code",
   "source": [
    "from sklearn.preprocessing import StandardScaler\n",
    "sc=StandardScaler()\n",
    "x_train_sc=sc.fit_transform(x_train)\n",
    "x_test_sc=sc.fit_transform(x_test)"
   ],
   "metadata": {
    "id": "JjqqPYmCY7Oh"
   },
   "execution_count": null,
   "outputs": []
  },
  {
   "cell_type": "code",
   "source": [
    "from sklearn.linear_model import LogisticRegression\n",
    "lr=LogisticRegression()\n",
    "lr.fit(x_train_sc, y_train)"
   ],
   "metadata": {
    "colab": {
     "base_uri": "https://localhost:8080/"
    },
    "id": "h8HPHv_pYqup",
    "outputId": "096bf197-9d99-41e9-f332-4944b6dc2fa7"
   },
   "execution_count": null,
   "outputs": [
    {
     "output_type": "execute_result",
     "data": {
      "text/plain": [
       "LogisticRegression()"
      ]
     },
     "metadata": {},
     "execution_count": 55
    }
   ]
  },
  {
   "cell_type": "code",
   "source": [
    "train_pred_lr=lr.predict(x_train_sc)\n",
    "test_pred_lr=lr.predict(x_test_sc)"
   ],
   "metadata": {
    "id": "94LOHNE0Y0Qg"
   },
   "execution_count": null,
   "outputs": []
  },
  {
   "cell_type": "code",
   "source": [
    ""
   ],
   "metadata": {
    "id": "z1Ei6BgHZ29N"
   },
   "execution_count": null,
   "outputs": []
  },
  {
   "cell_type": "code",
   "source": [
    "print(\"Training Accuracy: \", accuracy_score(train_pred_lr, y_train))\n",
    "print(\"Testing Accuracy: \", accuracy_score(test_pred_lr, y_test))"
   ],
   "metadata": {
    "colab": {
     "base_uri": "https://localhost:8080/"
    },
    "id": "iSewAUnCZVum",
    "outputId": "c4020866-e567-4ce3-e764-68bf33da0c19"
   },
   "execution_count": null,
   "outputs": [
    {
     "output_type": "stream",
     "name": "stdout",
     "text": [
      "Training Accuracy:  0.8714285714285714\n",
      "Testing Accuracy:  0.8333333333333334\n"
     ]
    }
   ]
  },
  {
   "cell_type": "code",
   "source": [
    "from sklearn.decomposition import KernelPCA\n",
    "kpca=KernelPCA(n_components=1, kernel='sigmoid')\n",
    "x_train_kpca=kpca.fit_transform(x_train_sc)\n",
    "x_test_kpca=kpca.fit_transform(x_test_sc)"
   ],
   "metadata": {
    "id": "9_DqRX8CZhcY"
   },
   "execution_count": null,
   "outputs": []
  },
  {
   "cell_type": "code",
   "source": [
    "lr1=LogisticRegression(penalty='l2')\n",
    "lr1.fit(x_train_kpca, y_train)"
   ],
   "metadata": {
    "colab": {
     "base_uri": "https://localhost:8080/"
    },
    "id": "vEFfC_lSZ6fd",
    "outputId": "1716be42-ca21-4e10-8971-0f19e71cefd1"
   },
   "execution_count": null,
   "outputs": [
    {
     "output_type": "execute_result",
     "data": {
      "text/plain": [
       "LogisticRegression()"
      ]
     },
     "metadata": {},
     "execution_count": 103
    }
   ]
  },
  {
   "cell_type": "code",
   "source": [
    "train_pred_kpca=lr1.predict(x_train_kpca)\n",
    "test_pred_kpca=lr1.predict(x_test_kpca)"
   ],
   "metadata": {
    "id": "a0EjKpTDaB79"
   },
   "execution_count": null,
   "outputs": []
  },
  {
   "cell_type": "code",
   "source": [
    "print(\"Training Accuracy: \", accuracy_score(train_pred_kpca, y_train))\n",
    "print(\"Testing Accuracy: \", accuracy_score(test_pred_kpca, y_test))"
   ],
   "metadata": {
    "colab": {
     "base_uri": "https://localhost:8080/"
    },
    "id": "FufoUMuDaLsJ",
    "outputId": "30e51ac0-8906-4bdf-aa1f-b44c510ba01c"
   },
   "execution_count": null,
   "outputs": [
    {
     "output_type": "stream",
     "name": "stdout",
     "text": [
      "Training Accuracy:  0.8428571428571429\n",
      "Testing Accuracy:  0.16666666666666666\n"
     ]
    }
   ]
  },
  {
   "cell_type": "code",
   "source": [
    "from sklearn.decomposition import PCA\n",
    "pca=PCA(n_components=2)\n",
    "x_train_pca=pca.fit_transform(x_train_sc)\n",
    "x_test_pca=pca.fit_transform(x_test_sc)"
   ],
   "metadata": {
    "id": "9kAF4d9paRQ3"
   },
   "execution_count": null,
   "outputs": []
  },
  {
   "cell_type": "code",
   "source": [
    "lr2=LogisticRegression()\n",
    "lr2.fit(x_train_pca, y_train)"
   ],
   "metadata": {
    "colab": {
     "base_uri": "https://localhost:8080/"
    },
    "id": "KiQdEj3jbODz",
    "outputId": "111631bc-d93b-448e-f8d7-1487392d82a7"
   },
   "execution_count": null,
   "outputs": [
    {
     "output_type": "execute_result",
     "data": {
      "text/plain": [
       "LogisticRegression()"
      ]
     },
     "metadata": {},
     "execution_count": 75
    }
   ]
  },
  {
   "cell_type": "code",
   "source": [
    "train_pred_pca=lr2.predict(x_train_pca)\n",
    "test_pred_pca=lr2.predict(x_test_pca)"
   ],
   "metadata": {
    "id": "XLfXTgEKbUnk"
   },
   "execution_count": null,
   "outputs": []
  },
  {
   "cell_type": "code",
   "source": [
    "print(\"Training Accuracy: \", accuracy_score(train_pred_pca, y_train))\n",
    "print(\"Testing Accuracy: \", accuracy_score(test_pred_pca, y_test))"
   ],
   "metadata": {
    "colab": {
     "base_uri": "https://localhost:8080/"
    },
    "id": "dUozBLQVbf7W",
    "outputId": "02eab686-8ce7-4f31-9767-e6fccd81b9e4"
   },
   "execution_count": null,
   "outputs": [
    {
     "output_type": "stream",
     "name": "stdout",
     "text": [
      "Training Accuracy:  0.8714285714285714\n",
      "Testing Accuracy:  0.1\n"
     ]
    }
   ]
  },
  {
   "cell_type": "code",
   "source": [
    "x_test"
   ],
   "metadata": {
    "colab": {
     "base_uri": "https://localhost:8080/"
    },
    "id": "ks2Z3Oi1bjmy",
    "outputId": "e0bed7c9-dceb-4edd-df54-b07ddb6b2e0e"
   },
   "execution_count": null,
   "outputs": [
    {
     "output_type": "execute_result",
     "data": {
      "text/plain": [
       "array([[ 0.48160743, -0.35514276],\n",
       "       [ 0.6234898 ,  0.78183148],\n",
       "       [ 2.        ,  0.5       ],\n",
       "       [-0.03205158,  0.99948622],\n",
       "       [ 1.6234898 , -0.28183148],\n",
       "       [ 0.51839257,  0.85514276],\n",
       "       [-0.67230089,  0.740278  ],\n",
       "       [-0.34536505,  0.93846842],\n",
       "       [-0.92691676,  0.375267  ],\n",
       "       [ 0.46253829,  0.88659931],\n",
       "       [ 0.42788334, -0.32017225],\n",
       "       [ 0.90096887,  0.43388374],\n",
       "       [ 0.28165065, -0.19568255],\n",
       "       [ 1.96729486,  0.24634542],\n",
       "       [ 0.1595999 ,  0.98718178],\n",
       "       [-0.46253829,  0.88659931],\n",
       "       [-0.99179001,  0.12787716],\n",
       "       [ 0.09602303,  0.99537911],\n",
       "       [ 0.09903113,  0.06611626],\n",
       "       [ 0.32769911, -0.240278  ],\n",
       "       [ 0.71547241, -0.45866785],\n",
       "       [ 1.94905575,  0.18489178],\n",
       "       [-0.96729486,  0.25365458],\n",
       "       [ 0.03205158,  0.99948622],\n",
       "       [ 0.98155916,  0.19115863],\n",
       "       [ 0.8713187 ,  0.49071755],\n",
       "       [ 0.94905575,  0.31510822],\n",
       "       [ 0.92691676,  0.375267  ],\n",
       "       [ 1.57211666, -0.32017225],\n",
       "       [ 0.40478334,  0.91441262]])"
      ]
     },
     "metadata": {},
     "execution_count": 78
    }
   ]
  },
  {
   "cell_type": "code",
   "source": [
    "x_test_kpca"
   ],
   "metadata": {
    "colab": {
     "base_uri": "https://localhost:8080/"
    },
    "id": "ymMLLCyUb4na",
    "outputId": "61a1cdc6-62c8-4a6e-963d-44ee510dcef7"
   },
   "execution_count": null,
   "outputs": [
    {
     "output_type": "execute_result",
     "data": {
      "text/plain": [
       "array([[-0.63219618,  0.32877042],\n",
       "       [ 0.42646488, -0.36543487],\n",
       "       [-0.25597778, -0.42257119],\n",
       "       [ 0.67923399,  0.0940677 ],\n",
       "       [-0.49627154, -0.09467463],\n",
       "       [ 0.52800261, -0.27537191],\n",
       "       [ 0.41437886,  0.47346739],\n",
       "       [ 0.61430071,  0.26892232],\n",
       "       [ 0.07924932,  0.6355839 ],\n",
       "       [ 0.56800607, -0.22999046],\n",
       "       [-0.62951767,  0.33388238],\n",
       "       [-0.10721228, -0.54260102],\n",
       "       [-0.58812166,  0.33198687],\n",
       "       [-0.35919936, -0.43113182],\n",
       "       [ 0.674036  , -0.01825211],\n",
       "       [ 0.56262923,  0.33793588],\n",
       "       [-0.07464842,  0.61686953],\n",
       "       [ 0.67980848,  0.02023681],\n",
       "       [-0.36165495,  0.27040755],\n",
       "       [-0.60839448,  0.33563382],\n",
       "       [-0.61106266,  0.28554313],\n",
       "       [-0.38104948, -0.41488653],\n",
       "       [-0.00503409,  0.63890913],\n",
       "       [ 0.68144551,  0.05761689],\n",
       "       [-0.41291515, -0.41540636],\n",
       "       [-0.02265773, -0.54302271],\n",
       "       [-0.26990357, -0.50415386],\n",
       "       [-0.19021496, -0.52982778],\n",
       "       [-0.50266246, -0.0572636 ],\n",
       "       [ 0.60113874, -0.18524486]])"
      ]
     },
     "metadata": {},
     "execution_count": 79
    }
   ]
  },
  {
   "cell_type": "code",
   "source": [
    "x_test_pca"
   ],
   "metadata": {
    "colab": {
     "base_uri": "https://localhost:8080/"
    },
    "id": "jMjYPGMwb_zZ",
    "outputId": "02b4bded-f71e-4ee9-89de-1a5d4a291dc5"
   },
   "execution_count": null,
   "outputs": [
    {
     "output_type": "execute_result",
     "data": {
      "text/plain": [
       "array([[ 1.10214596,  1.07496893],\n",
       "       [-0.46156889, -0.73254519],\n",
       "       [ 1.13890096, -1.49735983],\n",
       "       [-1.34746645, -0.49201312],\n",
       "       [ 1.9745182 , -0.01477773],\n",
       "       [-0.66055142, -0.75093708],\n",
       "       [-1.51325531,  0.44235098],\n",
       "       [-1.52619123, -0.1323652 ],\n",
       "       [-1.19086613,  1.20225161],\n",
       "       [-0.75517489, -0.74958504],\n",
       "       [ 1.00414306,  1.06928119],\n",
       "       [ 0.29267785, -0.45509617],\n",
       "       [ 0.69394433,  1.01035696],\n",
       "       [ 1.48685614, -1.09320678],\n",
       "       [-1.16456534, -0.6384305 ],\n",
       "       [-1.54996351,  0.04520359],\n",
       "       [-0.87983627,  1.62475446],\n",
       "       [-1.23134094, -0.59596071],\n",
       "       [ 0.14891669,  0.77912802],\n",
       "       [ 0.79962203,  1.03690869],\n",
       "       [ 1.45655387,  1.02752205],\n",
       "       [ 1.56229354, -0.98642874],\n",
       "       [-1.0452616 ,  1.41723863],\n",
       "       [-1.2923916 , -0.54708798],\n",
       "       [ 0.72176847, -0.16448542],\n",
       "       [ 0.18294499, -0.51388057],\n",
       "       [ 0.51008212, -0.32032053],\n",
       "       [ 0.40187313, -0.39048766],\n",
       "       [ 1.98722235,  0.0862019 ],\n",
       "       [-0.84603009, -0.74119878]])"
      ]
     },
     "metadata": {},
     "execution_count": 80
    }
   ]
  },
  {
   "cell_type": "code",
   "source": [
    "from sklearn.discriminant_analysis import LinearDiscriminantAnalysis as LDA\n",
    "lda=LDA()\n",
    "x_train_lda=lda.fit_transform(x_train_sc, y_train)\n",
    "x_test_lda=lda.fit_transform(x_test_sc, y_test)"
   ],
   "metadata": {
    "id": "LAoh1VLEcFpV"
   },
   "execution_count": null,
   "outputs": []
  },
  {
   "cell_type": "code",
   "source": [
    "lr3=LogisticRegression()\n",
    "lr3.fit(x_train_lda, y_train)\n",
    "lr3.fit(x_test_lda, y_test)"
   ],
   "metadata": {
    "colab": {
     "base_uri": "https://localhost:8080/"
    },
    "id": "YV-cBDhceZ-v",
    "outputId": "afcc62d7-67c8-472e-fe26-c591c6f40b1b"
   },
   "execution_count": null,
   "outputs": [
    {
     "output_type": "execute_result",
     "data": {
      "text/plain": [
       "LogisticRegression()"
      ]
     },
     "metadata": {},
     "execution_count": 109
    }
   ]
  },
  {
   "cell_type": "code",
   "source": [
    "train_pred_lda=lr3.predict(x_train_lda)\n",
    "test_pred_lda=lr3.predict(x_test_lda)"
   ],
   "metadata": {
    "id": "HnklL3jPen4m"
   },
   "execution_count": null,
   "outputs": []
  },
  {
   "cell_type": "code",
   "source": [
    "print(\"Training Accuracy: \", accuracy_score(train_pred_lda, y_train))\n",
    "print(\"Testing Accuracy: \", accuracy_score(test_pred_lda, y_test))"
   ],
   "metadata": {
    "colab": {
     "base_uri": "https://localhost:8080/"
    },
    "id": "YNBn8AAeeyIS",
    "outputId": "ba9f1222-e186-4763-9a62-426ef5cfd3cc"
   },
   "execution_count": null,
   "outputs": [
    {
     "output_type": "stream",
     "name": "stdout",
     "text": [
      "Training Accuracy:  0.8\n",
      "Testing Accuracy:  0.9333333333333333\n"
     ]
    }
   ]
  },
  {
   "cell_type": "code",
   "source": [
    ""
   ],
   "metadata": {
    "id": "jJv7JwNve429"
   },
   "execution_count": null,
   "outputs": []
  }
 ]
}